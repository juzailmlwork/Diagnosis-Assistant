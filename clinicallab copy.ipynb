{
 "cells": [
  {
   "cell_type": "markdown",
   "metadata": {},
   "source": [
    "loading required libraries"
   ]
  },
  {
   "cell_type": "code",
   "execution_count": 1,
   "metadata": {},
   "outputs": [
    {
     "name": "stderr",
     "output_type": "stream",
     "text": [
      "/home/jzlco/code/Diagnosis-Assistant/venv/lib/python3.10/site-packages/fpdf/__init__.py:39: UserWarning: You have both PyFPDF & fpdf2 installed. Both packages cannot be installed at the same time as they share the same module namespace. To only keep fpdf2, run: pip uninstall --yes pypdf && pip install --upgrade fpdf2\n",
      "  warnings.warn(\n"
     ]
    },
    {
     "data": {
      "text/plain": [
       "True"
      ]
     },
     "execution_count": 1,
     "metadata": {},
     "output_type": "execute_result"
    }
   ],
   "source": [
    "import pandas as pd\n",
    "pd.set_option('display.max_colwidth', 5000)\n",
    "import json\n",
    "from dotenv import load_dotenv\n",
    "from src.gpt import doctor_prompt_disease_restricted_gpt\n",
    "from src.utils import convert_string_to_list,convert_clinical_case_summary,filterDepartment,getDepartmentStatistics,convert_cases_to_json,PDF,select_case_components\n",
    "from src.ollama import doctor_prompt_disease_restricted_ollama,doctor_prompt_disease_restricted_ollama_combined\n",
    "load_dotenv()"
   ]
  },
  {
   "cell_type": "markdown",
   "metadata": {},
   "source": [
    "importing the dataset"
   ]
  },
  {
   "cell_type": "code",
   "execution_count": 2,
   "metadata": {},
   "outputs": [
    {
     "name": "stdout",
     "output_type": "stream",
     "text": [
      "\n",
      "number of total cases are 1500\n",
      "\n",
      "each case have the following fields ['id', 'clinical_case_uid', 'language', 'clinical_department', 'principal_diagnosis', 'preliminary_diagnosis', 'diagnostic_basis', 'differential_diagnosis', 'treatment_plan', 'clinical_case_summary', 'imageological_examination', 'laboratory_examination', 'pathological_examination', 'therapeutic_principle']\n",
      "number of departments available are 24\n",
      "\n",
      " all the departments available are\n",
      "clinical_department\n",
      "orthopedics department                              100\n",
      "anus and intestine surgical department              100\n",
      "hepatobiliary and pancreas surgical department       99\n",
      "urinary surgical department                          90\n",
      "endocrinology department                             80\n",
      "gynecology department                                80\n",
      "otolaryngology head and neck surgical department     80\n",
      "neurology department                                 80\n",
      "thoracic surgical department                         70\n",
      "respiratory medicine department                      70\n",
      "gastroenterology department                          70\n",
      "neurosurgery department                              70\n",
      "cardiac surgical department                          70\n",
      "nephrology department                                60\n",
      "gastrointestinal surgical department                 60\n",
      "pediatrics department                                60\n",
      "thyroid surgical department                          50\n",
      "hernia surgical department                           40\n",
      "breast surgical department                           40\n",
      "cardiovascular medicine department                   40\n",
      "vascular surgical department                         40\n",
      "hematology department                                30\n",
      "obstetrics department                                20\n",
      "Gastroenterology                                      1\n",
      "Name: count, dtype: int64\n"
     ]
    }
   ],
   "source": [
    "filePath=\"dataset/clinicallab/data_en.json\"\n",
    "with open(filePath, 'r', encoding='utf-8') as f:\n",
    "            data = json.load(f)\n",
    "print(\"\\nnumber of total cases are\",len(data))\n",
    "print(\"\\neach case have the following fields\",list(data[0].keys()))\n",
    "\n",
    "keys_to_include = [\"id\",'clinical_department', 'principal_diagnosis', 'preliminary_diagnosis',\n",
    "                   'diagnostic_basis', 'differential_diagnosis', \n",
    "                   'treatment_plan', 'clinical_case_summary', 'imageological_examination', \n",
    "                   'laboratory_examination', 'pathological_examination', 'therapeutic_principle']\n",
    "df = pd.DataFrame([{key: d[key] for key in keys_to_include} for d in data])\n",
    "\n",
    "allDepartments=df['clinical_department'].value_counts()\n",
    "print(\"number of departments available are\",len(allDepartments))\n",
    "\n",
    "print(\"\\n all the departments available are\")\n",
    "print(allDepartments)\n",
    "\n",
    "df['preliminary_diagnosis'] = df['preliminary_diagnosis'].apply(convert_string_to_list)\n",
    "df['diagnostic_basis'] = df['diagnostic_basis'].apply(convert_string_to_list)\n",
    "df['differential_diagnosis'] = df['differential_diagnosis'].apply(convert_string_to_list)\n",
    "df['treatment_plan'] = df['treatment_plan'].apply(convert_string_to_list)\n",
    "df[\"clinical_case_summary\"] = df[\"clinical_case_summary\"].apply(convert_clinical_case_summary)"
   ]
  },
  {
   "cell_type": "markdown",
   "metadata": {},
   "source": [
    "filtering the dataset"
   ]
  },
  {
   "cell_type": "code",
   "execution_count": 3,
   "metadata": {},
   "outputs": [
    {
     "name": "stdout",
     "output_type": "stream",
     "text": [
      "number of principal diagnosis are 8\n",
      "principal_diagnosis\n",
      "ovarian cyst             10\n",
      "endometrial polyp        10\n",
      "endometrial cancer       10\n",
      "uterine fibroid          10\n",
      "adenomyosis              10\n",
      "cervical polyp           10\n",
      "cervical cancer          10\n",
      "heterotopic pregnancy    10\n",
      "Name: count, dtype: int64\n",
      "number of preliminary_diagnosis are 8\n"
     ]
    }
   ],
   "source": [
    "department=\"gynecology department\"#\"respiratory medicine department\"#\"nephrology department\"##\"pediatrics department\"#\"gynecology department\"\n",
    "departmentdf=filterDepartment(df,department)\n",
    "# departmentdf.to_json(f\"dataset/clinicallab/department/{department}.json\", orient='records', lines=False, indent=4)\n",
    "getDepartmentStatistics(departmentdf)"
   ]
  },
  {
   "cell_type": "code",
   "execution_count": 4,
   "metadata": {},
   "outputs": [
    {
     "name": "stdout",
     "output_type": "stream",
     "text": [
      "number of unique diseases are 46\n",
      "['Endometrial Lesion', 'endometrial polyp', 'cervical polyp', 'Vaginal Wall Mass', 'Cervical lesion', 'endometrial cancer', 'adenomyosis', 'cervical cancer', 'Vaginal wall mass', 'Ovarian tumor', 'Cervical cancer', 'Uterine Leiomyoma', 'Appendicitis', 'Uterine Sarcoma', 'Uterine Adenomyoma', 'Gastric cancer', 'Endometrial lesion', 'Atrophic vaginitis', 'Uterine adenomyoma', 'Endometrial Lesions', 'Endometrial lesions', \"Meniere's Disease\", 'Complete Abortion', 'Endometrial cancer', 'Miscarriage', 'Endometrial polyps', 'Adenomyosis', 'Acute appendicitis', 'ovarian cyst', 'Uterine sarcoma', 'Ovarian Tumor', 'uterine fibroid', 'Ectopic Pregnancy', 'Hydrosalpinx', 'Acute Appendicitis', 'Uterine leiomyoma', 'Hemolytic Anemia', 'Cervical Lesions', 'heterotopic pregnancy', 'Endometrial Cancer', 'Cervical lesions', 'Uterine fibroids', 'Acute salpingitis', 'Acute Salpingitis', 'Incomplete Abortion', 'Chronic cervicitis']\n"
     ]
    }
   ],
   "source": [
    "# Function to extract disease names from a single row\n",
    "def extract_disease_names_from_row(differential_diagnosis_list):\n",
    "    disease=[entry.split(\":\")[0].strip() for entry in differential_diagnosis_list]\n",
    "    return disease\n",
    "\n",
    "# Apply the function to each row and combine all lists into one\n",
    "differential_diseases = departmentdf[\"differential_diagnosis\"].apply(extract_disease_names_from_row).sum()\n",
    "refined_differential_diseases=[]\n",
    "for disease in differential_diseases:\n",
    "    if len(disease) <20:\n",
    "        refined_differential_diseases.append(disease)\n",
    "uniqueDiseases=departmentdf[\"principal_diagnosis\"].unique().tolist()\n",
    "uniquePrimary=uniqueDiseases[:]\n",
    "uniqueDiseases.extend(refined_differential_diseases)\n",
    "uniqueDiseases=list(set(uniqueDiseases))\n",
    "print(\"number of unique diseases are\",len(uniqueDiseases))\n",
    "print(uniqueDiseases)"
   ]
  },
  {
   "cell_type": "code",
   "execution_count": 5,
   "metadata": {},
   "outputs": [],
   "source": [
    "required_fields=[ \"Patient basic information\",\n",
    "                 \"Chief complaint\",\n",
    "                 \"Medical history\",\n",
    "                 \"Physical examination\",\n",
    "                 \"Laboratory examination\",\n",
    "                 \"Imageological examination\",\n",
    "                 \"Auxillary examination\",\n",
    "                 \"Pathological examination\"\n",
    "    \n",
    "]\n",
    "departments=[\"respiratory medicine department\",\n",
    "             \"nephrology department\",\n",
    "             \"pediatrics department\",\n",
    "             \"gynecology department\",\n",
    "             \"endocrinology department\",   \n",
    "             \"neurology department\",\n",
    "             \"cardiac surgical department\",                          \n",
    "             \"gastrointestinal surgical department\" ]\n",
    "departments=[\"nephrology department\"]\n",
    "models = [\"llama3.1\", \"gemma2\", \"phi3:14b\", \"mistral-nemo\"]#\"mistral\"\n",
    "laboratory=\"result\"#\"result\"#abnormal\n",
    "image=\"findings\"#\"findings\"#impression\n"
   ]
  },
  {
   "cell_type": "code",
   "execution_count": 6,
   "metadata": {},
   "outputs": [
    {
     "name": "stdout",
     "output_type": "stream",
     "text": [
      "department is nephrology department\n",
      "[1, 11, 21, 31, 41, 51]\n",
      "number of principal diagnosis are 6\n",
      "principal_diagnosis\n",
      "acute pyelonephritis       10\n",
      "acute renal failure        10\n",
      "chronic kidney disease     10\n",
      "urinary tract infection    10\n",
      "glomerulonephritis         10\n",
      "nephrotic syndrome         10\n",
      "Name: count, dtype: int64\n",
      "number of preliminary_diagnosis are 6\n",
      "started model  llama3.1\n"
     ]
    }
   ],
   "source": [
    "report_type=f\"{laboratory}_{image}\"\n",
    "for department in departments:\n",
    "    print(\"department is\",department)\n",
    "    departmentdf=filterDepartment(df,department)\n",
    "    caseNumbers = [i for i in range(1, len(departmentdf), 10)]\n",
    "    # caseNumbers=[1]#,11,21]#31,41,51,61]\n",
    "    print(caseNumbers)\n",
    "    row=departmentdf\n",
    "    pdf = PDF()\n",
    "    pdf.set_left_margin(10)\n",
    "    pdf.set_right_margin(10)\n",
    "    getDepartmentStatistics(departmentdf)\n",
    "    for caseNumber in caseNumbers:\n",
    "        case_id,principal_diagnosis,differential_diagnosis,clinical_case_dict,filtered_clinical_case_dict=select_case_components(departmentdf,caseNumber,required_fields,laboratory,image)\n",
    "         # (\"gpt-4\", doctor_prompt_disease_restricted_gpt(filtered_clinical_case_dict, \"gpt-4\", uniquePrimary, department)),\n",
    "        diagnoses = [(model_name, doctor_prompt_disease_restricted_ollama(filtered_clinical_case_dict, model_name, differential_diagnosis, department)) for model_name in models]\n",
    "        pdf.add_case(case_id, principal_diagnosis, differential_diagnosis, clinical_case_dict, diagnoses)\n",
    "        print(\"done for caseid\",case_id)\n",
    "    # # Output the PDF to a file\n",
    "    pdf_file_path = f\"./medical-reports/{department}_{report_type}.pdf\"\n",
    "    pdf.output(pdf_file_path)\n",
    "\n",
    "    print(f\"PDF report generated: {pdf_file_path}\")"
   ]
  },
  {
   "cell_type": "code",
   "execution_count": null,
   "metadata": {},
   "outputs": [],
   "source": []
  }
 ],
 "metadata": {
  "kernelspec": {
   "display_name": "venv",
   "language": "python",
   "name": "python3"
  },
  "language_info": {
   "codemirror_mode": {
    "name": "ipython",
    "version": 3
   },
   "file_extension": ".py",
   "mimetype": "text/x-python",
   "name": "python",
   "nbconvert_exporter": "python",
   "pygments_lexer": "ipython3",
   "version": "3.10.14"
  }
 },
 "nbformat": 4,
 "nbformat_minor": 2
}
