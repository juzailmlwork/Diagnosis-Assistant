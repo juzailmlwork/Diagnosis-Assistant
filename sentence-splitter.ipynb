{
 "cells": [
  {
   "cell_type": "code",
   "execution_count": 1,
   "metadata": {},
   "outputs": [],
   "source": [
    "import nltk\n",
    "# nltk.download('punkt')"
   ]
  },
  {
   "cell_type": "code",
   "execution_count": 2,
   "metadata": {},
   "outputs": [],
   "source": [
    "paragraph = \"Pulmonary findings on physical examination and imaging, along with positive respiratory syncytial virus test, suggest that pneumonia is the most likely diagnosis. The patient's symptoms of fever, cough, labored breathing, and hoarseness support this diagnosis.\""
   ]
  },
  {
   "cell_type": "code",
   "execution_count": 3,
   "metadata": {},
   "outputs": [
    {
     "name": "stdout",
     "output_type": "stream",
     "text": [
      "Pulmonary findings on physical examination and imaging, along with positive respiratory syncytial virus test, suggest that pneumonia is the most likely diagnosis.\n",
      "The patient's symptoms of fever, cough, labored breathing, and hoarseness support this diagnosis.\n"
     ]
    }
   ],
   "source": [
    "\n",
    "sentences = nltk.sent_tokenize(paragraph)\n",
    "\n",
    "for sentence in sentences:\n",
    "    print(sentence)"
   ]
  },
  {
   "cell_type": "code",
   "execution_count": 4,
   "metadata": {},
   "outputs": [],
   "source": [
    "import spacy"
   ]
  },
  {
   "cell_type": "code",
   "execution_count": 5,
   "metadata": {},
   "outputs": [
    {
     "name": "stdout",
     "output_type": "stream",
     "text": [
      "Pulmonary findings on physical examination and imaging, along with positive respiratory syncytial virus test, suggest that pneumonia is the most likely diagnosis.\n",
      "The patient's symptoms of fever, cough, labored breathing, and hoarseness support this diagnosis.\n"
     ]
    }
   ],
   "source": [
    "nlp = spacy.load(\"en_core_web_sm\")\n",
    "doc = nlp(paragraph)\n",
    "\n",
    "sentences = [sent.text for sent in doc.sents]\n",
    "\n",
    "for sentence in sentences:\n",
    "    print(sentence)"
   ]
  },
  {
   "cell_type": "code",
   "execution_count": 6,
   "metadata": {},
   "outputs": [
    {
     "name": "stderr",
     "output_type": "stream",
     "text": [
      "/home/jzlco/code/Diagnosis-Assistant/venv/lib/python3.10/site-packages/torch/hub.py:295: UserWarning: You are about to download and run code from an untrusted repository. In a future release, this won't be allowed. To add the repository to your trusted list, change the command to {calling_fn}(..., trust_repo=False) and a command prompt will appear asking for an explicit confirmation of trust, or load(..., trust_repo=True), which will assume that the prompt is to be answered with 'yes'. You can also use load(..., trust_repo='check') which will only prompt for confirmation if the repo is not already trusted. This will eventually be the default behaviour\n",
      "  warnings.warn(\n",
      "Downloading: \"https://github.com/snakers4/silero-models/zipball/master\" to /home/jzlco/.cache/torch/hub/master.zip\n",
      "100%|██████████| 87.5M/87.5M [00:04<00:00, 20.2MB/s]\n"
     ]
    }
   ],
   "source": [
    "import torch\n",
    "\n",
    "model, example_texts, languages, punct, apply_te = torch.hub.load(repo_or_dir='snakers4/silero-models', model='silero_te')\n",
    "\n"
   ]
  },
  {
   "cell_type": "code",
   "execution_count": 7,
   "metadata": {},
   "outputs": [
    {
     "data": {
      "text/plain": [
       "\"Pulmonary findings on physical examination and imaging, along with positive respiratory syncytial virus test, suggest that pneumonia is the most likely diagnosis. The patient's symptoms of fever, cough, labored breathing, and hoarseness support this diagnosis..\""
      ]
     },
     "execution_count": 7,
     "metadata": {},
     "output_type": "execute_result"
    }
   ],
   "source": [
    "# paragraph = \"The paragraph you want to split into sentences.\"\n",
    "\n",
    "apply_te(paragraph, lan='en')"
   ]
  },
  {
   "cell_type": "code",
   "execution_count": 8,
   "metadata": {},
   "outputs": [
    {
     "name": "stdout",
     "output_type": "stream",
     "text": [
      "Pulmonary findings on physical examination and imaging, along with a positive respiratory syncytial virus test\n",
      "suggest that pneumonia is the most likely diagnosis\n",
      "\n",
      "The patient's symptoms of fever, cough, labored breathing, and hoarseness support this diagnosis.\n",
      "\n"
     ]
    }
   ],
   "source": [
    "import spacy\n",
    "\n",
    "# Load the English model\n",
    "nlp = spacy.load(\"en_core_web_sm\")\n",
    "\n",
    "def split_complex_sentence(text):\n",
    "    doc = nlp(text)\n",
    "    sentences = []\n",
    "    \n",
    "    for sent in doc.sents:\n",
    "        # Dependency parsing to break down sentences\n",
    "        clauses = []\n",
    "        for token in sent:\n",
    "            if token.dep_ in ('cc', 'punct') and token.head.dep_ == 'ROOT':\n",
    "                # Split at conjunctions and punctuations\n",
    "                clauses.append(token.i)\n",
    "        \n",
    "        start = 0\n",
    "        for index in clauses:\n",
    "            sentences.append(sent[start:index].text.strip())\n",
    "            start = index + 1\n",
    "        \n",
    "        # Add the remaining part of the sentence\n",
    "        sentences.append(sent[start:].text.strip())\n",
    "    \n",
    "    return sentences\n",
    "\n",
    "# Test the function\n",
    "text = (\"Pulmonary findings on physical examination and imaging, \"\n",
    "        \"along with a positive respiratory syncytial virus test, \"\n",
    "        \"suggest that pneumonia is the most likely diagnosis. \"\n",
    "        \"The patient's symptoms of fever, cough, labored breathing, \"\n",
    "        \"and hoarseness support this diagnosis.\")\n",
    "\n",
    "result = split_complex_sentence(text)\n",
    "for sentence in result:\n",
    "    print(sentence)\n"
   ]
  },
  {
   "cell_type": "code",
   "execution_count": null,
   "metadata": {},
   "outputs": [],
   "source": []
  }
 ],
 "metadata": {
  "kernelspec": {
   "display_name": "venv",
   "language": "python",
   "name": "python3"
  },
  "language_info": {
   "codemirror_mode": {
    "name": "ipython",
    "version": 3
   },
   "file_extension": ".py",
   "mimetype": "text/x-python",
   "name": "python",
   "nbconvert_exporter": "python",
   "pygments_lexer": "ipython3",
   "version": "3.10.14"
  }
 },
 "nbformat": 4,
 "nbformat_minor": 2
}
