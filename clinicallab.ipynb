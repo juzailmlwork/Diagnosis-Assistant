{
 "cells": [
  {
   "cell_type": "markdown",
   "metadata": {},
   "source": [
    "loading required libraries"
   ]
  },
  {
   "cell_type": "code",
   "execution_count": null,
   "metadata": {},
   "outputs": [],
   "source": [
    "import pandas as pd\n",
    "pd.set_option('display.max_colwidth', 5000)\n",
    "import json\n",
    "import re"
   ]
  },
  {
   "cell_type": "markdown",
   "metadata": {},
   "source": [
    "importing the dataset"
   ]
  },
  {
   "cell_type": "code",
   "execution_count": null,
   "metadata": {},
   "outputs": [],
   "source": [
    "filePath=\"dataset\\clinicallab\\data_en.json\"\n",
    "with open(filePath, 'r', encoding='utf-8') as f:\n",
    "            data = json.load(f)\n",
    "print(\"number of total cases are\",len(data))\n",
    "print(\"each case have the following fields\",list(data[0].keys()))"
   ]
  },
  {
   "cell_type": "markdown",
   "metadata": {},
   "source": [
    "filtering the dataset"
   ]
  },
  {
   "cell_type": "code",
   "execution_count": null,
   "metadata": {},
   "outputs": [],
   "source": [
    "\n",
    "keys_to_include = ['clinical_department', 'principal_diagnosis', 'preliminary_diagnosis', 'diagnostic_basis', 'differential_diagnosis', 'treatment_plan', 'clinical_case_summary', 'imageological_examination', 'laboratory_examination', 'pathological_examination', 'therapeutic_principle']\n",
    "df = pd.DataFrame([{key: d[key] for key in keys_to_include} for d in data])"
   ]
  },
  {
   "cell_type": "code",
   "execution_count": null,
   "metadata": {},
   "outputs": [],
   "source": [
    "allDepartments=df['clinical_department'].value_counts()\n",
    "print(\"number of departments available are\",len(allDepartments))\n",
    "\n",
    "print(allDepartments)"
   ]
  },
  {
   "cell_type": "code",
   "execution_count": null,
   "metadata": {},
   "outputs": [],
   "source": [
    "def filterDepartment(df,department):\n",
    "    allDepartments=df[\"clinical_department\"].unique().tolist()\n",
    "    if department in allDepartments:\n",
    "        departmentdf=df[df[\"clinical_department\"]==department]\n",
    "    else:\n",
    "        raise Exception\n",
    "    return departmentdf\n",
    "\n",
    "def extractList(s):\n",
    "    pattern = r'\\d+\\.\\s*'\n",
    "    conditions = re.split(pattern, s)\n",
    "    \n",
    "    # If there's only one condition, it means no pattern was matched\n",
    "    if len(conditions) == 1:\n",
    "        return [s.strip()]\n",
    "    \n",
    "    # Remove any empty string that might result from the split\n",
    "    return [condition.strip() for condition in conditions if condition.strip()]\n",
    "\n",
    "def extract_information(text):\n",
    "    sections = [\n",
    "        \"Patient Basic Information\",\n",
    "        \"Chief Complaint\",\n",
    "        \"Medical History\",\n",
    "        \"Physical Examination\",\n",
    "        \"Auxiliary Examination\",\n",
    "        \"Imaging Examination\",\n",
    "        \"Laboratory Examination\",\n",
    "        \"Pathological Examination\"\n",
    "    ]\n",
    "    \n",
    "    # Create a regex pattern to match each section\n",
    "    pattern = r'(' + '|'.join(re.escape(section) for section in sections) + r'):\\s*'\n",
    "    \n",
    "    # Split the text based on the pattern\n",
    "    matches = re.split(pattern, text)\n",
    "    \n",
    "    # The first element is the text before the first match (Case Summary), so we skip it\n",
    "    matches = matches[1:]\n",
    "    \n",
    "    # Create the dictionary by pairing section names with their content\n",
    "    result = {}\n",
    "    for i in range(0, len(matches), 2):\n",
    "        section = matches[i].strip()\n",
    "        content = matches[i+1].strip()\n",
    "        result[section] = content\n",
    "    \n",
    "    return result\n"
   ]
  },
  {
   "cell_type": "code",
   "execution_count": null,
   "metadata": {},
   "outputs": [],
   "source": [
    "\n",
    "df['preliminary_diagnosis'] = df['preliminary_diagnosis'].apply(extractList)\n",
    "df['diagnostic_basis'] = df['diagnostic_basis'].apply(extractList)\n",
    "df['differential_diagnosis'] = df['differential_diagnosis'].apply(extractList)\n",
    "df['treatment_plan'] = df['treatment_plan'].apply(extractList)\n",
    "df[\"clinical_case_summary\"] = df[\"clinical_case_summary\"].apply(extract_information)"
   ]
  },
  {
   "cell_type": "code",
   "execution_count": null,
   "metadata": {},
   "outputs": [],
   "source": [
    "def getDepartmentStatistics(df):\n",
    "    prinicipal_diagnosis=df[\"principal_diagnosis\"].value_counts()\n",
    "    print(\"number of principal diagnosis are\",len(prinicipal_diagnosis))\n",
    "    print(prinicipal_diagnosis)\n",
    "    preliminary_diagnosis=df[\"preliminary_diagnosis\"].value_counts()\n",
    "    print(\"number of preliminary_diagnosis are\",len(prinicipal_diagnosis))\n",
    "    print(preliminary_diagnosis)"
   ]
  },
  {
   "cell_type": "code",
   "execution_count": null,
   "metadata": {},
   "outputs": [],
   "source": [
    "departmentdf=filterDepartment(df,\"neurosurgery department\")"
   ]
  },
  {
   "cell_type": "code",
   "execution_count": null,
   "metadata": {},
   "outputs": [],
   "source": [
    "getDepartmentStatistics(departmentdf)"
   ]
  },
  {
   "cell_type": "code",
   "execution_count": null,
   "metadata": {},
   "outputs": [],
   "source": [
    "from llm import doctor_prompt\n",
    "from openai import OpenAI\n",
    "from dotenv import load_dotenv\n",
    "load_dotenv()"
   ]
  },
  {
   "cell_type": "code",
   "execution_count": null,
   "metadata": {},
   "outputs": [],
   "source": [
    "client = OpenAI()"
   ]
  },
  {
   "cell_type": "code",
   "execution_count": null,
   "metadata": {},
   "outputs": [],
   "source": [
    "caseNumber=20#68\n",
    "doctor=\"cardiologist\"\n",
    "row= departmentdf.iloc[caseNumber][['principal_diagnosis',\"clinical_case_summary\",'differential_diagnosis']]\n",
    "medicalHistory=row.clinical_case_summary\n",
    "principalDiagnosis=row.principal_diagnosis\n",
    "differentialDiagnosis=row.differential_diagnosis"
   ]
  },
  {
   "cell_type": "code",
   "execution_count": null,
   "metadata": {},
   "outputs": [],
   "source": [
    "print(\"the principal diagnosis is\",principalDiagnosis)\n",
    "print(\"differential diagnosis is\",differentialDiagnosis)\n",
    "doctor_prompt(client,medicalHistory,doctor)"
   ]
  },
  {
   "cell_type": "code",
   "execution_count": null,
   "metadata": {},
   "outputs": [],
   "source": []
  }
 ],
 "metadata": {
  "kernelspec": {
   "display_name": "venv",
   "language": "python",
   "name": "python3"
  },
  "language_info": {
   "codemirror_mode": {
    "name": "ipython",
    "version": 3
   },
   "file_extension": ".py",
   "mimetype": "text/x-python",
   "name": "python",
   "nbconvert_exporter": "python",
   "pygments_lexer": "ipython3",
   "version": "3.10.11"
  }
 },
 "nbformat": 4,
 "nbformat_minor": 2
}
