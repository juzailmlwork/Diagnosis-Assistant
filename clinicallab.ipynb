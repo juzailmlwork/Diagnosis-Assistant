{
 "cells": [
  {
   "cell_type": "markdown",
   "metadata": {},
   "source": [
    "loading required libraries"
   ]
  },
  {
   "cell_type": "code",
   "execution_count": 1,
   "metadata": {},
   "outputs": [
    {
     "data": {
      "text/plain": [
       "True"
      ]
     },
     "execution_count": 1,
     "metadata": {},
     "output_type": "execute_result"
    }
   ],
   "source": [
    "import pandas as pd\n",
    "pd.set_option('display.max_colwidth', 5000)\n",
    "import json\n",
    "from dotenv import load_dotenv\n",
    "from src.llm import doctor_prompt_disease_restricted_output_parser\n",
    "from src.utils import convert_string_to_list,convert_clinical_case_summary,filterDepartment,getDepartmentStatistics,convert_cases_to_json\n",
    "from src.ollama2 import doctor_prompt_disease_restricted_output_parser_ollama\n",
    "load_dotenv()"
   ]
  },
  {
   "cell_type": "markdown",
   "metadata": {},
   "source": [
    "importing the dataset"
   ]
  },
  {
   "cell_type": "code",
   "execution_count": 2,
   "metadata": {},
   "outputs": [
    {
     "name": "stdout",
     "output_type": "stream",
     "text": [
      "number of total cases are 1500\n",
      "each case have the following fields ['id', 'clinical_case_uid', 'language', 'clinical_department', 'principal_diagnosis', 'preliminary_diagnosis', 'diagnostic_basis', 'differential_diagnosis', 'treatment_plan', 'clinical_case_summary', 'imageological_examination', 'laboratory_examination', 'pathological_examination', 'therapeutic_principle']\n"
     ]
    }
   ],
   "source": [
    "filePath=\"dataset/clinicallab/data_en.json\"\n",
    "with open(filePath, 'r', encoding='utf-8') as f:\n",
    "            data = json.load(f)\n",
    "print(\"number of total cases are\",len(data))\n",
    "print(\"each case have the following fields\",list(data[0].keys()))"
   ]
  },
  {
   "cell_type": "markdown",
   "metadata": {},
   "source": [
    "filtering the dataset"
   ]
  },
  {
   "cell_type": "code",
   "execution_count": 3,
   "metadata": {},
   "outputs": [],
   "source": [
    "\n",
    "keys_to_include = [\"id\",'clinical_department', 'principal_diagnosis', 'preliminary_diagnosis', 'diagnostic_basis', 'differential_diagnosis', 'treatment_plan', 'clinical_case_summary', 'imageological_examination', 'laboratory_examination', 'pathological_examination', 'therapeutic_principle']\n",
    "df = pd.DataFrame([{key: d[key] for key in keys_to_include} for d in data])"
   ]
  },
  {
   "cell_type": "code",
   "execution_count": 4,
   "metadata": {},
   "outputs": [
    {
     "name": "stdout",
     "output_type": "stream",
     "text": [
      "number of departments available are 24\n",
      "clinical_department\n",
      "orthopedics department                              100\n",
      "anus and intestine surgical department              100\n",
      "hepatobiliary and pancreas surgical department       99\n",
      "urinary surgical department                          90\n",
      "endocrinology department                             80\n",
      "gynecology department                                80\n",
      "otolaryngology head and neck surgical department     80\n",
      "neurology department                                 80\n",
      "thoracic surgical department                         70\n",
      "respiratory medicine department                      70\n",
      "gastroenterology department                          70\n",
      "neurosurgery department                              70\n",
      "cardiac surgical department                          70\n",
      "nephrology department                                60\n",
      "gastrointestinal surgical department                 60\n",
      "pediatrics department                                60\n",
      "thyroid surgical department                          50\n",
      "hernia surgical department                           40\n",
      "breast surgical department                           40\n",
      "cardiovascular medicine department                   40\n",
      "vascular surgical department                         40\n",
      "hematology department                                30\n",
      "obstetrics department                                20\n",
      "Gastroenterology                                      1\n",
      "Name: count, dtype: int64\n"
     ]
    }
   ],
   "source": [
    "allDepartments=df['clinical_department'].value_counts()\n",
    "print(\"number of departments available are\",len(allDepartments))\n",
    "\n",
    "print(allDepartments)"
   ]
  },
  {
   "cell_type": "code",
   "execution_count": 5,
   "metadata": {},
   "outputs": [],
   "source": [
    "\n",
    "df['preliminary_diagnosis'] = df['preliminary_diagnosis'].apply(convert_string_to_list)\n",
    "df['diagnostic_basis'] = df['diagnostic_basis'].apply(convert_string_to_list)\n",
    "df['differential_diagnosis'] = df['differential_diagnosis'].apply(convert_string_to_list)\n",
    "df['treatment_plan'] = df['treatment_plan'].apply(convert_string_to_list)\n",
    "df[\"clinical_case_summary\"] = df[\"clinical_case_summary\"].apply(convert_clinical_case_summary)"
   ]
  },
  {
   "cell_type": "code",
   "execution_count": 23,
   "metadata": {},
   "outputs": [],
   "source": [
    "department=\"gynecology department\"#\"nephrology department\"\n",
    "departmentdf=filterDepartment(df,department)\n",
    "departmentdf.to_json(f\"dataset/clinicallab/department/{department}.json\", orient='records', lines=False, indent=4)"
   ]
  },
  {
   "cell_type": "code",
   "execution_count": 24,
   "metadata": {},
   "outputs": [
    {
     "name": "stdout",
     "output_type": "stream",
     "text": [
      "number of principal diagnosis are 8\n",
      "principal_diagnosis\n",
      "ovarian cyst             10\n",
      "endometrial polyp        10\n",
      "endometrial cancer       10\n",
      "uterine fibroid          10\n",
      "adenomyosis              10\n",
      "cervical polyp           10\n",
      "cervical cancer          10\n",
      "heterotopic pregnancy    10\n",
      "Name: count, dtype: int64\n",
      "number of preliminary_diagnosis are 8\n"
     ]
    }
   ],
   "source": [
    "getDepartmentStatistics(departmentdf)"
   ]
  },
  {
   "cell_type": "code",
   "execution_count": 25,
   "metadata": {},
   "outputs": [
    {
     "name": "stdout",
     "output_type": "stream",
     "text": [
      "number of unique diseases are 46\n",
      "['endometrial polyp', 'cervical polyp', 'Endometrial Cancer', 'heterotopic pregnancy', 'Endometrial cancer', 'Ovarian Tumor', 'Acute Appendicitis', 'Hydrosalpinx', 'Cervical lesions', 'Endometrial lesions', 'Gastric cancer', 'Acute appendicitis', 'Endometrial Lesion', 'Acute salpingitis', 'Uterine Sarcoma', 'Vaginal wall mass', 'Complete Abortion', 'Miscarriage', 'Cervical Lesions', 'Hemolytic Anemia', 'Cervical lesion', 'Ovarian tumor', 'Acute Salpingitis', 'Chronic cervicitis', 'Uterine Adenomyoma', 'endometrial cancer', 'Incomplete Abortion', 'Uterine fibroids', 'Ectopic Pregnancy', 'Endometrial Lesions', \"Meniere's Disease\", 'Cervical cancer', 'Atrophic vaginitis', 'Appendicitis', 'Endometrial polyps', 'uterine fibroid', 'Uterine leiomyoma', 'Uterine sarcoma', 'Vaginal Wall Mass', 'Uterine adenomyoma', 'adenomyosis', 'ovarian cyst', 'cervical cancer', 'Uterine Leiomyoma', 'Adenomyosis', 'Endometrial lesion']\n"
     ]
    }
   ],
   "source": [
    "# Function to extract disease names from a single row\n",
    "def extract_disease_names_from_row(differential_diagnosis_list):\n",
    "    disease=[entry.split(\":\")[0].strip() for entry in differential_diagnosis_list]\n",
    "    return disease\n",
    "\n",
    "# Apply the function to each row and combine all lists into one\n",
    "differential_diseases = departmentdf[\"differential_diagnosis\"].apply(extract_disease_names_from_row).sum()\n",
    "refined_differential_diseases=[]\n",
    "for disease in differential_diseases:\n",
    "    if len(disease) <20:\n",
    "        refined_differential_diseases.append(disease)\n",
    "uniqueDiseases=departmentdf[\"principal_diagnosis\"].unique().tolist()\n",
    "uniquePrimary=uniqueDiseases[:]\n",
    "uniqueDiseases.extend(refined_differential_diseases)\n",
    "uniqueDiseases=list(set(uniqueDiseases))\n",
    "print(\"number of unique diseases are\",len(uniqueDiseases))\n",
    "print(uniqueDiseases)"
   ]
  },
  {
   "cell_type": "code",
   "execution_count": 26,
   "metadata": {},
   "outputs": [
    {
     "name": "stdout",
     "output_type": "stream",
     "text": [
      "False\n",
      "False\n"
     ]
    }
   ],
   "source": [
    "disease=\"Syncope\"\n",
    "print(disease in refined_differential_diseases)\n",
    "print(disease in uniquePrimary)"
   ]
  },
  {
   "cell_type": "code",
   "execution_count": 27,
   "metadata": {},
   "outputs": [
    {
     "name": "stdout",
     "output_type": "stream",
     "text": [
      "False\n"
     ]
    }
   ],
   "source": [
    "print(disease in uniqueDiseases)"
   ]
  },
  {
   "cell_type": "code",
   "execution_count": 28,
   "metadata": {},
   "outputs": [],
   "source": [
    "doctor=\"doctor\"\n",
    "model=\"gpt-4\""
   ]
  },
  {
   "cell_type": "code",
   "execution_count": 34,
   "metadata": {},
   "outputs": [
    {
     "name": "stdout",
     "output_type": "stream",
     "text": [
      "the case id is 300\n",
      "\n",
      "the principal diagnosis is endometrial cancer\n",
      "\n",
      "differential diagnosis is ['Endometrial Hyperplasia: The patient has abnormal menstrual changes, and the endometrium is thickened. This diagnosis cannot be ruled out. Further hysteroscopy and curettage can assist in diagnosis.']\n",
      "\n",
      "the case history is  {'Patient Basic Information': 'Middle-aged female, 44 years old.', 'Chief Complaint': 'Abnormal menstrual changes for 4 years.', 'Medical History': \"The patient's menstruation was normal in the past, 7/30 days, heavy flow, no obvious dysmenorrhea. 4 years ago, abnormal menstrual changes occurred without obvious cause, 7-10/23 days, heavy flow, accompanied by blood clots. Since the onset of the disease, the patient has no abdominal pain, no nausea and vomiting, no diarrhea, clear consciousness, good spirit, good eating and sleeping, normal bowel movements. The patient's usual health is general, with no history of hypertension, no history of coronary heart disease, no history of diabetes. No history of hepatitis, no history of tuberculosis, no history of malaria. No history of surgery, no history of trauma, no history of blood transfusion. Denies history of drug or food allergies, vaccination history is unknown.\", 'Physical Examination': 'General condition: Normal development, good nutrition, autonomous position, walking into the room, clear consciousness, responsive, free expression, cooperative examination. Vulva: Normal development, normal pubic hair distribution; Vagina: unobstructed, blood stains seen inside; Cervix: A mass of tissue can be seen at the external os of the cervix, the tissue is fragile, bleeding upon touch, the upper lip of the cervix can be seen, the lower lip of the cervix cannot be seen; Uterus: Anterior position, moderate quality, enlarged to the size of 2+ months of pregnancy, no tenderness; Bilateral appendages: No obvious abnormalities were touched in the bilateral appendage area.', 'Auxiliary Examination': '(1)', 'Imaging Examination': 'MRI plain scan: 1. Endometrial carcinoma; Multiple small cysts in the cervix.\\n(2)', 'Laboratory Examination': 'Routine blood test: 1. Hemoglobin (HGB) 74g/L ↓; 2. Hematocrit (HCT) 0.26L/L ↓; 3. Mean corpuscular volume (MCV) 64.7fL ↓; 4. Mean corpuscular hemoglobin (MCH) 18.5pg ↓; 5. Mean corpuscular hemoglobin concentration (MCHC) 286g/L ↓; 6. Red blood cell distribution width (CV) (RDW-CV) 17.7% ↑; 7. Platelet count (PLT) 443*10^9/L ↑; 8. Plateletcrit (PCT) 0.44% ↑.\\nBlood biochemistry: 1. Aspartate aminotransferase (AST) 12.2U/L ↓; 2. Prealbumin (PA) 168.6mg/L ↓.\\nTumor marker detection: Normal.\\n(3)', 'Pathological Examination': 'None for the time being.'}\n"
     ]
    }
   ],
   "source": [
    "caseNumber=29#68\n",
    "row= departmentdf.iloc[caseNumber]\n",
    "caseNumber=row.id\n",
    "medicalHistory=row.clinical_case_summary\n",
    "principalDiagnosis=row.principal_diagnosis\n",
    "differentialDiagnosis=row.differential_diagnosis\n",
    "print(\"the case id is\",caseNumber)\n",
    "print(\"\\nthe principal diagnosis is\",principalDiagnosis)\n",
    "print(\"\\ndifferential diagnosis is\",differentialDiagnosis)\n",
    "print(\"\\nthe case history is \",medicalHistory)"
   ]
  },
  {
   "cell_type": "code",
   "execution_count": 35,
   "metadata": {},
   "outputs": [],
   "source": [
    "# response=doctor_prompt_disease_restricted_output_parser(medicalHistory, model, uniquePrimary,department)"
   ]
  },
  {
   "cell_type": "code",
   "execution_count": 36,
   "metadata": {},
   "outputs": [
    {
     "name": "stdout",
     "output_type": "stream",
     "text": [
      "Based on the patient's medical history, physical examination, lab reports, and image reports, I have identified the top 3 most likely diseases as follows:\n",
      "\n",
      "**Disease 1:** Cervical Cancer\n",
      "**Reason:** The patient has an abnormal cervical mass that bleeds upon touch, which is a concerning feature for cervical cancer. The MRI plain scan also shows multiple small cysts in the cervix, which could be indicative of cervical cancer.\n",
      "**Next-Step:** Further imaging studies such as CT or PET scans to assess the extent of the disease and rule out other possible causes of the abnormal cervical mass.\n",
      "\n",
      "**Disease 2:** Cervical Polyp\n",
      "**Reason:** The patient has a fragile tissue at the external os of the cervix that bleeds upon touch, which could be consistent with a cervical polyp. The MRI plain scan also shows multiple small cysts in the cervix, which could be indicative of a cervical polyp.\n",
      "**Next-Step:** Endocervical curettage or biopsy to confirm the diagnosis and rule out other possible causes of the abnormal cervical mass.\n",
      "\n",
      "**Disease 3:** Endometrial Polyp\n",
      "**Reason:** The patient has an enlarged uterus to the size of 2+ months of pregnancy, which could be indicative of an endometrial polyp. Although there is no clear evidence of bleeding or pain in the pelvis, the presence of blood clots and abnormal menstrual changes could suggest a possible endometrial polyp.\n",
      "**Next-Step:** Transvaginal ultrasound to assess the size and location of the uterine mass and rule out other possible causes of the patient's symptoms.\n",
      "\n",
      "Note that these three diseases are the most likely based on the provided information, but further evaluation and testing would be necessary to confirm or rule out each disease.\n"
     ]
    },
    {
     "data": {
      "text/plain": [
       "True"
      ]
     },
     "execution_count": 36,
     "metadata": {},
     "output_type": "execute_result"
    }
   ],
   "source": [
    "model=\"llama3\"\n",
    "doctor_prompt_disease_restricted_output_parser_ollama(medicalHistory, model, uniquePrimary,department)"
   ]
  },
  {
   "cell_type": "code",
   "execution_count": 37,
   "metadata": {},
   "outputs": [
    {
     "name": "stdout",
     "output_type": "stream",
     "text": [
      "Based on the provided medical history, I have identified the top 3 most likely diseases of the patient using differential diagnosis. Here are my findings:\n",
      "\n",
      "**Disease 1: Uterine Fibroid**\n",
      "\n",
      "* **Name:** Uterine Fibroid\n",
      "* **Reason:** The patient has a uterus that is enlarged to the size of 2+ months of pregnancy, with no tenderness. This suggests uterine fibroids, which can cause uterine enlargement and heavy menstrual bleeding.\n",
      "* **Next-step:** MRI or ultrasound imaging may be needed to further confirm the presence and characteristics of the fibroid(s).\n",
      "\n",
      "**Disease 2: Endometrial Cancer**\n",
      "\n",
      "* **Name:** Endometrial Cancer\n",
      "* **Reason:** The patient has abnormal menstrual changes for 4 years, including heavy flow and blood clots. She also has a mass of tissue at the external os of the cervix that bleeds upon touch. The MRI report mentions \"Endometrial carcinoma\" as a possible diagnosis.\n",
      "* **Next-step:** Endometrial biopsy or dilation and curettage (D&C) may be needed to obtain tissue samples for histological examination.\n",
      "\n",
      "**Disease 3: Adenomyosis**\n",
      "\n",
      "* **Name:** Adenomyosis\n",
      "* **Reason:** The patient has heavy menstrual bleeding, blood clots, and a uterus that is enlarged to the size of 2+ months of pregnancy. Adenomyosis can cause similar symptoms due to the invasion of endometrial tissue into the uterine wall.\n",
      "* **Next-step:** MRI or ultrasound imaging may be needed to further confirm the presence and extent of adenomyosis.\n",
      "\n",
      "Note: These are the top 3 most likely diagnoses based on the provided information. However, it's essential to consider other possible diagnoses and perform additional tests as necessary to rule out other conditions.\n"
     ]
    },
    {
     "data": {
      "text/plain": [
       "True"
      ]
     },
     "execution_count": 37,
     "metadata": {},
     "output_type": "execute_result"
    }
   ],
   "source": [
    "model=\"llama3.1\"\n",
    "doctor_prompt_disease_restricted_output_parser_ollama(medicalHistory, model, uniquePrimary,department)"
   ]
  },
  {
   "cell_type": "code",
   "execution_count": 33,
   "metadata": {},
   "outputs": [],
   "source": [
    "model=\"meditron\"\n",
    "# doctor_prompt_disease_restricted_output_parser_ollama(medicalHistory, model, uniquePrimary,department)"
   ]
  },
  {
   "cell_type": "code",
   "execution_count": null,
   "metadata": {},
   "outputs": [],
   "source": []
  },
  {
   "cell_type": "code",
   "execution_count": null,
   "metadata": {},
   "outputs": [],
   "source": []
  }
 ],
 "metadata": {
  "kernelspec": {
   "display_name": "venv",
   "language": "python",
   "name": "python3"
  },
  "language_info": {
   "codemirror_mode": {
    "name": "ipython",
    "version": 3
   },
   "file_extension": ".py",
   "mimetype": "text/x-python",
   "name": "python",
   "nbconvert_exporter": "python",
   "pygments_lexer": "ipython3",
   "version": "3.10.14"
  }
 },
 "nbformat": 4,
 "nbformat_minor": 2
}
