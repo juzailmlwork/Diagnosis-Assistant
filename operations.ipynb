{
 "cells": [
  {
   "cell_type": "code",
   "execution_count": 1,
   "metadata": {},
   "outputs": [],
   "source": [
    "import json\n",
    "import os"
   ]
  },
  {
   "cell_type": "code",
   "execution_count": 2,
   "metadata": {},
   "outputs": [],
   "source": [
    "folders=[\"single_shot\",\"with_reasons\"]#,\"check_others_input\"]\n",
    "for folder in folders:\n",
    "    files=os.listdir(f\"results3/{folder}\")\n",
    "    for file in files:\n",
    "        first_file=f\"results2/{folder}/{file}\"\n",
    "        second_file=f\"results3/{folder}/{file}\"\n",
    "        third_file=f\"results4/{folder}/{file}\"\n",
    "        with open(first_file, 'r') as file:\n",
    "            first_dict = json.load(file)\n",
    "        with open(second_file, 'r') as file:\n",
    "            second_dict = json.load(file)\n",
    "        combined_dict={}\n",
    "        keys=list(first_dict.keys())\n",
    "        for key in keys:\n",
    "            combined_dict[key]={}\n",
    "            combined_dict[key][\"original\"]=first_dict[key][\"original\"]\n",
    "            merged_predictions = {**first_dict[key][\"predictions\"], **second_dict[key][\"predictions\"]}\n",
    "            combined_dict[key][\"predictions\"]=merged_predictions\n",
    "            with open(third_file, 'w') as json_file:\n",
    "                json.dump(combined_dict, json_file, indent=4)\n"
   ]
  },
  {
   "cell_type": "code",
   "execution_count": null,
   "metadata": {},
   "outputs": [],
   "source": []
  }
 ],
 "metadata": {
  "kernelspec": {
   "display_name": "venv",
   "language": "python",
   "name": "python3"
  },
  "language_info": {
   "codemirror_mode": {
    "name": "ipython",
    "version": 3
   },
   "file_extension": ".py",
   "mimetype": "text/x-python",
   "name": "python",
   "nbconvert_exporter": "python",
   "pygments_lexer": "ipython3",
   "version": "3.12.5"
  }
 },
 "nbformat": 4,
 "nbformat_minor": 2
}
