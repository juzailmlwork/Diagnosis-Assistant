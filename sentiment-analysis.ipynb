{
 "cells": [
  {
   "cell_type": "code",
   "execution_count": 1,
   "metadata": {},
   "outputs": [
    {
     "name": "stderr",
     "output_type": "stream",
     "text": [
      "/home/jzlco/code/Diagnosis-Assistant/venv/lib/python3.10/site-packages/tqdm/auto.py:21: TqdmWarning: IProgress not found. Please update jupyter and ipywidgets. See https://ipywidgets.readthedocs.io/en/stable/user_install.html\n",
      "  from .autonotebook import tqdm as notebook_tqdm\n"
     ]
    }
   ],
   "source": [
    "from transformers import AutoTokenizer, AutoModelForSequenceClassification\n",
    "import torch"
   ]
  },
  {
   "cell_type": "code",
   "execution_count": 2,
   "metadata": {},
   "outputs": [],
   "source": [
    "# Load model and tokenizer\n",
    "model_name = \"tabularisai/robust-sentiment-analysis\"\n",
    "tokenizer = AutoTokenizer.from_pretrained(model_name)\n",
    "model = AutoModelForSequenceClassification.from_pretrained(model_name)\n"
   ]
  },
  {
   "cell_type": "code",
   "execution_count": 3,
   "metadata": {},
   "outputs": [
    {
     "name": "stdout",
     "output_type": "stream",
     "text": [
      "Text: I absolutely loved this movie! The acting was superb and the plot was engaging.\n",
      "Sentiment: Very Positive\n",
      "\n",
      "Text: The service at this restaurant was terrible. I'll never go back.\n",
      "Sentiment: Very Negative\n",
      "\n",
      "Text: The product works as expected. Nothing special, but it gets the job done.\n",
      "Sentiment: Neutral\n",
      "\n",
      "Text: I'm somewhat disappointed with my purchase. It's not as good as I hoped.\n",
      "Sentiment: Negative\n",
      "\n",
      "Text: This book changed my life! I couldn't put it down and learned so much.\n",
      "Sentiment: Very Positive\n",
      "\n"
     ]
    }
   ],
   "source": [
    "\n",
    "\n",
    "# Function to predict sentiment\n",
    "def predict_sentiment(text):\n",
    "    inputs = tokenizer(text.lower(), return_tensors=\"pt\", truncation=True, padding=True, max_length=512)\n",
    "    with torch.no_grad():\n",
    "        outputs = model(**inputs)\n",
    "    \n",
    "    probabilities = torch.nn.functional.softmax(outputs.logits, dim=-1)\n",
    "    predicted_class = torch.argmax(probabilities, dim=-1).item()\n",
    "    \n",
    "    sentiment_map = {0: \"Very Negative\", 1: \"Negative\", 2: \"Neutral\", 3: \"Positive\", 4: \"Very Positive\"}\n",
    "    return sentiment_map[predicted_class]\n",
    "\n",
    "# Example usage\n",
    "texts = [\n",
    "    \"I absolutely loved this movie! The acting was superb and the plot was engaging.\",\n",
    "    \"The service at this restaurant was terrible. I'll never go back.\",\n",
    "    \"The product works as expected. Nothing special, but it gets the job done.\",\n",
    "    \"I'm somewhat disappointed with my purchase. It's not as good as I hoped.\",\n",
    "    \"This book changed my life! I couldn't put it down and learned so much.\"\n",
    "]\n",
    "\n",
    "for text in texts:\n",
    "    sentiment = predict_sentiment(text)\n",
    "    print(f\"Text: {text}\")\n",
    "    print(f\"Sentiment: {sentiment}\\n\")"
   ]
  },
  {
   "cell_type": "code",
   "execution_count": null,
   "metadata": {},
   "outputs": [],
   "source": []
  }
 ],
 "metadata": {
  "kernelspec": {
   "display_name": "venv",
   "language": "python",
   "name": "python3"
  },
  "language_info": {
   "codemirror_mode": {
    "name": "ipython",
    "version": 3
   },
   "file_extension": ".py",
   "mimetype": "text/x-python",
   "name": "python",
   "nbconvert_exporter": "python",
   "pygments_lexer": "ipython3",
   "version": "3.10.14"
  }
 },
 "nbformat": 4,
 "nbformat_minor": 2
}
