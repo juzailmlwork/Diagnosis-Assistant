{
 "cells": [
  {
   "cell_type": "markdown",
   "metadata": {},
   "source": [
    "loading required libraries"
   ]
  },
  {
   "cell_type": "code",
   "execution_count": null,
   "metadata": {},
   "outputs": [],
   "source": [
    "import pandas as pd\n",
    "pd.set_option('display.max_colwidth', 5000)\n",
    "import json\n",
    "from dotenv import load_dotenv\n",
    "from src.llm import doctor_prompt_disease_restricted_gpt\n",
    "from src.utils import convert_string_to_list,convert_clinical_case_summary,filterDepartment,getDepartmentStatistics,convert_cases_to_json\n",
    "from src.ollama2 import doctor_prompt_disease_restricted_ollama,doctor_prompt_disease_restricted_ollama_combined\n",
    "load_dotenv()"
   ]
  },
  {
   "cell_type": "markdown",
   "metadata": {},
   "source": [
    "importing the dataset"
   ]
  },
  {
   "cell_type": "code",
   "execution_count": null,
   "metadata": {},
   "outputs": [],
   "source": [
    "filePath=\"dataset/clinicallab/data_en.json\"\n",
    "with open(filePath, 'r', encoding='utf-8') as f:\n",
    "            data = json.load(f)\n",
    "print(\"number of total cases are\",len(data))\n",
    "print(\"each case have the following fields\",list(data[0].keys()))"
   ]
  },
  {
   "cell_type": "markdown",
   "metadata": {},
   "source": [
    "filtering the dataset"
   ]
  },
  {
   "cell_type": "code",
   "execution_count": null,
   "metadata": {},
   "outputs": [],
   "source": [
    "\n",
    "keys_to_include = [\"id\",'clinical_department', 'principal_diagnosis', 'preliminary_diagnosis',\n",
    "                   'diagnostic_basis', 'differential_diagnosis', \n",
    "                   'treatment_plan', 'clinical_case_summary', 'imageological_examination', \n",
    "                   'laboratory_examination', 'pathological_examination', 'therapeutic_principle']\n",
    "df = pd.DataFrame([{key: d[key] for key in keys_to_include} for d in data])"
   ]
  },
  {
   "cell_type": "code",
   "execution_count": null,
   "metadata": {},
   "outputs": [],
   "source": [
    "allDepartments=df['clinical_department'].value_counts()\n",
    "print(\"number of departments available are\",len(allDepartments))\n",
    "\n",
    "print(allDepartments)"
   ]
  },
  {
   "cell_type": "code",
   "execution_count": null,
   "metadata": {},
   "outputs": [],
   "source": [
    "\n",
    "df['preliminary_diagnosis'] = df['preliminary_diagnosis'].apply(convert_string_to_list)\n",
    "df['diagnostic_basis'] = df['diagnostic_basis'].apply(convert_string_to_list)\n",
    "df['differential_diagnosis'] = df['differential_diagnosis'].apply(convert_string_to_list)\n",
    "df['treatment_plan'] = df['treatment_plan'].apply(convert_string_to_list)\n",
    "df[\"clinical_case_summary\"] = df[\"clinical_case_summary\"].apply(convert_clinical_case_summary)"
   ]
  },
  {
   "cell_type": "code",
   "execution_count": null,
   "metadata": {},
   "outputs": [],
   "source": [
    "department=\"gynecology department\"#\"respiratory medicine department\"#\"nephrology department\"##\"pediatrics department\"#\"gynecology department\"\n",
    "departmentdf=filterDepartment(df,department)\n",
    "departmentdf.to_json(f\"dataset/clinicallab/department/{department}.json\", orient='records', lines=False, indent=4)"
   ]
  },
  {
   "cell_type": "code",
   "execution_count": null,
   "metadata": {},
   "outputs": [],
   "source": [
    "getDepartmentStatistics(departmentdf)"
   ]
  },
  {
   "cell_type": "code",
   "execution_count": null,
   "metadata": {},
   "outputs": [],
   "source": [
    "# Function to extract disease names from a single row\n",
    "def extract_disease_names_from_row(differential_diagnosis_list):\n",
    "    disease=[entry.split(\":\")[0].strip() for entry in differential_diagnosis_list]\n",
    "    return disease\n",
    "\n",
    "# Apply the function to each row and combine all lists into one\n",
    "differential_diseases = departmentdf[\"differential_diagnosis\"].apply(extract_disease_names_from_row).sum()\n",
    "refined_differential_diseases=[]\n",
    "for disease in differential_diseases:\n",
    "    if len(disease) <20:\n",
    "        refined_differential_diseases.append(disease)\n",
    "uniqueDiseases=departmentdf[\"principal_diagnosis\"].unique().tolist()\n",
    "uniquePrimary=uniqueDiseases[:]\n",
    "uniqueDiseases.extend(refined_differential_diseases)\n",
    "uniqueDiseases=list(set(uniqueDiseases))\n",
    "print(\"number of unique diseases are\",len(uniqueDiseases))\n",
    "print(uniqueDiseases)"
   ]
  },
  {
   "cell_type": "code",
   "execution_count": null,
   "metadata": {},
   "outputs": [],
   "source": [
    "\n",
    "# caseNumbers=[3,13,23,33,43,53]\n",
    "# for caseNumber in caseNumbers:\n",
    "#     row= departmentdf.iloc[caseNumber]\n",
    "#     caseNumber=row.id\n",
    "#     medicalHistory=row.clinical_case_summary\n",
    "#     principalDiagnosis=row.principal_diagnosis\n",
    "#     differentialDiagnosis=row.differential_diagnosis\n",
    "#     combined_report={\"case-id\":caseNumber,\"principal diagnosis\":principalDiagnosis,\"differential diagnosis\":differential_diseases,\"medicalHistory\":medicalHistory}\n",
    "#     print(\"the case id is\",caseNumber)\n",
    "#     print(\"\\nthe principal diagnosis is\",principalDiagnosis)\n",
    "#     print(\"\\ndifferential diagnosis is\",differentialDiagnosis)\n",
    "#     print(\"\\nthe case history is \",medicalHistory)\n",
    "#     model=\"llama3\"\n",
    "#     diagnosis1=doctor_prompt_disease_restricted_ollama(medicalHistory, model, uniquePrimary,department)\n",
    "#     print(\"diagnosis from llama is\",diagnosis1)\n",
    "#     model=\"llama3.1\"\n",
    "#     diagnosis2=doctor_prompt_disease_restricted_ollama(medicalHistory, model, uniquePrimary,department)\n",
    "#     print(\"diagnosis from llama3.1 is\",diagnosis2)\n",
    "#     model=\"gpt-4o\"\n",
    "#     diagnosis3=doctor_prompt_disease_restricted_gpt(medicalHistory, model, uniquePrimary,department)\n",
    "#     print(\"diagnosis from gpt-4 is\",diagnosis2)"
   ]
  },
  {
   "cell_type": "code",
   "execution_count": null,
   "metadata": {},
   "outputs": [],
   "source": [
    "from fpdf import FPDF\n",
    "\n",
    "class PDF(FPDF):\n",
    "    def header(self):\n",
    "        self.set_font('Arial', 'B', 12)\n",
    "        self.cell(0, 10, 'Medical Case Report', 0, 1, 'C')\n",
    "\n",
    "    def chapter_title(self, case_id):\n",
    "        self.set_font('Arial', 'B', 12)\n",
    "        self.cell(0, 10, f'Case ID: {case_id}', 0, 1, 'L')\n",
    "        self.ln(5)\n",
    "\n",
    "    def chapter_body(self, model_name, diagnosis):\n",
    "        self.set_font('Arial', '', 12)\n",
    "        self.multi_cell(0, 10, f'Diagnosis from {model_name}: {diagnosis}'.encode('latin-1', 'replace').decode('latin-1'))\n",
    "        self.ln(10)\n",
    "\n",
    "    def add_case(self, case_id, principalDiagnosis, differentialDiagnosis, medicalHistory, diagnosis1, diagnosis2, diagnosis3):\n",
    "        self.add_page()\n",
    "        self.chapter_title(case_id)\n",
    "\n",
    "        self.set_font('Arial', '', 12)\n",
    "        self.multi_cell(0, 10, f'Principal Diagnosis: {principalDiagnosis}'.encode('latin-1', 'replace').decode('latin-1'))\n",
    "        self.ln(5)\n",
    "        self.multi_cell(0, 10, f'Differential Diagnosis: {differentialDiagnosis}'.encode('latin-1', 'replace').decode('latin-1'))\n",
    "        self.ln(5)\n",
    "        self.multi_cell(0, 10, f'Medical History: {medicalHistory}'.encode('latin-1', 'replace').decode('latin-1'))\n",
    "        self.ln(10)\n",
    "\n",
    "        # Add a page for each diagnosis\n",
    "        self.add_page()\n",
    "        self.chapter_body(\"llama3\", diagnosis1)\n",
    "        \n",
    "        self.add_page()\n",
    "        self.chapter_body(\"llama3.1\", diagnosis2)\n",
    "        \n",
    "        self.add_page()\n",
    "        self.chapter_body(\"gpt-4o\", diagnosis3)\n",
    "\n",
    "# Initialize the PDF\n",
    "pdf = PDF()\n",
    "pdf.set_left_margin(10)\n",
    "pdf.set_right_margin(10)\n",
    "\n",
    "# Iterate through the cases and generate the report\n",
    "caseNumbers = [3,13,23,33,43]  # You can include more cases here\n",
    "for caseNumber in caseNumbers:\n",
    "    print(caseNumber)\n",
    "    row = departmentdf.iloc[caseNumber]\n",
    "    case_id = row.id\n",
    "    medicalHistory = row.clinical_case_summary\n",
    "    principalDiagnosis = row.principal_diagnosis\n",
    "    differentialDiagnosis = row.differential_diagnosis\n",
    "\n",
    "    diagnosis1 = doctor_prompt_disease_restricted_ollama(medicalHistory, \"llama3\", uniquePrimary, department)\n",
    "    print(\"done llama3\")\n",
    "    diagnosis2 = doctor_prompt_disease_restricted_ollama(medicalHistory, \"llama3.1\", uniquePrimary, department)\n",
    "    print(\"done llama3.1\")\n",
    "    diagnosis3 = doctor_prompt_disease_restricted_gpt(medicalHistory, \"gpt-4o\", uniquePrimary, department)\n",
    "    print(\"done gpt-4o\")\n",
    "\n",
    "    pdf.add_case(case_id, principalDiagnosis, differentialDiagnosis, medicalHistory, diagnosis1, diagnosis2, diagnosis3)\n",
    "\n",
    "# Output the PDF to a file\n",
    "pdf_file_path = \"medical_case_report.pdf\"\n",
    "pdf.output(pdf_file_path)\n",
    "\n",
    "print(f\"PDF report generated: {pdf_file_path}\")\n"
   ]
  },
  {
   "cell_type": "code",
   "execution_count": null,
   "metadata": {},
   "outputs": [],
   "source": [
    "# model=\"llama3\"\n",
    "# diagnosis1=doctor_prompt_disease_restricted_ollama(medicalHistory, model, uniquePrimary,department)\n",
    "# print(diagnosis1)"
   ]
  },
  {
   "cell_type": "code",
   "execution_count": null,
   "metadata": {},
   "outputs": [],
   "source": []
  }
 ],
 "metadata": {
  "kernelspec": {
   "display_name": "venv",
   "language": "python",
   "name": "python3"
  },
  "language_info": {
   "codemirror_mode": {
    "name": "ipython",
    "version": 3
   },
   "file_extension": ".py",
   "mimetype": "text/x-python",
   "name": "python",
   "nbconvert_exporter": "python",
   "pygments_lexer": "ipython3",
   "version": "3.10.14"
  }
 },
 "nbformat": 4,
 "nbformat_minor": 2
}
