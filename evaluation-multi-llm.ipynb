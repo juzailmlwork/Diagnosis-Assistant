{
 "cells": [
  {
   "cell_type": "markdown",
   "metadata": {},
   "source": [
    "loading required libraries"
   ]
  },
  {
   "cell_type": "code",
   "execution_count": null,
   "metadata": {},
   "outputs": [],
   "source": [
    "import pandas as pd\n",
    "pd.set_option('display.max_colwidth', 5000)\n",
    "from dotenv import load_dotenv\n",
    "import json\n",
    "from src.pdf import create_pdf\n",
    "from src.gpt import evaluate_gpt\n",
    "from src.utils import (\n",
    "    load_preprocess_data,\n",
    "    extract_all_diseases_per_department,\n",
    "    filterDepartment,\n",
    "    getDepartmentStatistics,\n",
    "    run_prediction)\n",
    "load_dotenv()\n",
    "from prompts import single_shot_disease_only_prompt,open_ended__top4_prompt,with_reasons_prompt"
   ]
  },
  {
   "cell_type": "markdown",
   "metadata": {},
   "source": [
    "importing the dataset"
   ]
  },
  {
   "cell_type": "code",
   "execution_count": null,
   "metadata": {},
   "outputs": [],
   "source": [
    "filePath=\"dataset/clinicallab/data_en.json\"\n",
    "df=load_preprocess_data(filePath)"
   ]
  },
  {
   "cell_type": "markdown",
   "metadata": {},
   "source": [
    "filtering the dataset"
   ]
  },
  {
   "cell_type": "code",
   "execution_count": null,
   "metadata": {},
   "outputs": [],
   "source": [
    "# department=\"neurology department\"\n",
    "# departmentdf=filterDepartment(df,department)\n",
    "# # departmentdf.to_json(f\"dataset/clinicallab/department/{department}.json\", orient='records', lines=False, indent=4)\n",
    "# getDepartmentStatistics(departmentdf)\n",
    "\n",
    "# uniqueDiseases=extract_all_diseases_per_department(departmentdf)\n",
    "# print(len(uniqueDiseases))\n",
    "# uniqueDiseases1=['Lumbar Tuberculosis', 'systemic lupus erythematosus', 'Low T3 Syndrome', 'ankylosing spondylitis', \"Graves' disease\", 'Diabetes insipidus', 'Psoriatic Arthritis', 'Type 1 Diabetes', 'Type 1 diabetes', 'Hyperthyroidism', 'Scleredema', 'hypothyroidism', 'Hypoglycemia', 'Hypokalemia', 'Myositis', 'subacute thyroiditis', 'Simple Skin Allergy', 'Diabetes Insipidus', 'Simple Goiter', 'Psoriatic arthritis', 'rheumatoid arthritis', 'Rheumatic Fever', 'diabetes mellitus', 'Simple goiter', 'Colorectal cancer', 'gouty arthritis', 'Rheumatic fever', 'Osteoarthritis']\n",
    "# uniqueDiseases1=['acute suppurative thyroiditis', 'ankylosing spondylitis', 'cervical and lumbar disc herniation', 'chronic lymphocytic thyroiditis', 'colorectal cancer', 'diabetes insipidus', 'diabetes mellitus', 'gouty arthritis', \"graves' disease\", \"hashimoto's thyroiditis\",'hyperthyroidism', 'hypoglycemia', 'hypokalemia', 'hypothyroidism', 'inflammatory bowel disease', 'lada', 'localized scleroderma', 'low t3 syndrome', 'lumbar tuberculosis', 'mixed connective tissue disease', 'myositis', 'osteoarthritis', 'psoriatic arthritis', 'rheumatic fever', 'rheumatoid arthritis', 'scleredema', 'simple goiter', 'simple skin allergy', 'subacute thyroiditis', 'systemic lupus erythematosus', 'type 1 diabetes']\n",
    "# uniqueDiseases2=['Brain Hemorrhage', 'parkinson disease', 'Epilepsy', 'Cerebral Infarction', 'Diabetic Neuropathy', 'Cerebral hemorrhage', 'Lewy Body Dementia', 'Cervical vertigo', 'Tumorous Stroke', 'alzheimer disease', 'myelitis', 'Lyme Disease', 'Multiple sclerosis', 'Acute Myelitis', 'Tumoral Stroke', 'Optic neuritis', 'subarachnoid hemorrhage', 'Tumor Stroke', 'Cranial tumor', 'Vascular Dementia', 'Lyme disease', 'Syncope', 'Pseudoseizures', 'Periodic Paralysis', 'Primary Tremor', 'Diabetic neuropathy', 'facial neuritis', 'Polymyositis', 'transient ischemic attack']\n",
    "# uniqueDiseasesall=[uniqueDiseases1,uniqueDiseases2]\n",
    "# print(len(uniqueDiseases))"
   ]
  },
  {
   "cell_type": "code",
   "execution_count": null,
   "metadata": {},
   "outputs": [],
   "source": [
    "departments=[\"nephrology department\",\n",
    "             \"gynecology department\",\n",
    "            \"endocrinology department\", \n",
    "            \"neurology department\",\n",
    "             \"pediatrics department\",\n",
    "             \"cardiac surgical department\",                          \n",
    "             \"gastrointestinal surgical department\",\n",
    "             \"respiratory medicine department\",\n",
    "            ]\n",
    "models = [\"gpt-4\",\"llama3.1\",\"gemma2\"]#, \"phi3:14b\", \"mistral-nemo\"]\n",
    "\n",
    "# type=\"with_reasons\"\n",
    "# prompt=with_reasons_prompt\n",
    "type=\"single_shot_without_sorted\"\n",
    "prompt=single_shot_disease_only_prompt\n",
    "# type=\"open_ended\"\n",
    "# prompt=open_ended__top4_prompt# \n",
    "run_prediction(df,prompt,departments,models=models,type=type,skip=5)"
   ]
  },
  {
   "cell_type": "code",
   "execution_count": null,
   "metadata": {},
   "outputs": [],
   "source": [
    "\n"
   ]
  },
  {
   "cell_type": "code",
   "execution_count": null,
   "metadata": {},
   "outputs": [],
   "source": [
    "# file_path=\"results/nephrology department_single_shot_without_sorted_result_findings.json\"\n",
    "# with open(file_path, \"r\") as file:\n",
    "#     data = json.load(file)\n",
    "# evaluate_results(data)"
   ]
  },
  {
   "cell_type": "code",
   "execution_count": null,
   "metadata": {},
   "outputs": [],
   "source": []
  }
 ],
 "metadata": {
  "kernelspec": {
   "display_name": "venv",
   "language": "python",
   "name": "python3"
  },
  "language_info": {
   "codemirror_mode": {
    "name": "ipython",
    "version": 3
   },
   "file_extension": ".py",
   "mimetype": "text/x-python",
   "name": "python",
   "nbconvert_exporter": "python",
   "pygments_lexer": "ipython3",
   "version": "3.10.14"
  }
 },
 "nbformat": 4,
 "nbformat_minor": 2
}
