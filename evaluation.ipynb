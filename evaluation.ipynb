{
 "cells": [
  {
   "cell_type": "markdown",
   "metadata": {},
   "source": [
    "loading required libraries"
   ]
  },
  {
   "cell_type": "code",
   "execution_count": 1,
   "metadata": {},
   "outputs": [
    {
     "name": "stderr",
     "output_type": "stream",
     "text": [
      "/home/jzlco/code/Diagnosis-Assistant/venv/lib/python3.10/site-packages/fpdf/__init__.py:39: UserWarning: You have both PyFPDF & fpdf2 installed. Both packages cannot be installed at the same time as they share the same module namespace. To only keep fpdf2, run: pip uninstall --yes pypdf && pip install --upgrade fpdf2\n",
      "  warnings.warn(\n"
     ]
    },
    {
     "data": {
      "text/plain": [
       "True"
      ]
     },
     "execution_count": 1,
     "metadata": {},
     "output_type": "execute_result"
    }
   ],
   "source": [
    "import pandas as pd\n",
    "pd.set_option('display.max_colwidth', 5000)\n",
    "import json\n",
    "from dotenv import load_dotenv\n",
    "from src.gpt import doctor_prompt_gpt,doctor_prompt_gpt_self_confinement\n",
    "from src.utils import convert_string_to_list,convert_clinical_case_summary,filterDepartment,getDepartmentStatistics,convert_cases_to_json,PDF,select_case_components\n",
    "from src.ollama import doctor_prompt_ollama,doctor_prompt_ollama_self_refinement,doctor_prompt_ollama_combined\n",
    "load_dotenv()"
   ]
  },
  {
   "cell_type": "markdown",
   "metadata": {},
   "source": [
    "importing the dataset"
   ]
  },
  {
   "cell_type": "code",
   "execution_count": 2,
   "metadata": {},
   "outputs": [
    {
     "name": "stdout",
     "output_type": "stream",
     "text": [
      "\n",
      "number of total cases are 1500\n",
      "\n",
      "each case have the following fields ['id', 'clinical_case_uid', 'language', 'clinical_department', 'principal_diagnosis', 'preliminary_diagnosis', 'diagnostic_basis', 'differential_diagnosis', 'treatment_plan', 'clinical_case_summary', 'imageological_examination', 'laboratory_examination', 'pathological_examination', 'therapeutic_principle']\n",
      "number of departments available are 24\n",
      "\n",
      " all the departments available are\n",
      "clinical_department\n",
      "orthopedics department                              100\n",
      "anus and intestine surgical department              100\n",
      "hepatobiliary and pancreas surgical department       99\n",
      "urinary surgical department                          90\n",
      "endocrinology department                             80\n",
      "gynecology department                                80\n",
      "otolaryngology head and neck surgical department     80\n",
      "neurology department                                 80\n",
      "thoracic surgical department                         70\n",
      "respiratory medicine department                      70\n",
      "gastroenterology department                          70\n",
      "neurosurgery department                              70\n",
      "cardiac surgical department                          70\n",
      "nephrology department                                60\n",
      "gastrointestinal surgical department                 60\n",
      "pediatrics department                                60\n",
      "thyroid surgical department                          50\n",
      "hernia surgical department                           40\n",
      "breast surgical department                           40\n",
      "cardiovascular medicine department                   40\n",
      "vascular surgical department                         40\n",
      "hematology department                                30\n",
      "obstetrics department                                20\n",
      "Gastroenterology                                      1\n",
      "Name: count, dtype: int64\n"
     ]
    }
   ],
   "source": [
    "filePath=\"dataset/clinicallab/data_en.json\"\n",
    "with open(filePath, 'r', encoding='utf-8') as f:\n",
    "            data = json.load(f)\n",
    "print(\"\\nnumber of total cases are\",len(data))\n",
    "print(\"\\neach case have the following fields\",list(data[0].keys()))\n",
    "\n",
    "keys_to_include = [\"id\",'clinical_department', 'principal_diagnosis', 'preliminary_diagnosis',\n",
    "                   'diagnostic_basis', 'differential_diagnosis', \n",
    "                   'treatment_plan', 'clinical_case_summary', 'imageological_examination', \n",
    "                   'laboratory_examination', 'pathological_examination', 'therapeutic_principle']\n",
    "df = pd.DataFrame([{key: d[key] for key in keys_to_include} for d in data])\n",
    "\n",
    "allDepartments=df['clinical_department'].value_counts()\n",
    "print(\"number of departments available are\",len(allDepartments))\n",
    "\n",
    "print(\"\\n all the departments available are\")\n",
    "print(allDepartments)\n",
    "\n",
    "df['preliminary_diagnosis'] = df['preliminary_diagnosis'].apply(convert_string_to_list)\n",
    "df['diagnostic_basis'] = df['diagnostic_basis'].apply(convert_string_to_list)\n",
    "df['differential_diagnosis'] = df['differential_diagnosis'].apply(convert_string_to_list)\n",
    "df['treatment_plan'] = df['treatment_plan'].apply(convert_string_to_list)\n",
    "df[\"clinical_case_summary\"] = df[\"clinical_case_summary\"].apply(convert_clinical_case_summary)"
   ]
  },
  {
   "cell_type": "markdown",
   "metadata": {},
   "source": [
    "filtering the dataset"
   ]
  },
  {
   "cell_type": "code",
   "execution_count": 3,
   "metadata": {},
   "outputs": [
    {
     "name": "stdout",
     "output_type": "stream",
     "text": [
      "number of principal diagnosis are 8\n",
      "principal_diagnosis\n",
      "ovarian cyst             10\n",
      "endometrial polyp        10\n",
      "endometrial cancer       10\n",
      "uterine fibroid          10\n",
      "adenomyosis              10\n",
      "cervical polyp           10\n",
      "cervical cancer          10\n",
      "heterotopic pregnancy    10\n",
      "Name: count, dtype: int64\n",
      "number of preliminary_diagnosis are 8\n"
     ]
    }
   ],
   "source": [
    "department=\"gynecology department\"#\"respiratory medicine department\"#\"nephrology department\"##\"pediatrics department\"#\"gynecology department\"\n",
    "departmentdf=filterDepartment(df,department)\n",
    "# departmentdf.to_json(f\"dataset/clinicallab/department/{department}.json\", orient='records', lines=False, indent=4)\n",
    "getDepartmentStatistics(departmentdf)"
   ]
  },
  {
   "cell_type": "code",
   "execution_count": 4,
   "metadata": {},
   "outputs": [],
   "source": [
    "# # Function to extract disease names from a single row\n",
    "# def extract_disease_names_from_row(differential_diagnosis_list):\n",
    "#     disease=[entry.split(\":\")[0].strip() for entry in differential_diagnosis_list]\n",
    "#     return disease\n",
    "\n",
    "# # Apply the function to each row and combine all lists into one\n",
    "# differential_diseases = departmentdf[\"differential_diagnosis\"].apply(extract_disease_names_from_row).sum()\n",
    "# refined_differential_diseases=[]\n",
    "# for disease in differential_diseases:\n",
    "#     if len(disease) <20:\n",
    "#         refined_differential_diseases.append(disease)\n",
    "# uniqueDiseases=departmentdf[\"principal_diagnosis\"].unique().tolist()\n",
    "# uniquePrimary=uniqueDiseases[:]\n",
    "# uniqueDiseases.extend(refined_differential_diseases)\n",
    "# uniqueDiseases=list(set(uniqueDiseases))\n",
    "# print(\"number of unique diseases are\",len(uniqueDiseases))\n",
    "# print(uniqueDiseases)"
   ]
  },
  {
   "cell_type": "code",
   "execution_count": 6,
   "metadata": {},
   "outputs": [],
   "source": [
    "required_fields=[ \"Patient basic information\",\n",
    "                 \"Chief complaint\",\n",
    "                 \"Medical history\",\n",
    "                 \"Physical examination\",\n",
    "                 \"Laboratory examination\",\n",
    "                 \"Imageological examination\",\n",
    "                 \"Auxillary examination\",\n",
    "                 \"Pathological examination\"\n",
    "    \n",
    "]\n",
    "departments=[\"respiratory medicine department\",\n",
    "             \"nephrology department\",\n",
    "             \"pediatrics department\",\n",
    "             \"gynecology department\",\n",
    "             \"endocrinology department\",   \n",
    "             \"neurology department\",\n",
    "             \"cardiac surgical department\",                          \n",
    "             \"gastrointestinal surgical department\" ]\n",
    "# departments=[\"pediatrics department\"]#,#\"respiratory medicine department\"]#\"cardiac surgical department\"]\n",
    "models = [\"llama3.1\", \"gemma2\", \"phi3:14b\", \"mistral-nemo\"]#\"mistral\"\n",
    "laboratory=\"abnormal\"#\"result\"\n",
    "image=\"impression\"#\"findings\"\n"
   ]
  },
  {
   "cell_type": "code",
   "execution_count": null,
   "metadata": {},
   "outputs": [],
   "source": [
    "laboratory=\"abnormal\"\n",
    "image=\"impression\"\n",
    "report_type=f\"{laboratory}_{image}\"\n",
    "for department in departments:\n",
    "    print(\"department is\",department)\n",
    "    departmentdf=filterDepartment(df,department)\n",
    "    caseNumbers = [i for i in range(1, len(departmentdf), 10)]\n",
    "    print(caseNumbers)\n",
    "    row=departmentdf\n",
    "    pdf = PDF()\n",
    "    pdf.set_left_margin(10)\n",
    "    pdf.set_right_margin(10)\n",
    "    getDepartmentStatistics(departmentdf)\n",
    "    for caseNumber in caseNumbers:        \n",
    "        case_id,principal_diagnosis,differential_diagnosis,clinical_case_dict,filtered_clinical_case_dict=select_case_components(departmentdf,caseNumber,required_fields,laboratory,image)\n"
   ]
  },
  {
   "cell_type": "code",
   "execution_count": 8,
   "metadata": {},
   "outputs": [],
   "source": [
    "department=\"neurology department\"\n",
    "caseNumber=1\n",
    "departmentdf=filterDepartment(df,department)\n",
    "case_id,principal_diagnosis,differential_diagnosis,clinical_case_dict,filtered_clinical_case_dict=select_case_components(departmentdf,caseNumber,required_fields,laboratory,image)"
   ]
  },
  {
   "cell_type": "code",
   "execution_count": 13,
   "metadata": {},
   "outputs": [],
   "source": [
    "from langchain.prompts import ChatPromptTemplate\n",
    "from langchain_ollama.llms import OllamaLLM\n",
    "from langchain_core.pydantic_v1 import BaseModel, Field\n",
    "from langchain_core.output_parsers import JsonOutputParser\n",
    "from typing import List\n",
    "import json\n",
    "class DiagnosisReason(BaseModel):\n",
    "    category: str = Field(description=\"The category of the examination, e.g., medical-history, Physical-Examination, Laboratory-Examination, Image-Examination\")\n",
    "    reasons: List[str] = Field(description=\"A list of precise reasons for the diagnosis based on the examination\")\n",
    "class FinalDiagnosis(BaseModel):\n",
    "    final_diagnosis: str = Field(description=\"Name of the most possible disease within the given set of diseases\")\n",
    "    reasons: List[DiagnosisReason] = Field(description=\"A list of reasoning categories and the associated reasons for the final diagnosis\")\n",
    "def doctor_prompt_disease_restricted_ollama(medical_history, modelname, diseases, department):\n",
    "    model = OllamaLLM(model=modelname, temperature=0.1, num_predict=1200, num_ctx=12000)\n",
    "    print(\"started model \", modelname)\n",
    "    prompt_template = \"\"\"\n",
    "    You are an experienced doctor from {department}, and you will be provided with the medical history of a patient containing past medical history,\n",
    "    physical examination, laboratory examination, and imaging examination results. Your task is to identify the most likely disease of the patient using differential diagnosis from the given set of diseases:\n",
    "    {diseases}\n",
    "    Analyze step by step each aspect of the physical examination, laboratory examination, and imaging examination based on the above diseases.\n",
    "    Once done, select the top possible disease using your analysis and differential diagnosis.\n",
    "    Patient's medical history: {medical_history}.\n",
    "    Please format your response as a JSON object with the following fields:\n",
    "    - final_diagnosis: Name of the most possible disease within the above set of diseases.\n",
    "    - reasons: A list of categories (e.g., medical-history, Physical-Examination) with associated reasons for the final diagnosis. Each reason should be precise and brief.\n",
    "    JSON output:\"\"\"\n",
    "    prompt = ChatPromptTemplate.from_template(prompt_template)\n",
    "    output_parser = JsonOutputParser(pydantic_object=FinalDiagnosis)\n",
    "    chain = prompt | model | output_parser\n",
    "    output = chain.invoke(\n",
    "        {\n",
    "            \"medical_history\": medical_history,\n",
    "            \"diseases\": diseases,\n",
    "            \"department\": department,\n",
    "        }\n",
    "    )\n",
    "    return output"
   ]
  },
  {
   "cell_type": "code",
   "execution_count": 15,
   "metadata": {},
   "outputs": [
    {
     "data": {
      "text/plain": [
       "{'Patient basic information': 'Elderly male, 78 years old.',\n",
       " 'Chief complaint': 'Progressive worsening of right-sided limb weakness for 5 years.',\n",
       " 'Medical history': \"The patient developed right-sided limb weakness 5 years ago without any obvious cause, accompanied by a feeling of heaviness and soreness in the right limb, particularly the right lower limb, difficulty in walking, and slowness. These symptoms progressively worsened, with the gradual onset of right-hand clumsiness. The patient was treated with 'Levodopa and Benserazide Tablets (0.125g, three times a day)', which slightly improved the aforementioned symptoms. During multiple follow-ups, due to fluctuations in symptoms of right limb movement impairment, the patient was given a combination of 'Pramipexole Tablets (0.25mg, three times a day)' and 'Amantadine (0.1g, twice a day)'. Two years ago, the patient sought medical attention due to the progression of right limb symptoms and significant slowness in walking, and was treated with an adjusted regimen of 'Levodopa and Benserazide Tablets (0.125g, four times a day)' and 'Selegiline (5mg, once a day)', which slightly improved the aforementioned symptoms. The patient stopped taking 'Selegiline' on his own. In the past two years, due to the progression of right limb weakness and associated slowness in walking, the patient was intermittently treated with 'Darling Compound (1 tablet, three times a day)' and 'Levodopa and Benserazide Tablets (1/4 tablet, four times a day)', which slightly improved the aforementioned symptoms. In the past six months, the aforementioned symptoms have progressed, accompanied by difficulty turning over, decreased sense of smell, difficulty in defecation, frequent urination, sleep disturbances at night, and emotional irritability and anger, with symptoms progressively worsening. The patient has no history of chronic diseases.\",\n",
       " 'Physical examination': \"Vital signs: BP: 145/80mmHg, no special findings in heart, lung, and abdomen examination. The patient is conscious, with a general response, indifferent expression, mask-like face, normal understanding and orientation, slightly unfluent speech, and cooperative during the examination. Bilateral nasolabial folds are symmetrical, the tongue is in the middle, right limb and left lower limb muscle tone is slightly high, tendon reflexes of all limbs are symmetrical and normal, muscle strength of all limbs is grade V, sensation and coordination are symmetrical and normal, bilateral Babinski sign is negative. The neck is soft, Kernig's sign is negative. NIHSS score: 0 points. Watian's water drinking test: Level 2. mRS score: 3 points. ADL score: 80 points.\",\n",
       " 'Laboratory examination': {'routine_blood_test': '1. Platelet Count (Impedance Method) (PLT-I) 378*10^9/L ↑; 2. Eosinophil Percentage (EO%) 9.9% ↑; 3. Eosinophil Absolute Value (EO#) 0.59*10^9/L ↑; 4. Platelet Hematocrit (PCT) 0.38% ↑.',\n",
       "  'blood_biochemistry_test': 'Normal.',\n",
       "  'thyroid_function_test': '1. Vitamin B12 (VB12) 146pg/mL ↓.'},\n",
       " 'Imageological examination': {'plain_magnetic_resonance_imaging_scan': '1. No obvious abnormalities were observed in the brain MRI scan, DWI and MRA; 2. Bilateral maxillary sinusitis and ethmoid sinusitis; Please combine with clinical findings, and follow-up review.'},\n",
       " 'Auxillary examination': '(1)',\n",
       " 'Pathological examination': 'Not available.'}"
      ]
     },
     "execution_count": 15,
     "metadata": {},
     "output_type": "execute_result"
    }
   ],
   "source": [
    "filtered_clinical_case_dict"
   ]
  },
  {
   "cell_type": "code",
   "execution_count": 16,
   "metadata": {},
   "outputs": [
    {
     "data": {
      "text/plain": [
       "80"
      ]
     },
     "execution_count": 16,
     "metadata": {},
     "output_type": "execute_result"
    }
   ],
   "source": [
    "len(departmentdf)"
   ]
  },
  {
   "cell_type": "code",
   "execution_count": 18,
   "metadata": {},
   "outputs": [
    {
     "data": {
      "text/plain": [
       "{'Patient basic information': 'Elderly male, 78 years old.',\n",
       " 'Chief complaint': 'Progressive worsening of right-sided limb weakness for 5 years.',\n",
       " 'Medical history': \"The patient developed right-sided limb weakness 5 years ago without any obvious cause, accompanied by a feeling of heaviness and soreness in the right limb, particularly the right lower limb, difficulty in walking, and slowness. These symptoms progressively worsened, with the gradual onset of right-hand clumsiness. The patient was treated with 'Levodopa and Benserazide Tablets (0.125g, three times a day)', which slightly improved the aforementioned symptoms. During multiple follow-ups, due to fluctuations in symptoms of right limb movement impairment, the patient was given a combination of 'Pramipexole Tablets (0.25mg, three times a day)' and 'Amantadine (0.1g, twice a day)'. Two years ago, the patient sought medical attention due to the progression of right limb symptoms and significant slowness in walking, and was treated with an adjusted regimen of 'Levodopa and Benserazide Tablets (0.125g, four times a day)' and 'Selegiline (5mg, once a day)', which slightly improved the aforementioned symptoms. The patient stopped taking 'Selegiline' on his own. In the past two years, due to the progression of right limb weakness and associated slowness in walking, the patient was intermittently treated with 'Darling Compound (1 tablet, three times a day)' and 'Levodopa and Benserazide Tablets (1/4 tablet, four times a day)', which slightly improved the aforementioned symptoms. In the past six months, the aforementioned symptoms have progressed, accompanied by difficulty turning over, decreased sense of smell, difficulty in defecation, frequent urination, sleep disturbances at night, and emotional irritability and anger, with symptoms progressively worsening. The patient has no history of chronic diseases.\",\n",
       " 'Physical examination': \"Vital signs: BP: 145/80mmHg, no special findings in heart, lung, and abdomen examination. The patient is conscious, with a general response, indifferent expression, mask-like face, normal understanding and orientation, slightly unfluent speech, and cooperative during the examination. Bilateral nasolabial folds are symmetrical, the tongue is in the middle, right limb and left lower limb muscle tone is slightly high, tendon reflexes of all limbs are symmetrical and normal, muscle strength of all limbs is grade V, sensation and coordination are symmetrical and normal, bilateral Babinski sign is negative. The neck is soft, Kernig's sign is negative. NIHSS score: 0 points. Watian's water drinking test: Level 2. mRS score: 3 points. ADL score: 80 points.\",\n",
       " 'Laboratory examination': {'routine_blood_test': '1. Platelet Count (Impedance Method) (PLT-I) 378*10^9/L ↑; 2. Eosinophil Percentage (EO%) 9.9% ↑; 3. Eosinophil Absolute Value (EO#) 0.59*10^9/L ↑; 4. Platelet Hematocrit (PCT) 0.38% ↑.',\n",
       "  'blood_biochemistry_test': 'Normal.',\n",
       "  'thyroid_function_test': '1. Vitamin B12 (VB12) 146pg/mL ↓.'},\n",
       " 'Imageological examination': {'plain_magnetic_resonance_imaging_scan': '1. No obvious abnormalities were observed in the brain MRI scan, DWI and MRA; 2. Bilateral maxillary sinusitis and ethmoid sinusitis; Please combine with clinical findings, and follow-up review.'},\n",
       " 'Auxillary examination': '(1)',\n",
       " 'Pathological examination': 'Not available.'}"
      ]
     },
     "execution_count": 18,
     "metadata": {},
     "output_type": "execute_result"
    }
   ],
   "source": [
    "filtered_clinical_case_dict"
   ]
  },
  {
   "cell_type": "code",
   "execution_count": 20,
   "metadata": {},
   "outputs": [
    {
     "name": "stdout",
     "output_type": "stream",
     "text": [
      "\n",
      " case id: 712\n",
      "started model  llama3.1\n"
     ]
    },
    {
     "ename": "OutputParserException",
     "evalue": "Invalid json output: Here is the analysis and differential diagnosis:\n\n**Final Diagnosis**\n\n{\n  \"final_diagnosis\": \"Parkinson Disease\",\n  \"reasons\": [\n    {\n      \"category\": \"Medical History\",\n      \"reason\": \"Progressive worsening of right-sided limb weakness for 5 years, accompanied by slowness, difficulty in walking, and clumsiness, which is consistent with Parkinson's disease.\"\n    },\n    {\n      \"category\": \"Physical Examination\",\n      \"reason\": \"Mask-like face, slightly unfluent speech, and normal muscle strength, tone, sensation, and coordination, which are typical of Parkinson's disease.\"\n    },\n    {\n      \"category\": \"Laboratory Examination\",\n      \"reason\": \"Normal blood biochemistry test and thyroid function test, but low Vitamin B12 level, which is not uncommon in Parkinson's disease.\"\n    },\n    {\n      \"category\": \"Imaging Examination\",\n      \"reason\": \"No obvious abnormalities were observed in the brain MRI scan, which is consistent with early-stage Parkinson's disease.\"\n    }\n  ]\n}\n\n**Differential Diagnosis**\n\nThe other two options, Vascular Parkinson's Syndrome and Progressive Supranuclear Palsy, are less likely based on the following reasons:\n\n* **Vascular Parkinson's Syndrome**: The patient's symptoms have been progressive over 5 years, which is not typical of vascular parkinsonism. Additionally, there are no findings suggestive of cerebrovascular disease in the medical history or imaging examination.\n* **Progressive Supranuclear Palsy**: While the patient has difficulty turning over and decreased sense of smell, these symptoms are not specific to PSP. The presence of limb weakness and slowness is more consistent with Parkinson's disease.\n\nTherefore, based on the analysis of the patient's medical history, physical examination, laboratory examination, imaging examination, and differential diagnosis, the most likely disease is **Parkinson Disease**.",
     "output_type": "error",
     "traceback": [
      "\u001b[0;31m---------------------------------------------------------------------------\u001b[0m",
      "\u001b[0;31mJSONDecodeError\u001b[0m                           Traceback (most recent call last)",
      "File \u001b[0;32m~/code/Diagnosis-Assistant/venv/lib/python3.10/site-packages/langchain_core/output_parsers/json.py:84\u001b[0m, in \u001b[0;36mJsonOutputParser.parse_result\u001b[0;34m(self, result, partial)\u001b[0m\n\u001b[1;32m     83\u001b[0m \u001b[38;5;28;01mtry\u001b[39;00m:\n\u001b[0;32m---> 84\u001b[0m     \u001b[38;5;28;01mreturn\u001b[39;00m \u001b[43mparse_json_markdown\u001b[49m\u001b[43m(\u001b[49m\u001b[43mtext\u001b[49m\u001b[43m)\u001b[49m\n\u001b[1;32m     85\u001b[0m \u001b[38;5;28;01mexcept\u001b[39;00m JSONDecodeError \u001b[38;5;28;01mas\u001b[39;00m e:\n",
      "File \u001b[0;32m~/code/Diagnosis-Assistant/venv/lib/python3.10/site-packages/langchain_core/utils/json.py:147\u001b[0m, in \u001b[0;36mparse_json_markdown\u001b[0;34m(json_string, parser)\u001b[0m\n\u001b[1;32m    146\u001b[0m         json_str \u001b[38;5;241m=\u001b[39m match\u001b[38;5;241m.\u001b[39mgroup(\u001b[38;5;241m2\u001b[39m)\n\u001b[0;32m--> 147\u001b[0m \u001b[38;5;28;01mreturn\u001b[39;00m \u001b[43m_parse_json\u001b[49m\u001b[43m(\u001b[49m\u001b[43mjson_str\u001b[49m\u001b[43m,\u001b[49m\u001b[43m \u001b[49m\u001b[43mparser\u001b[49m\u001b[38;5;241;43m=\u001b[39;49m\u001b[43mparser\u001b[49m\u001b[43m)\u001b[49m\n",
      "File \u001b[0;32m~/code/Diagnosis-Assistant/venv/lib/python3.10/site-packages/langchain_core/utils/json.py:163\u001b[0m, in \u001b[0;36m_parse_json\u001b[0;34m(json_str, parser)\u001b[0m\n\u001b[1;32m    162\u001b[0m \u001b[38;5;66;03m# Parse the JSON string into a Python dictionary\u001b[39;00m\n\u001b[0;32m--> 163\u001b[0m \u001b[38;5;28;01mreturn\u001b[39;00m \u001b[43mparser\u001b[49m\u001b[43m(\u001b[49m\u001b[43mjson_str\u001b[49m\u001b[43m)\u001b[49m\n",
      "File \u001b[0;32m~/code/Diagnosis-Assistant/venv/lib/python3.10/site-packages/langchain_core/utils/json.py:118\u001b[0m, in \u001b[0;36mparse_partial_json\u001b[0;34m(s, strict)\u001b[0m\n\u001b[1;32m    115\u001b[0m \u001b[38;5;66;03m# If we got here, we ran out of characters to remove\u001b[39;00m\n\u001b[1;32m    116\u001b[0m \u001b[38;5;66;03m# and still couldn't parse the string as JSON, so return the parse error\u001b[39;00m\n\u001b[1;32m    117\u001b[0m \u001b[38;5;66;03m# for the original string.\u001b[39;00m\n\u001b[0;32m--> 118\u001b[0m \u001b[38;5;28;01mreturn\u001b[39;00m \u001b[43mjson\u001b[49m\u001b[38;5;241;43m.\u001b[39;49m\u001b[43mloads\u001b[49m\u001b[43m(\u001b[49m\u001b[43ms\u001b[49m\u001b[43m,\u001b[49m\u001b[43m \u001b[49m\u001b[43mstrict\u001b[49m\u001b[38;5;241;43m=\u001b[39;49m\u001b[43mstrict\u001b[49m\u001b[43m)\u001b[49m\n",
      "File \u001b[0;32m/opt/conda/lib/python3.10/json/__init__.py:359\u001b[0m, in \u001b[0;36mloads\u001b[0;34m(s, cls, object_hook, parse_float, parse_int, parse_constant, object_pairs_hook, **kw)\u001b[0m\n\u001b[1;32m    358\u001b[0m     kw[\u001b[38;5;124m'\u001b[39m\u001b[38;5;124mparse_constant\u001b[39m\u001b[38;5;124m'\u001b[39m] \u001b[38;5;241m=\u001b[39m parse_constant\n\u001b[0;32m--> 359\u001b[0m \u001b[38;5;28;01mreturn\u001b[39;00m \u001b[38;5;28;43mcls\u001b[39;49m\u001b[43m(\u001b[49m\u001b[38;5;241;43m*\u001b[39;49m\u001b[38;5;241;43m*\u001b[39;49m\u001b[43mkw\u001b[49m\u001b[43m)\u001b[49m\u001b[38;5;241;43m.\u001b[39;49m\u001b[43mdecode\u001b[49m\u001b[43m(\u001b[49m\u001b[43ms\u001b[49m\u001b[43m)\u001b[49m\n",
      "File \u001b[0;32m/opt/conda/lib/python3.10/json/decoder.py:337\u001b[0m, in \u001b[0;36mJSONDecoder.decode\u001b[0;34m(self, s, _w)\u001b[0m\n\u001b[1;32m    333\u001b[0m \u001b[38;5;250m\u001b[39m\u001b[38;5;124;03m\"\"\"Return the Python representation of ``s`` (a ``str`` instance\u001b[39;00m\n\u001b[1;32m    334\u001b[0m \u001b[38;5;124;03mcontaining a JSON document).\u001b[39;00m\n\u001b[1;32m    335\u001b[0m \n\u001b[1;32m    336\u001b[0m \u001b[38;5;124;03m\"\"\"\u001b[39;00m\n\u001b[0;32m--> 337\u001b[0m obj, end \u001b[38;5;241m=\u001b[39m \u001b[38;5;28;43mself\u001b[39;49m\u001b[38;5;241;43m.\u001b[39;49m\u001b[43mraw_decode\u001b[49m\u001b[43m(\u001b[49m\u001b[43ms\u001b[49m\u001b[43m,\u001b[49m\u001b[43m \u001b[49m\u001b[43midx\u001b[49m\u001b[38;5;241;43m=\u001b[39;49m\u001b[43m_w\u001b[49m\u001b[43m(\u001b[49m\u001b[43ms\u001b[49m\u001b[43m,\u001b[49m\u001b[43m \u001b[49m\u001b[38;5;241;43m0\u001b[39;49m\u001b[43m)\u001b[49m\u001b[38;5;241;43m.\u001b[39;49m\u001b[43mend\u001b[49m\u001b[43m(\u001b[49m\u001b[43m)\u001b[49m\u001b[43m)\u001b[49m\n\u001b[1;32m    338\u001b[0m end \u001b[38;5;241m=\u001b[39m _w(s, end)\u001b[38;5;241m.\u001b[39mend()\n",
      "File \u001b[0;32m/opt/conda/lib/python3.10/json/decoder.py:355\u001b[0m, in \u001b[0;36mJSONDecoder.raw_decode\u001b[0;34m(self, s, idx)\u001b[0m\n\u001b[1;32m    354\u001b[0m \u001b[38;5;28;01mexcept\u001b[39;00m \u001b[38;5;167;01mStopIteration\u001b[39;00m \u001b[38;5;28;01mas\u001b[39;00m err:\n\u001b[0;32m--> 355\u001b[0m     \u001b[38;5;28;01mraise\u001b[39;00m JSONDecodeError(\u001b[38;5;124m\"\u001b[39m\u001b[38;5;124mExpecting value\u001b[39m\u001b[38;5;124m\"\u001b[39m, s, err\u001b[38;5;241m.\u001b[39mvalue) \u001b[38;5;28;01mfrom\u001b[39;00m \u001b[38;5;28;01mNone\u001b[39;00m\n\u001b[1;32m    356\u001b[0m \u001b[38;5;28;01mreturn\u001b[39;00m obj, end\n",
      "\u001b[0;31mJSONDecodeError\u001b[0m: Expecting value: line 1 column 1 (char 0)",
      "\nThe above exception was the direct cause of the following exception:\n",
      "\u001b[0;31mOutputParserException\u001b[0m                     Traceback (most recent call last)",
      "Cell \u001b[0;32mIn[20], line 8\u001b[0m\n\u001b[1;32m      6\u001b[0m case_id,principal_diagnosis,differential_diagnosis,clinical_case_dict,filtered_clinical_case_dict\u001b[38;5;241m=\u001b[39mselect_case_components(departmentdf,caseNumber,required_fields,laboratory,image)\n\u001b[1;32m      7\u001b[0m \u001b[38;5;28mprint\u001b[39m(\u001b[38;5;124m\"\u001b[39m\u001b[38;5;130;01m\\n\u001b[39;00m\u001b[38;5;124m case id:\u001b[39m\u001b[38;5;124m\"\u001b[39m,case_id)\n\u001b[0;32m----> 8\u001b[0m output\u001b[38;5;241m=\u001b[39m\u001b[43mdoctor_prompt_disease_restricted_ollama\u001b[49m\u001b[43m(\u001b[49m\u001b[43mfiltered_clinical_case_dict\u001b[49m\u001b[43m,\u001b[49m\u001b[38;5;124;43m\"\u001b[39;49m\u001b[38;5;124;43mllama3.1\u001b[39;49m\u001b[38;5;124;43m\"\u001b[39;49m\u001b[43m,\u001b[49m\u001b[43mdifferential_diagnosis\u001b[49m\u001b[43m,\u001b[49m\u001b[43mdepartment\u001b[49m\u001b[43m)\u001b[49m\n\u001b[1;32m      9\u001b[0m \u001b[38;5;28mprint\u001b[39m(output)\n",
      "Cell \u001b[0;32mIn[13], line 30\u001b[0m, in \u001b[0;36mdoctor_prompt_disease_restricted_ollama\u001b[0;34m(medical_history, modelname, diseases, department)\u001b[0m\n\u001b[1;32m     28\u001b[0m output_parser \u001b[38;5;241m=\u001b[39m JsonOutputParser(pydantic_object\u001b[38;5;241m=\u001b[39mFinalDiagnosis)\n\u001b[1;32m     29\u001b[0m chain \u001b[38;5;241m=\u001b[39m prompt \u001b[38;5;241m|\u001b[39m model \u001b[38;5;241m|\u001b[39m output_parser\n\u001b[0;32m---> 30\u001b[0m output \u001b[38;5;241m=\u001b[39m \u001b[43mchain\u001b[49m\u001b[38;5;241;43m.\u001b[39;49m\u001b[43minvoke\u001b[49m\u001b[43m(\u001b[49m\n\u001b[1;32m     31\u001b[0m \u001b[43m    \u001b[49m\u001b[43m{\u001b[49m\n\u001b[1;32m     32\u001b[0m \u001b[43m        \u001b[49m\u001b[38;5;124;43m\"\u001b[39;49m\u001b[38;5;124;43mmedical_history\u001b[39;49m\u001b[38;5;124;43m\"\u001b[39;49m\u001b[43m:\u001b[49m\u001b[43m \u001b[49m\u001b[43mmedical_history\u001b[49m\u001b[43m,\u001b[49m\n\u001b[1;32m     33\u001b[0m \u001b[43m        \u001b[49m\u001b[38;5;124;43m\"\u001b[39;49m\u001b[38;5;124;43mdiseases\u001b[39;49m\u001b[38;5;124;43m\"\u001b[39;49m\u001b[43m:\u001b[49m\u001b[43m \u001b[49m\u001b[43mdiseases\u001b[49m\u001b[43m,\u001b[49m\n\u001b[1;32m     34\u001b[0m \u001b[43m        \u001b[49m\u001b[38;5;124;43m\"\u001b[39;49m\u001b[38;5;124;43mdepartment\u001b[39;49m\u001b[38;5;124;43m\"\u001b[39;49m\u001b[43m:\u001b[49m\u001b[43m \u001b[49m\u001b[43mdepartment\u001b[49m\u001b[43m,\u001b[49m\n\u001b[1;32m     35\u001b[0m \u001b[43m    \u001b[49m\u001b[43m}\u001b[49m\n\u001b[1;32m     36\u001b[0m \u001b[43m\u001b[49m\u001b[43m)\u001b[49m\n\u001b[1;32m     37\u001b[0m \u001b[38;5;28;01mreturn\u001b[39;00m output\n",
      "File \u001b[0;32m~/code/Diagnosis-Assistant/venv/lib/python3.10/site-packages/langchain_core/runnables/base.py:2878\u001b[0m, in \u001b[0;36mRunnableSequence.invoke\u001b[0;34m(self, input, config, **kwargs)\u001b[0m\n\u001b[1;32m   2876\u001b[0m             \u001b[38;5;28minput\u001b[39m \u001b[38;5;241m=\u001b[39m context\u001b[38;5;241m.\u001b[39mrun(step\u001b[38;5;241m.\u001b[39minvoke, \u001b[38;5;28minput\u001b[39m, config, \u001b[38;5;241m*\u001b[39m\u001b[38;5;241m*\u001b[39mkwargs)\n\u001b[1;32m   2877\u001b[0m         \u001b[38;5;28;01melse\u001b[39;00m:\n\u001b[0;32m-> 2878\u001b[0m             \u001b[38;5;28minput\u001b[39m \u001b[38;5;241m=\u001b[39m \u001b[43mcontext\u001b[49m\u001b[38;5;241;43m.\u001b[39;49m\u001b[43mrun\u001b[49m\u001b[43m(\u001b[49m\u001b[43mstep\u001b[49m\u001b[38;5;241;43m.\u001b[39;49m\u001b[43minvoke\u001b[49m\u001b[43m,\u001b[49m\u001b[43m \u001b[49m\u001b[38;5;28;43minput\u001b[39;49m\u001b[43m,\u001b[49m\u001b[43m \u001b[49m\u001b[43mconfig\u001b[49m\u001b[43m)\u001b[49m\n\u001b[1;32m   2879\u001b[0m \u001b[38;5;66;03m# finish the root run\u001b[39;00m\n\u001b[1;32m   2880\u001b[0m \u001b[38;5;28;01mexcept\u001b[39;00m \u001b[38;5;167;01mBaseException\u001b[39;00m \u001b[38;5;28;01mas\u001b[39;00m e:\n",
      "File \u001b[0;32m~/code/Diagnosis-Assistant/venv/lib/python3.10/site-packages/langchain_core/output_parsers/base.py:192\u001b[0m, in \u001b[0;36mBaseOutputParser.invoke\u001b[0;34m(self, input, config)\u001b[0m\n\u001b[1;32m    183\u001b[0m     \u001b[38;5;28;01mreturn\u001b[39;00m \u001b[38;5;28mself\u001b[39m\u001b[38;5;241m.\u001b[39m_call_with_config(\n\u001b[1;32m    184\u001b[0m         \u001b[38;5;28;01mlambda\u001b[39;00m inner_input: \u001b[38;5;28mself\u001b[39m\u001b[38;5;241m.\u001b[39mparse_result(\n\u001b[1;32m    185\u001b[0m             [ChatGeneration(message\u001b[38;5;241m=\u001b[39minner_input)]\n\u001b[0;32m   (...)\u001b[0m\n\u001b[1;32m    189\u001b[0m         run_type\u001b[38;5;241m=\u001b[39m\u001b[38;5;124m\"\u001b[39m\u001b[38;5;124mparser\u001b[39m\u001b[38;5;124m\"\u001b[39m,\n\u001b[1;32m    190\u001b[0m     )\n\u001b[1;32m    191\u001b[0m \u001b[38;5;28;01melse\u001b[39;00m:\n\u001b[0;32m--> 192\u001b[0m     \u001b[38;5;28;01mreturn\u001b[39;00m \u001b[38;5;28;43mself\u001b[39;49m\u001b[38;5;241;43m.\u001b[39;49m\u001b[43m_call_with_config\u001b[49m\u001b[43m(\u001b[49m\n\u001b[1;32m    193\u001b[0m \u001b[43m        \u001b[49m\u001b[38;5;28;43;01mlambda\u001b[39;49;00m\u001b[43m \u001b[49m\u001b[43minner_input\u001b[49m\u001b[43m:\u001b[49m\u001b[43m \u001b[49m\u001b[38;5;28;43mself\u001b[39;49m\u001b[38;5;241;43m.\u001b[39;49m\u001b[43mparse_result\u001b[49m\u001b[43m(\u001b[49m\u001b[43m[\u001b[49m\u001b[43mGeneration\u001b[49m\u001b[43m(\u001b[49m\u001b[43mtext\u001b[49m\u001b[38;5;241;43m=\u001b[39;49m\u001b[43minner_input\u001b[49m\u001b[43m)\u001b[49m\u001b[43m]\u001b[49m\u001b[43m)\u001b[49m\u001b[43m,\u001b[49m\n\u001b[1;32m    194\u001b[0m \u001b[43m        \u001b[49m\u001b[38;5;28;43minput\u001b[39;49m\u001b[43m,\u001b[49m\n\u001b[1;32m    195\u001b[0m \u001b[43m        \u001b[49m\u001b[43mconfig\u001b[49m\u001b[43m,\u001b[49m\n\u001b[1;32m    196\u001b[0m \u001b[43m        \u001b[49m\u001b[43mrun_type\u001b[49m\u001b[38;5;241;43m=\u001b[39;49m\u001b[38;5;124;43m\"\u001b[39;49m\u001b[38;5;124;43mparser\u001b[39;49m\u001b[38;5;124;43m\"\u001b[39;49m\u001b[43m,\u001b[49m\n\u001b[1;32m    197\u001b[0m \u001b[43m    \u001b[49m\u001b[43m)\u001b[49m\n",
      "File \u001b[0;32m~/code/Diagnosis-Assistant/venv/lib/python3.10/site-packages/langchain_core/runnables/base.py:1785\u001b[0m, in \u001b[0;36mRunnable._call_with_config\u001b[0;34m(self, func, input, config, run_type, **kwargs)\u001b[0m\n\u001b[1;32m   1781\u001b[0m     context \u001b[38;5;241m=\u001b[39m copy_context()\n\u001b[1;32m   1782\u001b[0m     context\u001b[38;5;241m.\u001b[39mrun(_set_config_context, child_config)\n\u001b[1;32m   1783\u001b[0m     output \u001b[38;5;241m=\u001b[39m cast(\n\u001b[1;32m   1784\u001b[0m         Output,\n\u001b[0;32m-> 1785\u001b[0m         \u001b[43mcontext\u001b[49m\u001b[38;5;241;43m.\u001b[39;49m\u001b[43mrun\u001b[49m\u001b[43m(\u001b[49m\n\u001b[1;32m   1786\u001b[0m \u001b[43m            \u001b[49m\u001b[43mcall_func_with_variable_args\u001b[49m\u001b[43m,\u001b[49m\u001b[43m  \u001b[49m\u001b[38;5;66;43;03m# type: ignore[arg-type]\u001b[39;49;00m\n\u001b[1;32m   1787\u001b[0m \u001b[43m            \u001b[49m\u001b[43mfunc\u001b[49m\u001b[43m,\u001b[49m\u001b[43m  \u001b[49m\u001b[38;5;66;43;03m# type: ignore[arg-type]\u001b[39;49;00m\n\u001b[1;32m   1788\u001b[0m \u001b[43m            \u001b[49m\u001b[38;5;28;43minput\u001b[39;49m\u001b[43m,\u001b[49m\u001b[43m  \u001b[49m\u001b[38;5;66;43;03m# type: ignore[arg-type]\u001b[39;49;00m\n\u001b[1;32m   1789\u001b[0m \u001b[43m            \u001b[49m\u001b[43mconfig\u001b[49m\u001b[43m,\u001b[49m\n\u001b[1;32m   1790\u001b[0m \u001b[43m            \u001b[49m\u001b[43mrun_manager\u001b[49m\u001b[43m,\u001b[49m\n\u001b[1;32m   1791\u001b[0m \u001b[43m            \u001b[49m\u001b[38;5;241;43m*\u001b[39;49m\u001b[38;5;241;43m*\u001b[39;49m\u001b[43mkwargs\u001b[49m\u001b[43m,\u001b[49m\n\u001b[1;32m   1792\u001b[0m \u001b[43m        \u001b[49m\u001b[43m)\u001b[49m,\n\u001b[1;32m   1793\u001b[0m     )\n\u001b[1;32m   1794\u001b[0m \u001b[38;5;28;01mexcept\u001b[39;00m \u001b[38;5;167;01mBaseException\u001b[39;00m \u001b[38;5;28;01mas\u001b[39;00m e:\n\u001b[1;32m   1795\u001b[0m     run_manager\u001b[38;5;241m.\u001b[39mon_chain_error(e)\n",
      "File \u001b[0;32m~/code/Diagnosis-Assistant/venv/lib/python3.10/site-packages/langchain_core/runnables/config.py:427\u001b[0m, in \u001b[0;36mcall_func_with_variable_args\u001b[0;34m(func, input, config, run_manager, **kwargs)\u001b[0m\n\u001b[1;32m    425\u001b[0m \u001b[38;5;28;01mif\u001b[39;00m run_manager \u001b[38;5;129;01mis\u001b[39;00m \u001b[38;5;129;01mnot\u001b[39;00m \u001b[38;5;28;01mNone\u001b[39;00m \u001b[38;5;129;01mand\u001b[39;00m accepts_run_manager(func):\n\u001b[1;32m    426\u001b[0m     kwargs[\u001b[38;5;124m\"\u001b[39m\u001b[38;5;124mrun_manager\u001b[39m\u001b[38;5;124m\"\u001b[39m] \u001b[38;5;241m=\u001b[39m run_manager\n\u001b[0;32m--> 427\u001b[0m \u001b[38;5;28;01mreturn\u001b[39;00m \u001b[43mfunc\u001b[49m\u001b[43m(\u001b[49m\u001b[38;5;28;43minput\u001b[39;49m\u001b[43m,\u001b[49m\u001b[43m \u001b[49m\u001b[38;5;241;43m*\u001b[39;49m\u001b[38;5;241;43m*\u001b[39;49m\u001b[43mkwargs\u001b[49m\u001b[43m)\u001b[49m\n",
      "File \u001b[0;32m~/code/Diagnosis-Assistant/venv/lib/python3.10/site-packages/langchain_core/output_parsers/base.py:193\u001b[0m, in \u001b[0;36mBaseOutputParser.invoke.<locals>.<lambda>\u001b[0;34m(inner_input)\u001b[0m\n\u001b[1;32m    183\u001b[0m     \u001b[38;5;28;01mreturn\u001b[39;00m \u001b[38;5;28mself\u001b[39m\u001b[38;5;241m.\u001b[39m_call_with_config(\n\u001b[1;32m    184\u001b[0m         \u001b[38;5;28;01mlambda\u001b[39;00m inner_input: \u001b[38;5;28mself\u001b[39m\u001b[38;5;241m.\u001b[39mparse_result(\n\u001b[1;32m    185\u001b[0m             [ChatGeneration(message\u001b[38;5;241m=\u001b[39minner_input)]\n\u001b[0;32m   (...)\u001b[0m\n\u001b[1;32m    189\u001b[0m         run_type\u001b[38;5;241m=\u001b[39m\u001b[38;5;124m\"\u001b[39m\u001b[38;5;124mparser\u001b[39m\u001b[38;5;124m\"\u001b[39m,\n\u001b[1;32m    190\u001b[0m     )\n\u001b[1;32m    191\u001b[0m \u001b[38;5;28;01melse\u001b[39;00m:\n\u001b[1;32m    192\u001b[0m     \u001b[38;5;28;01mreturn\u001b[39;00m \u001b[38;5;28mself\u001b[39m\u001b[38;5;241m.\u001b[39m_call_with_config(\n\u001b[0;32m--> 193\u001b[0m         \u001b[38;5;28;01mlambda\u001b[39;00m inner_input: \u001b[38;5;28;43mself\u001b[39;49m\u001b[38;5;241;43m.\u001b[39;49m\u001b[43mparse_result\u001b[49m\u001b[43m(\u001b[49m\u001b[43m[\u001b[49m\u001b[43mGeneration\u001b[49m\u001b[43m(\u001b[49m\u001b[43mtext\u001b[49m\u001b[38;5;241;43m=\u001b[39;49m\u001b[43minner_input\u001b[49m\u001b[43m)\u001b[49m\u001b[43m]\u001b[49m\u001b[43m)\u001b[49m,\n\u001b[1;32m    194\u001b[0m         \u001b[38;5;28minput\u001b[39m,\n\u001b[1;32m    195\u001b[0m         config,\n\u001b[1;32m    196\u001b[0m         run_type\u001b[38;5;241m=\u001b[39m\u001b[38;5;124m\"\u001b[39m\u001b[38;5;124mparser\u001b[39m\u001b[38;5;124m\"\u001b[39m,\n\u001b[1;32m    197\u001b[0m     )\n",
      "File \u001b[0;32m~/code/Diagnosis-Assistant/venv/lib/python3.10/site-packages/langchain_core/output_parsers/json.py:87\u001b[0m, in \u001b[0;36mJsonOutputParser.parse_result\u001b[0;34m(self, result, partial)\u001b[0m\n\u001b[1;32m     85\u001b[0m \u001b[38;5;28;01mexcept\u001b[39;00m JSONDecodeError \u001b[38;5;28;01mas\u001b[39;00m e:\n\u001b[1;32m     86\u001b[0m     msg \u001b[38;5;241m=\u001b[39m \u001b[38;5;124mf\u001b[39m\u001b[38;5;124m\"\u001b[39m\u001b[38;5;124mInvalid json output: \u001b[39m\u001b[38;5;132;01m{\u001b[39;00mtext\u001b[38;5;132;01m}\u001b[39;00m\u001b[38;5;124m\"\u001b[39m\n\u001b[0;32m---> 87\u001b[0m     \u001b[38;5;28;01mraise\u001b[39;00m OutputParserException(msg, llm_output\u001b[38;5;241m=\u001b[39mtext) \u001b[38;5;28;01mfrom\u001b[39;00m \u001b[38;5;21;01me\u001b[39;00m\n",
      "\u001b[0;31mOutputParserException\u001b[0m: Invalid json output: Here is the analysis and differential diagnosis:\n\n**Final Diagnosis**\n\n{\n  \"final_diagnosis\": \"Parkinson Disease\",\n  \"reasons\": [\n    {\n      \"category\": \"Medical History\",\n      \"reason\": \"Progressive worsening of right-sided limb weakness for 5 years, accompanied by slowness, difficulty in walking, and clumsiness, which is consistent with Parkinson's disease.\"\n    },\n    {\n      \"category\": \"Physical Examination\",\n      \"reason\": \"Mask-like face, slightly unfluent speech, and normal muscle strength, tone, sensation, and coordination, which are typical of Parkinson's disease.\"\n    },\n    {\n      \"category\": \"Laboratory Examination\",\n      \"reason\": \"Normal blood biochemistry test and thyroid function test, but low Vitamin B12 level, which is not uncommon in Parkinson's disease.\"\n    },\n    {\n      \"category\": \"Imaging Examination\",\n      \"reason\": \"No obvious abnormalities were observed in the brain MRI scan, which is consistent with early-stage Parkinson's disease.\"\n    }\n  ]\n}\n\n**Differential Diagnosis**\n\nThe other two options, Vascular Parkinson's Syndrome and Progressive Supranuclear Palsy, are less likely based on the following reasons:\n\n* **Vascular Parkinson's Syndrome**: The patient's symptoms have been progressive over 5 years, which is not typical of vascular parkinsonism. Additionally, there are no findings suggestive of cerebrovascular disease in the medical history or imaging examination.\n* **Progressive Supranuclear Palsy**: While the patient has difficulty turning over and decreased sense of smell, these symptoms are not specific to PSP. The presence of limb weakness and slowness is more consistent with Parkinson's disease.\n\nTherefore, based on the analysis of the patient's medical history, physical examination, laboratory examination, imaging examination, and differential diagnosis, the most likely disease is **Parkinson Disease**."
     ]
    }
   ],
   "source": [
    "department=\"neurology department\"\n",
    "departmentdf=filterDepartment(df,department)\n",
    "caseNumbers=[1,4,7,10,13,16,19,22,25,28,31,34,37,40]#,43,46,49,52,55,58,61,64,67,70,73,76]\n",
    "\n",
    "for caseNumber in caseNumbers:\n",
    "    case_id,principal_diagnosis,differential_diagnosis,clinical_case_dict,filtered_clinical_case_dict=select_case_components(departmentdf,caseNumber,required_fields,laboratory,image)\n",
    "    print(\"\\n case id:\",case_id)\n",
    "    output=doctor_prompt_disease_restricted_ollama(filtered_clinical_case_dict,\"llama3.1\",differential_diagnosis,department)"
   ]
  },
  {
   "cell_type": "code",
   "execution_count": null,
   "metadata": {},
   "outputs": [],
   "source": [
    "laboratory=\"abnormal\"\n",
    "image=\"impression\"\n",
    "report_type=f\"{laboratory}_{image}\"\n",
    "for department in departments:\n",
    "    print(\"department is\",department)\n",
    "    departmentdf=filterDepartment(df,department)\n",
    "    caseNumbers = [i for i in range(1, len(departmentdf), 10)]\n",
    "    # caseNumbers=[1]#,11,21]#31,41,51,61]\n",
    "    # caseNumbers=[1,11,21,31,41,51,61]\n",
    "    print(caseNumbers)\n",
    "    row=departmentdf\n",
    "    pdf = PDF()\n",
    "    pdf.set_left_margin(10)\n",
    "    pdf.set_right_margin(10)\n",
    "    getDepartmentStatistics(departmentdf)\n",
    "    for caseNumber in caseNumbers:\n",
    "        \n",
    "        case_id,principal_diagnosis,differential_diagnosis,clinical_case_dict,filtered_clinical_case_dict=select_case_components(departmentdf,caseNumber,required_fields,laboratory,image)\n",
    "        print(case_id)\n",
    "        print(principal_diagnosis)\n",
    "        model=\"gpt-4\"\n",
    "        output=doctor_prompt_gpt(filtered_clinical_case_dict,model, differential_diagnosis, department)\n",
    "        print(output)\n",
    "        output2=doctor_prompt_gpt_self_confinement(filtered_clinical_case_dict,model, differential_diagnosis, department,output)\n",
    "        print(output2)"
   ]
  },
  {
   "cell_type": "code",
   "execution_count": null,
   "metadata": {},
   "outputs": [],
   "source": [
    "laboratory=\"abnormal\"\n",
    "image=\"impression\"\n",
    "report_type=f\"{laboratory}_{image}\"\n",
    "for department in departments:\n",
    "    print(\"department is\",department)\n",
    "    departmentdf=filterDepartment(df,department)\n",
    "    caseNumbers = [i for i in range(1, len(departmentdf), 10)]\n",
    "    # caseNumbers=[1]#,11,21]#31,41,51,61]\n",
    "    print(caseNumbers)\n",
    "    row=departmentdf\n",
    "    pdf = PDF()\n",
    "    pdf.set_left_margin(10)\n",
    "    pdf.set_right_margin(10)\n",
    "    getDepartmentStatistics(departmentdf)\n",
    "    for caseNumber in caseNumbers:\n",
    "        case_id,principal_diagnosis,differential_diagnosis,clinical_case_dict,filtered_clinical_case_dict=select_case_components(departmentdf,caseNumber,required_fields,laboratory,image)\n",
    "        diagnoses = [(\"gpt-4\", doctor_prompt_gpt(filtered_clinical_case_dict, \"gpt-4\", uniquePrimary, department)),\n",
    "                     (\"llama3.1\", doctor_prompt_ollama(filtered_clinical_case_dict, \"llama3.1\", differential_diagnosis, department)),\n",
    "                     (\"phi3:14b\", doctor_prompt_ollama(filtered_clinical_case_dict, \"phi3:14b\", differential_diagnosis, department)),\n",
    "                     (\"mistral-nemo\", doctor_prompt_ollama(filtered_clinical_case_dict, \"mistral-nemo\", differential_diagnosis, department))\n",
    "                     ]\n",
    "        # diagnoses = [(model_name, doctor_prompt_disease_restricted_ollama(filtered_clinical_case_dict, model_name, differential_diagnosis, department)) for model_name in models]\n",
    "        pdf.add_case(case_id, principal_diagnosis, differential_diagnosis, clinical_case_dict, diagnoses)\n",
    "        print(\"done for caseid\",case_id)\n",
    "    # # Output the PDF to a file\n",
    "    pdf_file_path = f\"./medical-reports/{department}_{report_type}_combined_{laboratory}_{image}.pdf\"\n",
    "    pdf.output(pdf_file_path)\n",
    "\n",
    "    print(f\"PDF report generated: {pdf_file_path}\")"
   ]
  }
 ],
 "metadata": {
  "kernelspec": {
   "display_name": "venv",
   "language": "python",
   "name": "python3"
  },
  "language_info": {
   "codemirror_mode": {
    "name": "ipython",
    "version": 3
   },
   "file_extension": ".py",
   "mimetype": "text/x-python",
   "name": "python",
   "nbconvert_exporter": "python",
   "pygments_lexer": "ipython3",
   "version": "3.10.14"
  }
 },
 "nbformat": 4,
 "nbformat_minor": 2
}
