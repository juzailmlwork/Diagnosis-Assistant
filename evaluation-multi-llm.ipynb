{
 "cells": [
  {
   "cell_type": "markdown",
   "metadata": {},
   "source": [
    "loading required libraries"
   ]
  },
  {
   "cell_type": "code",
   "execution_count": 1,
   "metadata": {},
   "outputs": [],
   "source": [
    "import pandas as pd\n",
    "pd.set_option('display.max_colwidth', 5000)\n",
    "from dotenv import load_dotenv\n",
    "import json\n",
    "from src.pdf import create_pdf\n",
    "from src.gpt import evaluate_gpt\n",
    "from src.utils import (\n",
    "    load_preprocess_data,\n",
    "    extract_all_diseases_per_department,\n",
    "    filterDepartment,\n",
    "    getDepartmentStatistics,\n",
    "    run_prediction)\n",
    "load_dotenv()\n",
    "from prompts import single_shot_disease_only_prompt,open_ended__top4_prompt,prompt_template\n",
    "from src.gpt import doctor_prompt_gpt\n",
    "from src.utils import select_case_components"
   ]
  },
  {
   "cell_type": "markdown",
   "metadata": {},
   "source": [
    "importing the dataset"
   ]
  },
  {
   "cell_type": "code",
   "execution_count": 2,
   "metadata": {},
   "outputs": [
    {
     "name": "stdout",
     "output_type": "stream",
     "text": [
      "\n",
      "number of total cases are 1500\n",
      "\n",
      "each case have the following fields ['id', 'clinical_case_uid', 'language', 'clinical_department', 'principal_diagnosis', 'preliminary_diagnosis', 'diagnostic_basis', 'differential_diagnosis', 'treatment_plan', 'clinical_case_summary', 'imageological_examination', 'laboratory_examination', 'pathological_examination', 'therapeutic_principle']\n",
      "\n",
      "number of departments available are 24\n",
      "\n",
      " all the departments available are\n",
      "clinical_department\n",
      "orthopedics department                              100\n",
      "anus and intestine surgical department              100\n",
      "hepatobiliary and pancreas surgical department       99\n",
      "urinary surgical department                          90\n",
      "endocrinology department                             80\n",
      "gynecology department                                80\n",
      "otolaryngology head and neck surgical department     80\n",
      "neurology department                                 80\n",
      "thoracic surgical department                         70\n",
      "respiratory medicine department                      70\n",
      "gastroenterology department                          70\n",
      "neurosurgery department                              70\n",
      "cardiac surgical department                          70\n",
      "nephrology department                                60\n",
      "gastrointestinal surgical department                 60\n",
      "pediatrics department                                60\n",
      "thyroid surgical department                          50\n",
      "hernia surgical department                           40\n",
      "breast surgical department                           40\n",
      "cardiovascular medicine department                   40\n",
      "vascular surgical department                         40\n",
      "hematology department                                30\n",
      "obstetrics department                                20\n",
      "Gastroenterology                                      1\n",
      "Name: count, dtype: int64\n"
     ]
    }
   ],
   "source": [
    "filePath=\"dataset/clinicallab/data_en.json\"\n",
    "df=load_preprocess_data(filePath)"
   ]
  },
  {
   "cell_type": "markdown",
   "metadata": {},
   "source": [
    "filtering the dataset"
   ]
  },
  {
   "cell_type": "code",
   "execution_count": 3,
   "metadata": {},
   "outputs": [
    {
     "name": "stdout",
     "output_type": "stream",
     "text": [
      "number of principal diagnosis are 8\n",
      "principal_diagnosis\n",
      "parkinson disease            10\n",
      "epilepsy                     10\n",
      "transient ischemic attack    10\n",
      "myelitis                     10\n",
      "cerebral infarction          10\n",
      "subarachnoid hemorrhage      10\n",
      "alzheimer disease            10\n",
      "facial neuritis              10\n",
      "Name: count, dtype: int64\n",
      "number of preliminary_diagnosis are 8\n"
     ]
    }
   ],
   "source": [
    "department=\"neurology department\"\n",
    "departmentdf=filterDepartment(df,department)\n",
    "# departmentdf.to_json(f\"dataset/clinicallab/department/{department}.json\", orient='records', lines=False, indent=4)\n",
    "getDepartmentStatistics(departmentdf)"
   ]
  },
  {
   "cell_type": "code",
   "execution_count": null,
   "metadata": {},
   "outputs": [],
   "source": [
    "# Function to extract disease names from a single row\n"
   ]
  },
  {
   "cell_type": "code",
   "execution_count": 4,
   "metadata": {},
   "outputs": [
    {
     "name": "stdout",
     "output_type": "stream",
     "text": [
      "number of unique diseases are 58\n",
      "58\n",
      "['acute myelitis', 'acute spinal cord compression', 'acute spinal cord compression syndrome', 'alzheimer disease', 'benign positional vertigo', 'brain hemorrhage', 'brainstem infarction', 'cerebral hemorrhage', 'cerebral infarction', 'cervical vertigo', 'cranial tumor', 'dementia with lewy bodies (dlb)', 'diabetic neuropathy', 'electrolyte disorder', 'epilepsy', 'facial neuritis', 'frontotemporal dementia', 'frontotemporal dementia (ftd)', 'guillain-barre syndrome', 'guillain-barré syndrome', 'hereditary spastic paraplegia', 'intracranial infection', 'intracranial space-occupying lesions', 'lewy body dementia', 'lyme disease', 'multiple sclerosis', 'multiple system atrophy', 'myelitis', 'neurological lyme disease', 'neuromyelitis optica', 'optic neuritis', 'otic origin facial nerve paralysis', 'parkinson disease', \"parkinson's disease dementia (pdd)\", 'periodic paralysis', 'polymyositis', 'posterior fossa lesions', 'posterior fossa tumor or meningitis', 'primary tremor', 'progressive supranuclear palsy', 'progressive supranuclear palsy (psp)', 'pseudoseizures', \"secondary parkinson's syndrome\", 'spinal cerebellar ataxia', 'spinal cord compression', 'spinal cord compression syndrome', 'spinal vascular disease', 'subarachnoid hemorrhage', 'syncope', 'transient ischemic attack', 'tumor stroke', 'tumoral stroke', 'tumorous stroke', 'vascular dementia', \"vascular parkinson's syndrome\", 'vascular parkinsonism', 'vascular parkinsonism syndrome', 'vestibular neuronitis']\n",
      "58\n"
     ]
    }
   ],
   "source": [
    "uniqueDiseases=extract_all_diseases_per_department(departmentdf)\n",
    "print(len(uniqueDiseases))"
   ]
  },
  {
   "cell_type": "code",
   "execution_count": 5,
   "metadata": {},
   "outputs": [
    {
     "name": "stdout",
     "output_type": "stream",
     "text": [
      "58\n"
     ]
    }
   ],
   "source": [
    "uniqueDiseases1=['Lumbar Tuberculosis', 'systemic lupus erythematosus', 'Low T3 Syndrome', 'ankylosing spondylitis', \"Graves' disease\", 'Diabetes insipidus', 'Psoriatic Arthritis', 'Type 1 Diabetes', 'Type 1 diabetes', 'Hyperthyroidism', 'Scleredema', 'hypothyroidism', 'Hypoglycemia', 'Hypokalemia', 'Myositis', 'subacute thyroiditis', 'Simple Skin Allergy', 'Diabetes Insipidus', 'Simple Goiter', 'Psoriatic arthritis', 'rheumatoid arthritis', 'Rheumatic Fever', 'diabetes mellitus', 'Simple goiter', 'Colorectal cancer', 'gouty arthritis', 'Rheumatic fever', 'Osteoarthritis']\n",
    "uniqueDiseases1=['acute suppurative thyroiditis', 'ankylosing spondylitis', 'cervical and lumbar disc herniation', 'chronic lymphocytic thyroiditis', 'colorectal cancer', 'diabetes insipidus', 'diabetes mellitus', 'gouty arthritis', \"graves' disease\", \"hashimoto's thyroiditis\",'hyperthyroidism', 'hypoglycemia', 'hypokalemia', 'hypothyroidism', 'inflammatory bowel disease', 'lada', 'localized scleroderma', 'low t3 syndrome', 'lumbar tuberculosis', 'mixed connective tissue disease', 'myositis', 'osteoarthritis', 'psoriatic arthritis', 'rheumatic fever', 'rheumatoid arthritis', 'scleredema', 'simple goiter', 'simple skin allergy', 'subacute thyroiditis', 'systemic lupus erythematosus', 'type 1 diabetes']\n",
    "uniqueDiseases2=['Brain Hemorrhage', 'parkinson disease', 'Epilepsy', 'Cerebral Infarction', 'Diabetic Neuropathy', 'Cerebral hemorrhage', 'Lewy Body Dementia', 'Cervical vertigo', 'Tumorous Stroke', 'alzheimer disease', 'myelitis', 'Lyme Disease', 'Multiple sclerosis', 'Acute Myelitis', 'Tumoral Stroke', 'Optic neuritis', 'subarachnoid hemorrhage', 'Tumor Stroke', 'Cranial tumor', 'Vascular Dementia', 'Lyme disease', 'Syncope', 'Pseudoseizures', 'Periodic Paralysis', 'Primary Tremor', 'Diabetic neuropathy', 'facial neuritis', 'Polymyositis', 'transient ischemic attack']\n",
    "uniqueDiseasesall=[uniqueDiseases1,uniqueDiseases2]\n",
    "print(len(uniqueDiseases))"
   ]
  },
  {
   "cell_type": "code",
   "execution_count": 6,
   "metadata": {},
   "outputs": [],
   "source": [
    "departments=[\"nephrology department\",\n",
    "             \"gynecology department\",\n",
    "             \"endocrinology department\", \n",
    "             \"neurology department\",\n",
    "             \"pediatrics department\",\n",
    "             \"cardiac surgical department\",                          \n",
    "             \"gastrointestinal surgical department\",\n",
    "             \"respiratory medicine department\",]\n",
    "\n",
    "models = [\"llama3.1\", \"gemma2\", \"phi3:14b\", \"mistral-nemo\"]\n",
    "\n"
   ]
  },
  {
   "cell_type": "code",
   "execution_count": 7,
   "metadata": {},
   "outputs": [],
   "source": [
    "def run_prediction(df,prompt,departments,models=[],type=\"semi_ended\",laboratory_examination=\"result\",image_examination=\"findings\",skip=6):\n",
    "    required_fields=[ \"Patient basic information\",\n",
    "                 \"Chief complaint\",\n",
    "                 \"Medical history\",\n",
    "                 \"Physical examination\",\n",
    "                 \"Laboratory examination\",\n",
    "                 \"Imageological examination\",\n",
    "                 \"Auxillary examination\",\n",
    "                 \"Pathological examination\"\n",
    "    \n",
    "]\n",
    "    report_type=f\"{laboratory_examination}_{image_examination}\"\n",
    "    for i  in range(len(departments)):\n",
    "        department=departments[i]\n",
    "        results={}\n",
    "        print(\"department is\",department)\n",
    "        departmentdf=filterDepartment(df,department)\n",
    "        caseNumbers = [i for i in range(1, len(departmentdf), skip)]\n",
    "        print(caseNumbers)\n",
    "        getDepartmentStatistics(departmentdf)\n",
    "        for caseNumber in caseNumbers:\n",
    "            case_details={}        \n",
    "            case_id,principal_diagnosis,differential_diagnosis,clinical_case_dict,filtered_clinical_case_dict=select_case_components(departmentdf,caseNumber,required_fields,laboratory_examination,image_examination)\n",
    "            case_details[\"original\"]={\"main-diagnosis\":principal_diagnosis,\"differential_diagnosis\":differential_diagnosis}\n",
    "            print(\"case_id\",case_id)\n",
    "            print(\"principal diagnosis\",principal_diagnosis)\n",
    "            output0=doctor_prompt_gpt(prompt,filtered_clinical_case_dict,\"gpt-4\",differential_diagnosis,department)\n",
    "            \n",
    "            case_details[\"gpt-4\"]=output0\n",
    "            # case_details[\"llama3.1\"]=output1\n",
    "            # case_details[\"gemma2\"]=output2\n",
    "            results[str(case_id)]=case_details\n",
    "        with open(f\"{department}_{type}_{report_type}.json\", \"w\") as outfile: \n",
    "            json.dump(results, outfile)"
   ]
  },
  {
   "cell_type": "code",
   "execution_count": 11,
   "metadata": {},
   "outputs": [
    {
     "name": "stdout",
     "output_type": "stream",
     "text": [
      "department is neurology department\n",
      "[1, 9, 17, 25, 33, 41, 49, 57, 65, 73]\n",
      "number of principal diagnosis are 8\n",
      "principal_diagnosis\n",
      "parkinson disease            10\n",
      "epilepsy                     10\n",
      "transient ischemic attack    10\n",
      "myelitis                     10\n",
      "cerebral infarction          10\n",
      "subarachnoid hemorrhage      10\n",
      "alzheimer disease            10\n",
      "facial neuritis              10\n",
      "Name: count, dtype: int64\n",
      "number of preliminary_diagnosis are 8\n",
      "case_id 712\n",
      "principal diagnosis parkinson disease\n"
     ]
    },
    {
     "name": "stdout",
     "output_type": "stream",
     "text": [
      "case_id 720\n",
      "principal diagnosis parkinson disease\n",
      "case_id 728\n",
      "principal diagnosis epilepsy\n",
      "case_id 736\n",
      "principal diagnosis transient ischemic attack\n",
      "case_id 744\n",
      "principal diagnosis myelitis\n",
      "case_id 752\n",
      "principal diagnosis cerebral infarction\n",
      "case_id 760\n",
      "principal diagnosis cerebral infarction\n",
      "case_id 768\n",
      "principal diagnosis subarachnoid hemorrhage\n",
      "case_id 776\n",
      "principal diagnosis alzheimer disease\n",
      "case_id 784\n",
      "principal diagnosis facial neuritis\n"
     ]
    }
   ],
   "source": [
    "departments=[#\"nephrology department\",\n",
    "            #  \"gynecology department\",\n",
    "            #  \"endocrinology department\", \n",
    "            \"neurology department\",\n",
    "            #  \"pediatrics department\",\n",
    "            #  \"cardiac surgical department\",                          \n",
    "            #  \"gastrointestinal surgical department\",\n",
    "            #  \"respiratory medicine department\",\n",
    "            ]\n",
    "type=\"prompt_template\"\n",
    "prompt=prompt_template\n",
    "type=\"single_shot\"\n",
    "prompt=single_shot_disease_only_prompt\n",
    "type=\"open_ended\"\n",
    "prompt=open_ended__top4_prompt# \n",
    "run_prediction(df,prompt,departments,type=type,skip=8)"
   ]
  },
  {
   "cell_type": "code",
   "execution_count": null,
   "metadata": {},
   "outputs": [],
   "source": [
    "create_pdf(departments,type)"
   ]
  },
  {
   "cell_type": "code",
   "execution_count": null,
   "metadata": {},
   "outputs": [],
   "source": [
    "file_path=\"neurology department_semi_ended_result_findings.json\"\n",
    "with open(file_path, \"r\") as file:\n",
    "    data = json.load(file)"
   ]
  },
  {
   "cell_type": "code",
   "execution_count": null,
   "metadata": {},
   "outputs": [],
   "source": [
    "# Initialize results dictionary\n",
    "results = {model: {\"true\": [], \"false\": [], \"count_true\": 0, \"count_false\": 0} for model in [\"gpt-4\", \"llama3.1\", \"gemma2\"]}\n",
    "\n",
    "# Iterate through each case in the data\n",
    "for caseNumber, case in data.items():\n",
    "    ground_truth_disease = case[\"original\"][\"main-diagnosis\"]\n",
    "    \n",
    "    # Evaluate predictions for each model\n",
    "    for model in results.keys():\n",
    "        predicted = case[model]\n",
    "        output = list(evaluate_gpt(ground_truth_disease, predicted))\n",
    "        result=str(output[1])\n",
    "        # Append case number to correct or false lists and increment counts\n",
    "        results[model][result.lower()].append(caseNumber)\n",
    "        results[model][f'count_{result.lower()}'] += 1\n",
    "\n",
    "# Output results\n",
    "print(results)\n"
   ]
  }
 ],
 "metadata": {
  "kernelspec": {
   "display_name": "venv",
   "language": "python",
   "name": "python3"
  },
  "language_info": {
   "codemirror_mode": {
    "name": "ipython",
    "version": 3
   },
   "file_extension": ".py",
   "mimetype": "text/x-python",
   "name": "python",
   "nbconvert_exporter": "python",
   "pygments_lexer": "ipython3",
   "version": "3.10.14"
  }
 },
 "nbformat": 4,
 "nbformat_minor": 2
}
