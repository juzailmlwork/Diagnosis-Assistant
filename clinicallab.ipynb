{
 "cells": [
  {
   "cell_type": "markdown",
   "metadata": {},
   "source": [
    "loading required libraries"
   ]
  },
  {
   "cell_type": "code",
   "execution_count": 1,
   "metadata": {},
   "outputs": [
    {
     "data": {
      "text/plain": [
       "True"
      ]
     },
     "execution_count": 1,
     "metadata": {},
     "output_type": "execute_result"
    }
   ],
   "source": [
    "import pandas as pd\n",
    "pd.set_option('display.max_colwidth', 5000)\n",
    "import json\n",
    "from dotenv import load_dotenv\n",
    "from src.llm import doctor_prompt_disease_restricted_output_parser,doctor_prompt_disease_restricted_output_parser2\n",
    "from src.utils import convert_string_to_list,convert_clinical_case_summary,filterDepartment,getDepartmentStatistics,convert_cases_to_json\n",
    "from src.ollama2 import doctor_prompt_disease_restricted_output_parser_ollama,doctor_prompt_disease_restricted_output_parser_ollama_combined\n",
    "load_dotenv()"
   ]
  },
  {
   "cell_type": "markdown",
   "metadata": {},
   "source": [
    "importing the dataset"
   ]
  },
  {
   "cell_type": "code",
   "execution_count": 2,
   "metadata": {},
   "outputs": [
    {
     "name": "stdout",
     "output_type": "stream",
     "text": [
      "number of total cases are 1500\n",
      "each case have the following fields ['id', 'clinical_case_uid', 'language', 'clinical_department', 'principal_diagnosis', 'preliminary_diagnosis', 'diagnostic_basis', 'differential_diagnosis', 'treatment_plan', 'clinical_case_summary', 'imageological_examination', 'laboratory_examination', 'pathological_examination', 'therapeutic_principle']\n"
     ]
    }
   ],
   "source": [
    "filePath=\"dataset/clinicallab/data_en.json\"\n",
    "with open(filePath, 'r', encoding='utf-8') as f:\n",
    "            data = json.load(f)\n",
    "print(\"number of total cases are\",len(data))\n",
    "print(\"each case have the following fields\",list(data[0].keys()))"
   ]
  },
  {
   "cell_type": "markdown",
   "metadata": {},
   "source": [
    "filtering the dataset"
   ]
  },
  {
   "cell_type": "code",
   "execution_count": 3,
   "metadata": {},
   "outputs": [],
   "source": [
    "\n",
    "keys_to_include = [\"id\",'clinical_department', 'principal_diagnosis', 'preliminary_diagnosis', 'diagnostic_basis', 'differential_diagnosis', 'treatment_plan', 'clinical_case_summary', 'imageological_examination', 'laboratory_examination', 'pathological_examination', 'therapeutic_principle']\n",
    "df = pd.DataFrame([{key: d[key] for key in keys_to_include} for d in data])"
   ]
  },
  {
   "cell_type": "code",
   "execution_count": 4,
   "metadata": {},
   "outputs": [
    {
     "name": "stdout",
     "output_type": "stream",
     "text": [
      "number of departments available are 24\n",
      "clinical_department\n",
      "orthopedics department                              100\n",
      "anus and intestine surgical department              100\n",
      "hepatobiliary and pancreas surgical department       99\n",
      "urinary surgical department                          90\n",
      "endocrinology department                             80\n",
      "gynecology department                                80\n",
      "otolaryngology head and neck surgical department     80\n",
      "neurology department                                 80\n",
      "thoracic surgical department                         70\n",
      "respiratory medicine department                      70\n",
      "gastroenterology department                          70\n",
      "neurosurgery department                              70\n",
      "cardiac surgical department                          70\n",
      "nephrology department                                60\n",
      "gastrointestinal surgical department                 60\n",
      "pediatrics department                                60\n",
      "thyroid surgical department                          50\n",
      "hernia surgical department                           40\n",
      "breast surgical department                           40\n",
      "cardiovascular medicine department                   40\n",
      "vascular surgical department                         40\n",
      "hematology department                                30\n",
      "obstetrics department                                20\n",
      "Gastroenterology                                      1\n",
      "Name: count, dtype: int64\n"
     ]
    }
   ],
   "source": [
    "allDepartments=df['clinical_department'].value_counts()\n",
    "print(\"number of departments available are\",len(allDepartments))\n",
    "\n",
    "print(allDepartments)"
   ]
  },
  {
   "cell_type": "code",
   "execution_count": 5,
   "metadata": {},
   "outputs": [],
   "source": [
    "\n",
    "df['preliminary_diagnosis'] = df['preliminary_diagnosis'].apply(convert_string_to_list)\n",
    "df['diagnostic_basis'] = df['diagnostic_basis'].apply(convert_string_to_list)\n",
    "df['differential_diagnosis'] = df['differential_diagnosis'].apply(convert_string_to_list)\n",
    "df['treatment_plan'] = df['treatment_plan'].apply(convert_string_to_list)\n",
    "df[\"clinical_case_summary\"] = df[\"clinical_case_summary\"].apply(convert_clinical_case_summary)"
   ]
  },
  {
   "cell_type": "code",
   "execution_count": 35,
   "metadata": {},
   "outputs": [],
   "source": [
    "department=\"gynecology department\"#\"gynecology department\"#\"nephrology department\"\n",
    "departmentdf=filterDepartment(df,department)\n",
    "departmentdf.to_json(f\"dataset/clinicallab/department/{department}.json\", orient='records', lines=False, indent=4)"
   ]
  },
  {
   "cell_type": "code",
   "execution_count": 36,
   "metadata": {},
   "outputs": [
    {
     "name": "stdout",
     "output_type": "stream",
     "text": [
      "number of principal diagnosis are 8\n",
      "principal_diagnosis\n",
      "ovarian cyst             10\n",
      "endometrial polyp        10\n",
      "endometrial cancer       10\n",
      "uterine fibroid          10\n",
      "adenomyosis              10\n",
      "cervical polyp           10\n",
      "cervical cancer          10\n",
      "heterotopic pregnancy    10\n",
      "Name: count, dtype: int64\n",
      "number of preliminary_diagnosis are 8\n"
     ]
    }
   ],
   "source": [
    "getDepartmentStatistics(departmentdf)"
   ]
  },
  {
   "cell_type": "code",
   "execution_count": 37,
   "metadata": {},
   "outputs": [
    {
     "name": "stdout",
     "output_type": "stream",
     "text": [
      "number of unique diseases are 46\n",
      "['Uterine fibroids', 'Incomplete Abortion', 'Vaginal wall mass', 'heterotopic pregnancy', 'cervical polyp', 'Chronic cervicitis', 'Acute appendicitis', 'Uterine sarcoma', 'Atrophic vaginitis', 'Uterine leiomyoma', 'Ovarian tumor', 'Appendicitis', 'Acute salpingitis', 'Cervical lesion', 'Cervical lesions', 'Acute Salpingitis', 'cervical cancer', 'Endometrial Lesions', 'Hemolytic Anemia', 'Endometrial Lesion', 'adenomyosis', 'Acute Appendicitis', 'Complete Abortion', 'endometrial polyp', 'uterine fibroid', 'Adenomyosis', 'Uterine Adenomyoma', 'Gastric cancer', 'Endometrial polyps', 'Endometrial lesion', 'Cervical cancer', 'ovarian cyst', 'Endometrial lesions', 'endometrial cancer', 'Uterine Leiomyoma', 'Ovarian Tumor', 'Hydrosalpinx', 'Endometrial Cancer', \"Meniere's Disease\", 'Miscarriage', 'Cervical Lesions', 'Endometrial cancer', 'Vaginal Wall Mass', 'Uterine Sarcoma', 'Ectopic Pregnancy', 'Uterine adenomyoma']\n"
     ]
    }
   ],
   "source": [
    "# Function to extract disease names from a single row\n",
    "def extract_disease_names_from_row(differential_diagnosis_list):\n",
    "    disease=[entry.split(\":\")[0].strip() for entry in differential_diagnosis_list]\n",
    "    return disease\n",
    "\n",
    "# Apply the function to each row and combine all lists into one\n",
    "differential_diseases = departmentdf[\"differential_diagnosis\"].apply(extract_disease_names_from_row).sum()\n",
    "refined_differential_diseases=[]\n",
    "for disease in differential_diseases:\n",
    "    if len(disease) <20:\n",
    "        refined_differential_diseases.append(disease)\n",
    "uniqueDiseases=departmentdf[\"principal_diagnosis\"].unique().tolist()\n",
    "uniquePrimary=uniqueDiseases[:]\n",
    "uniqueDiseases.extend(refined_differential_diseases)\n",
    "uniqueDiseases=list(set(uniqueDiseases))\n",
    "print(\"number of unique diseases are\",len(uniqueDiseases))\n",
    "print(uniqueDiseases)"
   ]
  },
  {
   "cell_type": "code",
   "execution_count": 38,
   "metadata": {},
   "outputs": [
    {
     "name": "stdout",
     "output_type": "stream",
     "text": [
      "False\n",
      "False\n"
     ]
    }
   ],
   "source": [
    "disease=\"Syncope\"\n",
    "print(disease in refined_differential_diseases)\n",
    "print(disease in uniquePrimary)"
   ]
  },
  {
   "cell_type": "code",
   "execution_count": 39,
   "metadata": {},
   "outputs": [
    {
     "name": "stdout",
     "output_type": "stream",
     "text": [
      "False\n"
     ]
    }
   ],
   "source": [
    "print(disease in uniqueDiseases)"
   ]
  },
  {
   "cell_type": "code",
   "execution_count": 40,
   "metadata": {},
   "outputs": [],
   "source": [
    "doctor=\"doctor\"\n",
    "model=\"gpt-4\""
   ]
  },
  {
   "cell_type": "code",
   "execution_count": 66,
   "metadata": {},
   "outputs": [
    {
     "name": "stdout",
     "output_type": "stream",
     "text": [
      "the case id is 334\n",
      "\n",
      "the principal diagnosis is cervical cancer\n",
      "\n",
      "differential diagnosis is ['The diagnosis is clear, no differentiation needed.']\n",
      "\n",
      "the case history is  {'Patient Basic Information': 'Diagnosed with cervical cancer for 2 years, diarrhea for 1 week.', 'Chief Complaint': 'Middle-aged female, 49 years old.', 'Medical History': \"The patient was diagnosed with cervical cancer 2 years ago, and underwent 'open abdominal total hysterectomy + bilateral salpingo-oophorectomy + pelvic lymph node dissection' in the hospital. After the surgery, 'paclitaxel injection (210mg, d1, q21d), carboplatin (450mg, d1, q21d)' was given for 2 cycles of chemotherapy. Followed by pelvic radiotherapy, prescription dose: '95%PTV 5000cGy/25f'. During radiotherapy, 'paclitaxel injection (210mg, d1, q21d), carboplatin (450mg, d1, q21d)' was given for 1 cycle of concurrent chemotherapy. After chemotherapy, the patient's leukocytes decreased, and the chemotherapy regimen was adjusted to 'cisplatin (40mg, d1-3)' for concurrent chemotherapy. Later, 'paclitaxel injection (210mg, d1, q21d), carboplatin (450mg, d1, q21d)' was given again for chemotherapy. 6 months ago, 'paclitaxel injection (210mg, d1), carboplatin (500mg, d1)' was given for 6 cycles of chemotherapy, followed by regular check-ups and follow-up after discharge; 4 months ago, the patient had poor appetite, could not eat, and had symptoms of nausea and vomiting after eating. She was hospitalized for 'intestinal obstruction' and discharged after improvement. In the past 3 months, re-examination showed that cervical cancer was well controlled, but due to multiple intestinal obstructions and hypoglycemic coma, the patient was repeatedly hospitalized for treatment, and improved after symptomatic treatment; 1 week ago, diarrhea occurred, about 4-6 times/day, with yellow watery stools, no nausea, vomiting, fever or other discomfort.\", 'Physical Examination': 'No obvious abnormalities were observed.', 'Auxiliary Examination': '(1)', 'Imaging Examination': 'MRI plain scan: 1. Cervical cancer invades the cervical stroma.\\n(2)', 'Laboratory Examination': 'Blood routine: 1. Lymphocyte percentage (LYMPH%) 12.1% ↓; 2. Neutrophil percentage (NEUT%) 83.4% ↑; 3. Lymphocyte absolute value (LYMPH#) 0.4*10^9/L ↓; 4. Red blood cell (RBC) 2.3*10^12/L ↓; 5. Hemoglobin (HGB) 75g/L ↓; 6. Hematocrit (HCT) 21.9% ↓; 7. Platelet count (impedance method) (PLT-I) 363*10^9/L ↑; 8. Eosinophil percentage (EO%) 0.0% ↓; 9. Eosinophil absolute value (EO#) 0.00*10^9/L ↓.\\nBlood biochemistry: 1. Alanine aminotransferase (ALT) 45U/L ↑; 2. Aspartate aminotransferase (AST) 93U/L ↑; 3. Total protein (TP) 41.3g/L ↓; 4. Albumin (ALB) 21.5g/L ↓; 5. Globulin (GLB) 19.8g/L ↓; 6. Albumin/globulin ratio (A/G) 1.11.2-2.4 ↓; 7. Direct bilirubin (DBIL) 7.4μmol/L ↑; 8. Lactate dehydrogenase (LDH) 359U/L ↑; 9. Prealbumin (PA) 47.4mg/L ↓; 10. α-Hydroxybutyrate dehydrogenase (HBDH) 263U/L ↑; 11. Urea (Urea) 12.26mmol/L ↑; 12. Creatinine (Cr) 94μmol/L ↑; 13. High-density lipoprotein cholesterol (HDL-C) 0.79mmol/L ↓; 14. Apolipoprotein B (ApoB) <0.4g/L ↓; 15. Calcium (Ca) 1.47mmol/L ↓↓; 16. Potassium (K) 2.03mmol/L ↓↓; 17. Interleukin 6 (IL-6) 9.00pg/mL ↑; 18. Procalcitonin (PCT) 0.064ng/mL ↑.\\nTumor marker detection: 1. Carcinoembryonic antigen (CEA) 15.7ng/mL ↑; 2. Ferritin (FERR) 333.6ng/mL ↑; 3. Free triiodothyronine (FT3) 2.62pmol/L ↓; 4. Free thyroxine (FT4) 7.51pmol/L ↓; 5. Folic acid (Fol) >24.20ng/mL ↑; 6. Carbohydrate antigen 125 (CA125) 256.6U/mL ↑; 7. Human epididymis protein 4 (HE4) 270.4pmol/L ↑.\\n(3)', 'Pathological Examination': 'None.'}\n"
     ]
    }
   ],
   "source": [
    "caseNumber=63#68\n",
    "row= departmentdf.iloc[caseNumber]\n",
    "caseNumber=row.id\n",
    "medicalHistory=row.clinical_case_summary\n",
    "principalDiagnosis=row.principal_diagnosis\n",
    "differentialDiagnosis=row.differential_diagnosis\n",
    "print(\"the case id is\",caseNumber)\n",
    "print(\"\\nthe principal diagnosis is\",principalDiagnosis)\n",
    "print(\"\\ndifferential diagnosis is\",differentialDiagnosis)\n",
    "print(\"\\nthe case history is \",medicalHistory)"
   ]
  },
  {
   "cell_type": "code",
   "execution_count": 67,
   "metadata": {},
   "outputs": [
    {
     "name": "stdout",
     "output_type": "stream",
     "text": [
      "Based on the patient's medical history, physical examination, lab reports, and image reports, my top 3 most likely diseases are:\n",
      "\n",
      "**Disease 1: Cervical Cancer**\n",
      "\n",
      "* Reason: The patient was diagnosed with cervical cancer 2 years ago and underwent surgery and chemotherapy. She had poor appetite, nausea, and vomiting after eating 4 months ago, which is a common symptom of advanced cervical cancer.\n",
      "* Next step: To confirm the recurrence of cervical cancer, I would recommend performing a biopsy or an imaging study such as CT or PET scan to evaluate any suspicious lesions in the cervix.\n",
      "\n",
      "**Disease 2: Adenomyosis**\n",
      "\n",
      "* Reason: The patient had symptoms of diarrhea and yellow watery stools, which can be related to adenomyosis. Additionally, she has a history of cervical cancer, which is often associated with adenomyosis.\n",
      "* Next step: To confirm the diagnosis of adenomyosis, I would recommend performing an ultrasound or MRI scan to evaluate the size and location of any suspected lesions.\n",
      "\n",
      "**Disease 3: Intestinal Obstruction**\n",
      "\n",
      "* Reason: The patient had multiple episodes of intestinal obstruction, which can be caused by various factors, including cervical cancer or other gynecological conditions.\n",
      "* Next step: To confirm the diagnosis of intestinal obstruction, I would recommend performing a CT scan or MRI scan to evaluate any suspected lesions in the small intestine.\n"
     ]
    }
   ],
   "source": [
    "model=\"llama3\"\n",
    "diagnosis1=doctor_prompt_disease_restricted_output_parser_ollama(medicalHistory, model, uniquePrimary,department)"
   ]
  },
  {
   "cell_type": "code",
   "execution_count": 68,
   "metadata": {},
   "outputs": [
    {
     "name": "stdout",
     "output_type": "stream",
     "text": [
      "Based on the provided medical history, physical examination, lab reports, and imaging findings, here are the top 3 most likely diseases for the patient using differential diagnosis:\n",
      "\n",
      "1. **Disease Name:** Cervical Cancer\n",
      "   - **Reason:** The patient has a history of cervical cancer diagnosed 2 years ago, and recent MRI shows cervical cancer invading the cervical stroma. Elevated tumor markers such as CEA, CA125, and HE4 further support the presence of malignancy.\n",
      "   - **Next Step:** A follow-up MRI with contrast and possibly a PET-CT scan to assess the extent of the disease and any metastasis. Additionally, a biopsy of any suspicious lesions could be considered to confirm the diagnosis.\n",
      "\n",
      "2. **Disease Name:** Endometrial Cancer\n",
      "   - **Reason:** Elevated CA125 and HE4 levels can also be indicative of endometrial cancer. The patient's history of multiple gynecological surgeries and chemotherapy could predispose her to secondary malignancies.\n",
      "   - **Next Step:** Transvaginal ultrasound and endometrial biopsy to evaluate the endometrial lining and confirm the presence of endometrial cancer.\n",
      "\n",
      "3. **Disease Name:** Uterine Fibroid\n",
      "   - **Reason:** Although less likely given the patient's history, uterine fibroids can cause symptoms such as abdominal pain and gastrointestinal disturbances. The patient's history of multiple intestinal obstructions could be related to the presence of fibroids.\n",
      "   - **Next Step:** Pelvic ultrasound or MRI to visualize the uterus and identify any fibroids. If fibroids are found, further evaluation of their size, number, and location would be necessary.\n",
      "\n",
      "These differential diagnoses are based on the patient's complex medical history and current symptoms. Further diagnostic steps are essential to confirm the exact cause of her symptoms.\n"
     ]
    }
   ],
   "source": [
    "# model=\"llama3.1\"\n",
    "# diagnosis2=doctor_prompt_disease_restricted_output_parser_ollama(medicalHistory, model, uniquePrimary,department)\n",
    "model=\"gpt-4o\"\n",
    "diagnosis2=doctor_prompt_disease_restricted_output_parser(medicalHistory, model, uniquePrimary,department)"
   ]
  },
  {
   "cell_type": "code",
   "execution_count": 69,
   "metadata": {},
   "outputs": [
    {
     "name": "stdout",
     "output_type": "stream",
     "text": [
      "Based on the patient's medical history, physical examination, lab reports, and image reports, I have thoroughly investigated both diagnoses provided by the two doctors.\n",
      "\n",
      "**Disease 1: Cervical Cancer**\n",
      "\n",
      "As Doctor 1 has mentioned, the patient was diagnosed with cervical cancer 2 years ago and underwent surgery and chemotherapy. The symptoms of poor appetite, nausea, and vomiting after eating 4 months ago are consistent with advanced cervical cancer. However, I would like to note that the current diagnosis is more complex due to the presence of diarrhea and yellow watery stools.\n",
      "\n",
      "**Disease 2: Adenomyosis**\n",
      "\n",
      "Doctor 1 has also mentioned adenomyosis as a possible diagnosis, citing symptoms of diarrhea and yellow watery stools. While these symptoms are not uncommon in adenomyosis, I would like to note that they can also be related to other conditions such as intestinal obstruction or even recurrence of cervical cancer.\n",
      "\n",
      "**My Investigation**\n",
      "\n",
      "Upon reviewing the patient's medical history, physical examination, lab reports, and image reports, I have found the following:\n",
      "\n",
      "* The patient has a history of cervical cancer and has undergone surgery, chemotherapy, and radiotherapy.\n",
      "* She has experienced multiple episodes of intestinal obstruction, which can be caused by various factors including cervical cancer or other gynecological conditions.\n",
      "* Lab reports show elevated levels of tumor markers such as CA125 and HE4, which are often associated with advanced cervical cancer or adenomyosis.\n",
      "* Image reports reveal no evidence of recurrence of cervical cancer in the cervix.\n",
      "\n",
      "Based on this information, I would like to propose an alternative diagnosis:\n",
      "\n",
      "**Disease 3: Metastatic Cervical Cancer or Recurrence**\n",
      "\n",
      "Given the patient's history of cervical cancer and the presence of elevated tumor markers, I believe it is possible that the symptoms are related to metastatic cervical cancer or recurrence. However, further investigation is needed to confirm this diagnosis.\n",
      "\n",
      "Next step:\n",
      "\n",
      "To confirm the diagnosis, I would recommend performing a biopsy or an imaging study such as CT or PET scan to evaluate any suspicious lesions in the cervix, abdomen, or pelvis. Additionally, I would like to suggest that the patient undergoes a comprehensive gynecological examination, including a colposcopy and endometrial sampling, to rule out other gynecological conditions.\n",
      "\n",
      "**Conclusion**\n",
      "\n",
      "In conclusion, while both doctors' diagnoses are plausible, I believe that metastatic cervical cancer or recurrence is a more likely diagnosis based on the patient's medical history, physical examination, lab reports, and image reports. Further investigation is needed to confirm this diagnosis and determine the best course of treatment.\n"
     ]
    }
   ],
   "source": [
    "model=\"llama3.1\"\n",
    "final_diagnosis=doctor_prompt_disease_restricted_output_parser_ollama_combined(medicalHistory,model,diagnosis1,diagnosis2,department)"
   ]
  },
  {
   "cell_type": "code",
   "execution_count": 70,
   "metadata": {},
   "outputs": [
    {
     "name": "stdout",
     "output_type": "stream",
     "text": [
      "### Clinical Diagnosis\n",
      "\n",
      "#### 1. Principal Diagnosis:\n",
      "**Cervical Cancer Recurrence with Intestinal Involvement**\n",
      "\n",
      "#### 2. Diagnostic Basis:\n",
      "- **Medical History:**\n",
      "  - The patient has a history of cervical cancer diagnosed 2 years ago.\n",
      "  - Underwent extensive surgical treatment including total hysterectomy, bilateral salpingo-oophorectomy, and pelvic lymph node dissection.\n",
      "  - Received multiple cycles of chemotherapy and radiotherapy.\n",
      "  - History of multiple intestinal obstructions and hypoglycemic coma in the past 3 months.\n",
      "  - Recent symptoms include poor appetite, nausea, vomiting, and diarrhea (4-6 times/day with yellow watery stools).\n",
      "\n",
      "- **Physical Examination:**\n",
      "  - No obvious abnormalities observed, which may indicate that the symptoms are more related to internal pathology rather than external physical signs.\n",
      "\n",
      "- **Imaging Examination:**\n",
      "  - MRI shows cervical cancer invading the cervical stroma, suggesting possible local recurrence or residual disease.\n",
      "\n",
      "- **Laboratory Examination:**\n",
      "  - Blood routine shows significant abnormalities: decreased lymphocytes, red blood cells, hemoglobin, hematocrit, and eosinophils; increased neutrophils and platelets.\n",
      "  - Blood biochemistry reveals elevated liver enzymes (ALT, AST), decreased total protein and albumin, elevated direct bilirubin, lactate dehydrogenase, and urea, with critically low calcium and potassium levels.\n",
      "  - Tumor markers are elevated: CEA, CA125, and HE4, indicating active malignancy.\n",
      "  - Elevated inflammatory markers (IL-6, PCT) suggest an ongoing inflammatory or infectious process.\n",
      "\n",
      "#### 3. Differential Diagnosis:\n",
      "- **Ovarian Cyst:**\n",
      "  - Excluded due to the patient's surgical history of bilateral salpingo-oophorectomy, making the presence of ovarian cysts unlikely.\n",
      "\n",
      "- **Endometrial Polyp:**\n",
      "  - Excluded as the patient has undergone a total hysterectomy, removing the endometrium.\n",
      "\n",
      "- **Endometrial Cancer:**\n",
      "  - Excluded for the same reason as endometrial polyp; the patient no longer has an endometrium.\n",
      "\n",
      "- **Uterine Fibroid:**\n",
      "  - Excluded due to the absence of the uterus following hysterectomy.\n",
      "\n",
      "- **Adenomyosis:**\n",
      "  - Excluded as the patient no longer has a uterus.\n",
      "\n",
      "- **Cervical Polyp:**\n",
      "  - Unlikely given the extensive surgical history and the more severe symptoms and imaging findings.\n",
      "\n",
      "- **Cervical Cancer:**\n",
      "  - Confirmed as the principal diagnosis due to the history, imaging findings, and elevated tumor markers.\n",
      "\n",
      "- **Heterotopic Pregnancy:**\n",
      "  - Excluded due to the patient's age, surgical history (hysterectomy and bilateral salpingo-oophorectomy), and lack of relevant symptoms.\n",
      "\n",
      "**The diagnosis is clear and no further differentiation is needed.**\n"
     ]
    }
   ],
   "source": [
    "model=\"gpt-4o\"\n",
    "diagnosis2=doctor_prompt_disease_restricted_output_parser2(medicalHistory, model, uniquePrimary,department)\n",
    "print(diagnosis2.content)"
   ]
  }
 ],
 "metadata": {
  "kernelspec": {
   "display_name": "venv",
   "language": "python",
   "name": "python3"
  },
  "language_info": {
   "codemirror_mode": {
    "name": "ipython",
    "version": 3
   },
   "file_extension": ".py",
   "mimetype": "text/x-python",
   "name": "python",
   "nbconvert_exporter": "python",
   "pygments_lexer": "ipython3",
   "version": "3.10.14"
  }
 },
 "nbformat": 4,
 "nbformat_minor": 2
}
