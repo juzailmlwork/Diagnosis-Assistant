{
 "cells": [
  {
   "cell_type": "markdown",
   "metadata": {},
   "source": [
    "loading required libraries"
   ]
  },
  {
   "cell_type": "code",
   "execution_count": 22,
   "metadata": {},
   "outputs": [
    {
     "data": {
      "text/plain": [
       "True"
      ]
     },
     "execution_count": 22,
     "metadata": {},
     "output_type": "execute_result"
    }
   ],
   "source": [
    "import pandas as pd\n",
    "pd.set_option('display.max_colwidth', 5000)\n",
    "import json\n",
    "from dotenv import load_dotenv\n",
    "from src.llm import doctor_prompt_disease_restricted_output_parser\n",
    "from src.utils import convert_string_to_list,convert_clinical_case_summary,filterDepartment,getDepartmentStatistics,convert_cases_to_json\n",
    "from src.ollama2 import doctor_prompt_disease_restricted_output_parser_ollama,doctor_prompt_disease_restricted_output_parser_ollama_combined\n",
    "load_dotenv()"
   ]
  },
  {
   "cell_type": "markdown",
   "metadata": {},
   "source": [
    "importing the dataset"
   ]
  },
  {
   "cell_type": "code",
   "execution_count": 23,
   "metadata": {},
   "outputs": [
    {
     "name": "stdout",
     "output_type": "stream",
     "text": [
      "number of total cases are 1500\n",
      "each case have the following fields ['id', 'clinical_case_uid', 'language', 'clinical_department', 'principal_diagnosis', 'preliminary_diagnosis', 'diagnostic_basis', 'differential_diagnosis', 'treatment_plan', 'clinical_case_summary', 'imageological_examination', 'laboratory_examination', 'pathological_examination', 'therapeutic_principle']\n"
     ]
    }
   ],
   "source": [
    "filePath=\"dataset/clinicallab/data_en.json\"\n",
    "with open(filePath, 'r', encoding='utf-8') as f:\n",
    "            data = json.load(f)\n",
    "print(\"number of total cases are\",len(data))\n",
    "print(\"each case have the following fields\",list(data[0].keys()))"
   ]
  },
  {
   "cell_type": "markdown",
   "metadata": {},
   "source": [
    "filtering the dataset"
   ]
  },
  {
   "cell_type": "code",
   "execution_count": 24,
   "metadata": {},
   "outputs": [],
   "source": [
    "\n",
    "keys_to_include = [\"id\",'clinical_department', 'principal_diagnosis', 'preliminary_diagnosis', 'diagnostic_basis', 'differential_diagnosis', 'treatment_plan', 'clinical_case_summary', 'imageological_examination', 'laboratory_examination', 'pathological_examination', 'therapeutic_principle']\n",
    "df = pd.DataFrame([{key: d[key] for key in keys_to_include} for d in data])"
   ]
  },
  {
   "cell_type": "code",
   "execution_count": 25,
   "metadata": {},
   "outputs": [
    {
     "name": "stdout",
     "output_type": "stream",
     "text": [
      "number of departments available are 24\n",
      "clinical_department\n",
      "orthopedics department                              100\n",
      "anus and intestine surgical department              100\n",
      "hepatobiliary and pancreas surgical department       99\n",
      "urinary surgical department                          90\n",
      "endocrinology department                             80\n",
      "gynecology department                                80\n",
      "otolaryngology head and neck surgical department     80\n",
      "neurology department                                 80\n",
      "thoracic surgical department                         70\n",
      "respiratory medicine department                      70\n",
      "gastroenterology department                          70\n",
      "neurosurgery department                              70\n",
      "cardiac surgical department                          70\n",
      "nephrology department                                60\n",
      "gastrointestinal surgical department                 60\n",
      "pediatrics department                                60\n",
      "thyroid surgical department                          50\n",
      "hernia surgical department                           40\n",
      "breast surgical department                           40\n",
      "cardiovascular medicine department                   40\n",
      "vascular surgical department                         40\n",
      "hematology department                                30\n",
      "obstetrics department                                20\n",
      "Gastroenterology                                      1\n",
      "Name: count, dtype: int64\n"
     ]
    }
   ],
   "source": [
    "allDepartments=df['clinical_department'].value_counts()\n",
    "print(\"number of departments available are\",len(allDepartments))\n",
    "\n",
    "print(allDepartments)"
   ]
  },
  {
   "cell_type": "code",
   "execution_count": 26,
   "metadata": {},
   "outputs": [],
   "source": [
    "\n",
    "df['preliminary_diagnosis'] = df['preliminary_diagnosis'].apply(convert_string_to_list)\n",
    "df['diagnostic_basis'] = df['diagnostic_basis'].apply(convert_string_to_list)\n",
    "df['differential_diagnosis'] = df['differential_diagnosis'].apply(convert_string_to_list)\n",
    "df['treatment_plan'] = df['treatment_plan'].apply(convert_string_to_list)\n",
    "df[\"clinical_case_summary\"] = df[\"clinical_case_summary\"].apply(convert_clinical_case_summary)"
   ]
  },
  {
   "cell_type": "code",
   "execution_count": 44,
   "metadata": {},
   "outputs": [],
   "source": [
    "department=\"nephrology department\"#\"gynecology department\"#\"nephrology department\"\n",
    "departmentdf=filterDepartment(df,department)\n",
    "departmentdf.to_json(f\"dataset/clinicallab/department/{department}.json\", orient='records', lines=False, indent=4)"
   ]
  },
  {
   "cell_type": "code",
   "execution_count": 45,
   "metadata": {},
   "outputs": [
    {
     "name": "stdout",
     "output_type": "stream",
     "text": [
      "number of principal diagnosis are 6\n",
      "principal_diagnosis\n",
      "acute pyelonephritis       10\n",
      "acute renal failure        10\n",
      "chronic kidney disease     10\n",
      "urinary tract infection    10\n",
      "glomerulonephritis         10\n",
      "nephrotic syndrome         10\n",
      "Name: count, dtype: int64\n",
      "number of preliminary_diagnosis are 6\n"
     ]
    }
   ],
   "source": [
    "getDepartmentStatistics(departmentdf)"
   ]
  },
  {
   "cell_type": "code",
   "execution_count": 46,
   "metadata": {},
   "outputs": [
    {
     "name": "stdout",
     "output_type": "stream",
     "text": [
      "number of unique diseases are 17\n",
      "['Acute renal failure', 'Urinary Tumors', 'acute pyelonephritis', 'glomerulonephritis', 'Urogenital Tumors', 'Urinary Calculi', 'urinary tract infection', 'chronic kidney disease', 'Acute Kidney Injury', 'Urinary Tract Tumor', 'Acute kidney injury', 'Multiple Sclerosis', 'Syringomyelia', 'Urolithiasis', 'Urinary tract tumor', 'nephrotic syndrome', 'acute renal failure']\n"
     ]
    }
   ],
   "source": [
    "# Function to extract disease names from a single row\n",
    "def extract_disease_names_from_row(differential_diagnosis_list):\n",
    "    disease=[entry.split(\":\")[0].strip() for entry in differential_diagnosis_list]\n",
    "    return disease\n",
    "\n",
    "# Apply the function to each row and combine all lists into one\n",
    "differential_diseases = departmentdf[\"differential_diagnosis\"].apply(extract_disease_names_from_row).sum()\n",
    "refined_differential_diseases=[]\n",
    "for disease in differential_diseases:\n",
    "    if len(disease) <20:\n",
    "        refined_differential_diseases.append(disease)\n",
    "uniqueDiseases=departmentdf[\"principal_diagnosis\"].unique().tolist()\n",
    "uniquePrimary=uniqueDiseases[:]\n",
    "uniqueDiseases.extend(refined_differential_diseases)\n",
    "uniqueDiseases=list(set(uniqueDiseases))\n",
    "print(\"number of unique diseases are\",len(uniqueDiseases))\n",
    "print(uniqueDiseases)"
   ]
  },
  {
   "cell_type": "code",
   "execution_count": 47,
   "metadata": {},
   "outputs": [
    {
     "name": "stdout",
     "output_type": "stream",
     "text": [
      "False\n",
      "False\n"
     ]
    }
   ],
   "source": [
    "disease=\"Syncope\"\n",
    "print(disease in refined_differential_diseases)\n",
    "print(disease in uniquePrimary)"
   ]
  },
  {
   "cell_type": "code",
   "execution_count": 48,
   "metadata": {},
   "outputs": [
    {
     "name": "stdout",
     "output_type": "stream",
     "text": [
      "False\n"
     ]
    }
   ],
   "source": [
    "print(disease in uniqueDiseases)"
   ]
  },
  {
   "cell_type": "code",
   "execution_count": 49,
   "metadata": {},
   "outputs": [],
   "source": [
    "doctor=\"doctor\"\n",
    "model=\"gpt-4\""
   ]
  },
  {
   "cell_type": "code",
   "execution_count": 54,
   "metadata": {},
   "outputs": [
    {
     "name": "stdout",
     "output_type": "stream",
     "text": [
      "the case id is 1179\n",
      "\n",
      "the principal diagnosis is urinary tract infection\n",
      "\n",
      "differential diagnosis is ['Urogenital Tuberculosis: Symptoms may include frequent urination, urgency, and pain during urination. Often accompanied by afternoon low fever, night sweats, and a history of pulmonary tuberculosis. Urine smear may reveal acid-fast bacilli, PPD test positive, and special radiographic changes.', 'Urogenital Tumors: May present with low fever and hematuria. Urinalysis typically shows no leukocytes, urine culture is negative, and tumor markers usually have abnormal changes.', 'Urolithiasis: Symptoms may also include back pain and soreness. Urinalysis may reveal red and white blood cells. Ultrasound and other examinations can detect stones or ureteral dilation for diagnosis.']\n",
      "\n",
      "the case history is  {'Patient Basic Information': 'Elderly female, 70 years old.', 'Chief Complaint': 'Intermittent fever for 2 months, frequent urination and urgency for 1 week.', 'Medical History': \"The patient had a fever without any cause 2 months ago, with a maximum temperature of 37.5℃. She was treated with 'Amoxicillin Potassium Clavulanate Injection and Levofloxacin Injection' for anti-infection and discharged after improvement. One month ago, the patient had right-sided back pain accompanied by fever, with a highest temperature of 38.2℃, chills, nausea and vomiting, and frequent urination and urgency. She was treated with 'Cefoxitin Sodium for Injection' for anti-infection and discharged after improvement. One week ago, the patient experienced frequent urination and urgency again. She was treated with 'Cephalosporin' drugs for anti-infection, but the effect was not good. She still had intermittent frequent urination and urgency 4 days ago. She has a history of hypertension and diabetes.\", 'Physical Examination': 'Heart and lung auscultation is normal, no edema in both lower limbs, and no tenderness in both kidney areas.', 'Auxiliary Examination': '(1)', 'Imaging Examination': 'Color Doppler Ultrasound: 1. No obvious abnormalities in both kidneys, ureters, and bladder; 2. No residual urine.\\n(2)', 'Laboratory Examination': 'Blood Routine: 1. Hematocrit (HCT) 33.8% ↓; 2. Mean Corpuscular Volume (MCV) 79fL ↓; 3. Red Blood Cell Distribution Width (CV) (RDW-CV) 15.2% ↑.\\nUrine Routine: 1. Nitrite (NIT) positive (+); 2. White Blood Cell Count (WBC) 978/μL ↑; 3. Bacterial Count (BACT) 1760/μL ↑; 4. White Blood Cell (WBC) 25-27/HP ↑.\\nUrine Culture: Escherichia coli.\\n(3)', 'Pathological Examination': 'None.'}\n"
     ]
    }
   ],
   "source": [
    "caseNumber=38#68\n",
    "row= departmentdf.iloc[caseNumber]\n",
    "caseNumber=row.id\n",
    "medicalHistory=row.clinical_case_summary\n",
    "principalDiagnosis=row.principal_diagnosis\n",
    "differentialDiagnosis=row.differential_diagnosis\n",
    "print(\"the case id is\",caseNumber)\n",
    "print(\"\\nthe principal diagnosis is\",principalDiagnosis)\n",
    "print(\"\\ndifferential diagnosis is\",differentialDiagnosis)\n",
    "print(\"\\nthe case history is \",medicalHistory)"
   ]
  },
  {
   "cell_type": "code",
   "execution_count": 55,
   "metadata": {},
   "outputs": [
    {
     "name": "stdout",
     "output_type": "stream",
     "text": [
      "Based on the patient's medical history, physical examination, lab reports, and imaging results, my top 3 most likely diseases are:\n",
      "\n",
      "**Disease 1:** `urinary tract infection`\n",
      "\n",
      "* Reason: The patient has a history of frequent urination and urgency, which is consistent with UTI. The laboratory tests show positive nitrite (NIT) and bacterial count (BACT), suggesting the presence of bacteria in the urinary tract.\n",
      "* Next-step: Further examination to rule out any underlying conditions that may have contributed to the recurrent UTIs, such as chronic kidney disease or nephrolithiasis.\n",
      "\n",
      "**Disease 2:** `acute pyelonephritis`\n",
      "\n",
      "* Reason: The patient has had a history of intermittent fever and flank pain, which could be indicative of acute pyelonephritis. The laboratory tests show an elevated white blood cell count (WBC) in the urine, suggesting inflammation in the kidneys.\n",
      "* Next-step: Further imaging studies such as CT or MRI to assess for any kidney damage or abscesses.\n",
      "\n",
      "**Disease 3:** `chronic kidney disease`\n",
      "\n",
      "* Reason: The patient has a history of hypertension and diabetes, which are both risk factors for chronic kidney disease. The laboratory tests show an elevated hematocrit (HCT) and mean corpuscular volume (MCV), which could be indicative of chronic kidney disease.\n",
      "* Next-step: Further evaluation to assess the patient's renal function, including estimation of glomerular filtration rate (eGFR).\n",
      "\n",
      "Note that I did not include acute renal failure or glomerulonephritis in my top 3 diagnoses, as there is no clear evidence of these conditions based on the provided information. Nephrotic syndrome was also not included, as it is typically characterized by heavy proteinuria and edema, neither of which are mentioned in the patient's history.\n"
     ]
    }
   ],
   "source": [
    "model=\"llama3\"\n",
    "diagnosis1=doctor_prompt_disease_restricted_output_parser_ollama(medicalHistory, model, uniquePrimary,department)"
   ]
  },
  {
   "cell_type": "code",
   "execution_count": 56,
   "metadata": {},
   "outputs": [
    {
     "name": "stdout",
     "output_type": "stream",
     "text": [
      "Based on the provided medical history, physical examination, lab reports, and imaging examination, here are the top 3 most likely diseases for the patient:\n",
      "\n",
      "1. **Disease Name:** Urinary Tract Infection (UTI)\n",
      "   - **Reason:** The patient has a history of frequent urination and urgency, positive nitrite in urine, elevated white blood cell count in urine, and presence of Escherichia coli in urine culture. These findings are highly indicative of a urinary tract infection.\n",
      "   - **Next Step:** Perform a sensitivity test on the urine culture to determine the most effective antibiotic for treatment. Additionally, consider a follow-up urine analysis after treatment to ensure the infection has been resolved.\n",
      "\n",
      "2. **Disease Name:** Acute Pyelonephritis\n",
      "   - **Reason:** The patient has experienced right-sided back pain, fever, chills, nausea, and vomiting, which are classic symptoms of acute pyelonephritis. The elevated white blood cell count and presence of bacteria in the urine further support this diagnosis.\n",
      "   - **Next Step:** Conduct a contrast-enhanced CT scan of the abdomen and pelvis to assess for any complications such as abscess formation or obstruction. Blood cultures should also be taken to rule out bacteremia.\n",
      "\n",
      "3. **Disease Name:** Chronic Kidney Disease (CKD)\n",
      "   - **Reason:** The patient has a history of hypertension and diabetes, which are significant risk factors for chronic kidney disease. Although the imaging examination did not show obvious abnormalities, the patient's recurrent infections and slightly abnormal hematocrit levels could suggest underlying chronic kidney issues.\n",
      "   - **Next Step:** Measure serum creatinine and calculate the estimated glomerular filtration rate (eGFR) to assess kidney function. Additionally, perform a urine albumin-to-creatinine ratio (UACR) test to check for proteinuria, which is a marker of kidney damage.\n",
      "\n",
      "These differential diagnoses are based on the patient's symptoms, medical history, and current examination findings. Further tests and follow-up are necessary to confirm the exact diagnosis and guide appropriate treatment.\n"
     ]
    }
   ],
   "source": [
    "# model=\"llama3.1\"\n",
    "# diagnosis2=doctor_prompt_disease_restricted_output_parser_ollama(medicalHistory, model, uniquePrimary,department)\n",
    "model=\"gpt-4o\"\n",
    "diagnosis2=doctor_prompt_disease_restricted_output_parser(medicalHistory, model, uniquePrimary,department)"
   ]
  },
  {
   "cell_type": "code",
   "execution_count": 57,
   "metadata": {},
   "outputs": [
    {
     "name": "stdout",
     "output_type": "stream",
     "text": [
      "After thoroughly investigating both diagnoses and considering the patient's medical history, physical examination, lab reports, and imaging results, I have come to a conclusion.\n",
      "\n",
      "**Disease-name:** `Acute Pyelonephritis`\n",
      "\n",
      "**Reason:** Based on the patient's symptoms of intermittent fever, flank pain, chills, nausea and vomiting, frequent urination and urgency, which are all indicative of acute pyelonephritis. The laboratory tests show an elevated white blood cell count (WBC) in the urine, suggesting inflammation in the kidneys. Additionally, the patient has a history of recurrent UTIs, which could be contributing to the development of acute pyelonephritis.\n",
      "\n",
      "While urinary tract infection (UTI) is also a possibility, I believe that acute pyelonephritis is a more likely diagnosis given the presence of flank pain and fever, which are characteristic symptoms of this condition. Chronic kidney disease is less likely given the absence of clear evidence of renal dysfunction or proteinuria in the patient's lab reports.\n",
      "\n",
      "**Next-step:** Further imaging studies such as CT or MRI to assess for any kidney damage or abscesses would be necessary to confirm the diagnosis and guide treatment. Additionally, a urinary tract ultrasound may also be helpful to evaluate for any structural abnormalities in the kidneys or urinary tract.\n",
      "\n",
      "Here is a summary of my conclusion:\n",
      "\n",
      "```python\n",
      "{\n",
      "  \"disease-name\": \"Acute Pyelonephritis\",\n",
      "  \"reason\": \"Based on patient's symptoms and lab results, which suggest inflammation in the kidneys.\",\n",
      "  \"next-step\": \"Further imaging studies such as CT or MRI to assess for any kidney damage or abscesses.\"\n",
      "}\n",
      "```\n"
     ]
    }
   ],
   "source": [
    "model=\"llama3.1\"\n",
    "final_diagnosis=doctor_prompt_disease_restricted_output_parser_ollama_combined(medicalHistory,model,diagnosis1,diagnosis2,department)"
   ]
  },
  {
   "cell_type": "code",
   "execution_count": null,
   "metadata": {},
   "outputs": [],
   "source": []
  },
  {
   "cell_type": "code",
   "execution_count": null,
   "metadata": {},
   "outputs": [],
   "source": []
  }
 ],
 "metadata": {
  "kernelspec": {
   "display_name": "venv",
   "language": "python",
   "name": "python3"
  },
  "language_info": {
   "codemirror_mode": {
    "name": "ipython",
    "version": 3
   },
   "file_extension": ".py",
   "mimetype": "text/x-python",
   "name": "python",
   "nbconvert_exporter": "python",
   "pygments_lexer": "ipython3",
   "version": "3.10.14"
  }
 },
 "nbformat": 4,
 "nbformat_minor": 2
}
