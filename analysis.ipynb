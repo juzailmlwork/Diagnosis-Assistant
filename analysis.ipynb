{
 "cells": [
  {
   "cell_type": "code",
   "execution_count": null,
   "metadata": {},
   "outputs": [],
   "source": [
    "import json\n",
    "import pandas as pd\n",
    "from src.analysis import get_statistics,run_individual_model_analysis\n",
    "departments=[\"nephrology department\",\n",
    "             \"gynecology department\",\n",
    "            \"endocrinology department\", \n",
    "            \"neurology department\",\n",
    "             \"pediatrics department\",\n",
    "             \"cardiac surgical department\",                          \n",
    "             \"gastrointestinal surgical department\",\n",
    "             \"respiratory medicine department\",\n",
    "             \"gastroenterology department\",\n",
    "             \"urinary surgical department\",\n",
    "             \"hepatobiliary and pancreas surgical department\",\n",
    "             \"hematology department\"\n",
    "            ]"
   ]
  },
  {
   "cell_type": "code",
   "execution_count": 2,
   "metadata": {},
   "outputs": [],
   "source": [
    "types=[\"single_shot\",\"with_reasons\",\"check_others_input\"]\n",
    "for type in types:\n",
    "    get_statistics(type)"
   ]
  },
  {
   "cell_type": "markdown",
   "metadata": {},
   "source": [
    "### improvement analysis"
   ]
  },
  {
   "cell_type": "code",
   "execution_count": 7,
   "metadata": {},
   "outputs": [],
   "source": [
    "import json\n",
    "import pandas as pd\n",
    "departments=[\"nephrology department\",\n",
    "             \"gynecology department\",\n",
    "            \"endocrinology department\", \n",
    "            \"neurology department\",\n",
    "             \"pediatrics department\",\n",
    "             \"cardiac surgical department\",                          \n",
    "             \"gastrointestinal surgical department\",\n",
    "             \"respiratory medicine department\",\n",
    "             \"gastroenterology department\",\n",
    "             \"urinary surgical department\",\n",
    "             \"hepatobiliary and pancreas surgical department\",\n",
    "             \"hematology department\"\n",
    "            ]\n",
    "models=[\"gpt-4o\",\"llama3.1\",\"gemma2\"]\n",
    "\n",
    "with open(f\"results/analysis/with_reasons.json\", \"r\") as file:\n",
    "    first_dict = json.load(file)\n",
    "with open(f\"results/analysis/check_others_input.json\", \"r\") as file:\n",
    "    second_dict = json.load(file)\n",
    "all_dict={}\n",
    "for department in departments:\n",
    "    all_dict[department]={}\n",
    "    first_department=first_dict[department]\n",
    "    second_department=second_dict[department]\n",
    "    correct=[]\n",
    "    false=[]\n",
    "    all=first_department[models[0]][\"true\"]+first_department[models[0]][\"false\"]\n",
    "    all.sort()\n",
    "    for model in models:\n",
    "        first_correct=first_department[model][\"true\"]\n",
    "        second_correct=second_department[model][\"true\"]\n",
    "        both_fail=0\n",
    "        improve=0\n",
    "        second_fail=0\n",
    "        both_correct=0\n",
    "        for key in all:\n",
    "            if key in first_correct:\n",
    "                if key in second_correct:\n",
    "                    both_correct+=1\n",
    "                else:\n",
    "                    second_fail+=1\n",
    "            elif key in second_correct:\n",
    "                improve+=1\n",
    "            else:\n",
    "                both_fail+=1\n",
    "        all_dict[department][model]={\"both_fail\":both_fail,\"both_correct\":both_correct,\n",
    "                                     \"improved\":improve,\"second_failed\":second_fail}\n",
    "for model in models:\n",
    "    model_results = []\n",
    "    for department in departments:  \n",
    "        results = all_dict[department][model]\n",
    "        results[\"department\"] = department\n",
    "        model_results.append(results)\n",
    "    \n",
    "    # Create DataFrame\n",
    "    df = pd.DataFrame(model_results)\n",
    "    \n",
    "    # Set 'department' as the index\n",
    "    df.set_index('department', inplace=True)\n",
    "    \n",
    "    # Add a row with the sum of all columns\n",
    "    df.loc['Total'] = df.sum(numeric_only=True)  # Ensure it sums only numeric columns\n",
    "    \n",
    "    # Save to CSV\n",
    "    df.to_csv(f\"results/analysis/improvement_{model}.csv\")\n",
    "\n",
    "            "
   ]
  },
  {
   "cell_type": "markdown",
   "metadata": {},
   "source": [
    "### 2 model analysis"
   ]
  },
  {
   "cell_type": "code",
   "execution_count": 7,
   "metadata": {},
   "outputs": [],
   "source": [
    "\n",
    "types = [\"check_others_input\",\"check_others_input_without_mine\"]\n",
    "models = [\"llama3.1\", \"gemma2\"]\n",
    "folder=\"results-experiments/2_model_experiments\"\n",
    "run_individual_model_analysis(models,types,folder)"
   ]
  },
  {
   "cell_type": "markdown",
   "metadata": {},
   "source": [
    "### deepseek and qwen3"
   ]
  },
  {
   "cell_type": "code",
   "execution_count": 8,
   "metadata": {},
   "outputs": [],
   "source": [
    "types = [\"single_shot\"]\n",
    "models = [\"deepseek-r1\", \"qwen3\"]\n",
    "folder=\"results-experiments/qwen-deep-seek\"\n",
    "run_individual_model_analysis(models,types,folder)"
   ]
  },
  {
   "cell_type": "markdown",
   "metadata": {},
   "source": [
    "### self-refinement"
   ]
  },
  {
   "cell_type": "code",
   "execution_count": 9,
   "metadata": {},
   "outputs": [],
   "source": [
    "types = [\"self_refinement\"]\n",
    "models = [\"llama3.1\", \"gemma2\",\"mistral-nemo\",\"gpt-4o\"]\n",
    "folder=\"results-self-refinement\"\n",
    "run_individual_model_analysis(models,types,folder)"
   ]
  },
  {
   "cell_type": "markdown",
   "metadata": {},
   "source": [
    "### gpt-llama-gemma"
   ]
  },
  {
   "cell_type": "code",
   "execution_count": 11,
   "metadata": {},
   "outputs": [],
   "source": [
    "types = [\"single_shot\",\"with_reasons\",\"check_others_input\",\"check_others_input_without_mine\"]\n",
    "models = [\"llama3.1\", \"gemma2\",\"gpt-4o\"]\n",
    "folder=\"results-gpt-llama-gemma\"\n",
    "run_individual_model_analysis(models,types,folder)"
   ]
  }
 ],
 "metadata": {
  "kernelspec": {
   "display_name": "venv",
   "language": "python",
   "name": "python3"
  },
  "language_info": {
   "codemirror_mode": {
    "name": "ipython",
    "version": 3
   },
   "file_extension": ".py",
   "mimetype": "text/x-python",
   "name": "python",
   "nbconvert_exporter": "python",
   "pygments_lexer": "ipython3",
   "version": "3.12.5"
  }
 },
 "nbformat": 4,
 "nbformat_minor": 2
}
