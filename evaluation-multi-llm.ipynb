{
 "cells": [
  {
   "cell_type": "markdown",
   "metadata": {},
   "source": [
    "loading required libraries"
   ]
  },
  {
   "cell_type": "code",
   "execution_count": null,
   "metadata": {},
   "outputs": [],
   "source": [
    "import pandas as pd\n",
    "pd.set_option('display.max_colwidth', 5000)\n",
    "from dotenv import load_dotenv\n",
    "import json\n",
    "from src.pdf import create_pdf\n",
    "from src.gpt import evaluate_gpt\n",
    "from src.utils import (\n",
    "    load_preprocess_data,\n",
    "    extract_all_diseases_per_department,\n",
    "    filterDepartment,\n",
    "    getDepartmentStatistics,\n",
    "    run_prediction,\n",
    "    evaluate_results)\n",
    "load_dotenv()\n",
    "from prompts import single_shot_disease_only_prompt,open_ended__top4_prompt,with_reasons_prompt"
   ]
  },
  {
   "cell_type": "markdown",
   "metadata": {},
   "source": [
    "importing the dataset"
   ]
  },
  {
   "cell_type": "code",
   "execution_count": null,
   "metadata": {},
   "outputs": [],
   "source": [
    "filePath=\"dataset/clinicallab/data_en.json\"\n",
    "df=load_preprocess_data(filePath)\n"
   ]
  },
  {
   "cell_type": "code",
   "execution_count": null,
   "metadata": {},
   "outputs": [],
   "source": [
    "def extract_disease_names(diagnoses):\n",
    "    disease_names = []\n",
    "    for diagnosis in diagnoses:\n",
    "        disease_name = diagnosis.split(':')[0]  # Split and get the disease name\n",
    "        if len(disease_name) < 40:  # Check if the name is less than 40 characters\n",
    "            disease_names.append(disease_name)\n",
    "    return disease_names\n",
    "\n",
    "# Apply the function to filter and transform the 'differential-diagnosis' field\n",
    "df['differential_diagnosis'] = df['differential_diagnosis'].apply(extract_disease_names)\n",
    "\n",
    "# Filter rows where the number of elements in 'differential-diagnosis' is greater than 1\n",
    "filtered_df = df[df['differential_diagnosis'].apply(lambda x: len(x) > 1)]\n",
    "filtered_df['differential_diagnosis'] = filtered_df['differential_diagnosis'] + filtered_df['principal_diagnosis'].apply(lambda x: [x] if x else [])"
   ]
  },
  {
   "cell_type": "code",
   "execution_count": null,
   "metadata": {},
   "outputs": [],
   "source": [
    "print(len(df))\n",
    "# filtered_df = df[df['differential_diagnosis'].apply(lambda x: len(x) > 2)]\n",
    "print(len(filtered_df))"
   ]
  },
  {
   "cell_type": "code",
   "execution_count": null,
   "metadata": {},
   "outputs": [],
   "source": [
    "filtered_df.clinical_department.value_counts().sort_values(ascending=False)"
   ]
  },
  {
   "cell_type": "code",
   "execution_count": null,
   "metadata": {},
   "outputs": [],
   "source": [
    "departments=[\"nephrology department\",\n",
    "             \"gynecology department\",\n",
    "            \"endocrinology department\", \n",
    "            \"neurology department\",\n",
    "             \"pediatrics department\",\n",
    "             \"cardiac surgical department\",                          \n",
    "             \"gastrointestinal surgical department\",\n",
    "             \"respiratory medicine department\",\n",
    "             \"gastroenterology department\",\n",
    "             \"urinary surgical department\",\n",
    "             \"hepatobiliary and pancreas surgical department\",\n",
    "             \"hematology department\"\n",
    "            ]\n",
    "models = [\"gpt-4\",\"llama3.1\",\"gemma2\", \"phi3:14b\", \"mistral-nemo\"]"
   ]
  },
  {
   "cell_type": "code",
   "execution_count": null,
   "metadata": {},
   "outputs": [],
   "source": [
    "filtered_df = filtered_df[filtered_df['clinical_department'].isin(departments)]\n",
    "print(len(filtered_df))"
   ]
  },
  {
   "cell_type": "code",
   "execution_count": null,
   "metadata": {},
   "outputs": [],
   "source": [
    "729/3"
   ]
  },
  {
   "cell_type": "markdown",
   "metadata": {},
   "source": [
    "filtering the dataset"
   ]
  },
  {
   "cell_type": "code",
   "execution_count": null,
   "metadata": {},
   "outputs": [],
   "source": [
    "\n",
    "\n",
    "# type=\"with_reasons\"\n",
    "# prompt=with_reasons_prompt\n",
    "type=\"single_shot\"\n",
    "prompt=single_shot_disease_only_prompt\n",
    "# type=\"open_ended\"\n",
    "# # prompt=open_ended__top4_prompt# \n",
    "# run_prediction(df,prompt,departments,models=models,type=type,skip=5)"
   ]
  },
  {
   "cell_type": "code",
   "execution_count": null,
   "metadata": {},
   "outputs": [],
   "source": []
  },
  {
   "cell_type": "code",
   "execution_count": null,
   "metadata": {},
   "outputs": [],
   "source": [
    "\n"
   ]
  },
  {
   "cell_type": "code",
   "execution_count": null,
   "metadata": {},
   "outputs": [],
   "source": [
    "# file_path=\"results/nephrology department_single_shot_without_sorted_result_findings.json\"\n",
    "# with open(file_path, \"r\") as file:\n",
    "#     data = json.load(file)\n",
    "# evaluate_results(data)"
   ]
  },
  {
   "cell_type": "code",
   "execution_count": null,
   "metadata": {},
   "outputs": [
    {
     "name": "stdout",
     "output_type": "stream",
     "text": [
      "urinary surgical department\n",
      "gastrointestinal surgical department\n",
      "['gpt-4o', 'llama3.1', 'gemma2']\n"
     ]
    }
   ],
   "source": [
    "\n",
    "import os\n",
    "import json\n",
    "from src.utils import evaluate_department_results\n",
    "types=[\"single_shot\",\"with_reasons\"]\n",
    "for type in types:\n",
    "    all_files=os.listdir(\"results\")\n",
    "    all_results={}\n",
    "    for file in all_files:\n",
    "        department_name=file.split(\"_\")[0]\n",
    "        print(department_name)\n",
    "        if type in file:\n",
    "            file_path=os.path.join(\"results\",file)\n",
    "            department_name=file.split(\"_\")[0]\n",
    "            with open(file_path, \"r\") as file:\n",
    "                data = json.load(file)\n",
    "                results=evaluate_department_results(data)\n",
    "            all_results[department_name]=results\n",
    "    with open(f\"{type}.json\", \"w\") as outfile: \n",
    "        json.dump(all_results, outfile)"
   ]
  },
  {
   "cell_type": "code",
   "execution_count": null,
   "metadata": {},
   "outputs": [],
   "source": []
  },
  {
   "cell_type": "code",
   "execution_count": null,
   "metadata": {},
   "outputs": [],
   "source": []
  }
 ],
 "metadata": {
  "kernelspec": {
   "display_name": "venv",
   "language": "python",
   "name": "python3"
  },
  "language_info": {
   "codemirror_mode": {
    "name": "ipython",
    "version": 3
   },
   "file_extension": ".py",
   "mimetype": "text/x-python",
   "name": "python",
   "nbconvert_exporter": "python",
   "pygments_lexer": "ipython3",
   "version": "3.10.14"
  }
 },
 "nbformat": 4,
 "nbformat_minor": 2
}
