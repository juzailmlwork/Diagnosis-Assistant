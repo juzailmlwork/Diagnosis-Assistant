{
 "cells": [
  {
   "cell_type": "code",
   "execution_count": null,
   "metadata": {},
   "outputs": [],
   "source": [
    "import requests\n",
    "from bs4 import BeautifulSoup\n",
    "\n",
    "url = \"https://eyerounds.org/cases/263-Aphakic-Glaucoma.htm\"\n",
    "response = requests.get(url)\n",
    "soup = BeautifulSoup(response.content, 'html.parser')\n",
    "\n",
    "# Find all h2, h3, and p tags\n",
    "headers_and_paragraphs = soup.find_all(['h2', 'h3', 'p'])\n",
    "\n",
    "# Iterate over the found tags and print their text\n",
    "for element in headers_and_paragraphs:\n",
    "    print(f\"{element.name}: {element.text.strip()}\")\n"
   ]
  },
  {
   "cell_type": "code",
   "execution_count": null,
   "metadata": {},
   "outputs": [],
   "source": [
    "import requests\n",
    "from bs4 import BeautifulSoup\n",
    "\n",
    "url = \"https://eyerounds.org/trauma_cases.htm#gsc.tab=0\"\n",
    "response = requests.get(url)\n",
    "soup = BeautifulSoup(response.content, 'html.parser')\n",
    "\n",
    "# Find all anchor tags with target=\"_blank\"\n",
    "anchor_tags = soup.find_all('a', target='_blank')\n",
    "\n",
    "# Extract and print the href attributes\n",
    "for tag in anchor_tags:\n",
    "    href = tag.get('href')\n",
    "    if href:\n",
    "        print(href)\n"
   ]
  },
  {
   "cell_type": "code",
   "execution_count": null,
   "metadata": {},
   "outputs": [],
   "source": []
  }
 ],
 "metadata": {
  "kernelspec": {
   "display_name": "venv",
   "language": "python",
   "name": "python3"
  },
  "language_info": {
   "codemirror_mode": {
    "name": "ipython",
    "version": 3
   },
   "file_extension": ".py",
   "mimetype": "text/x-python",
   "name": "python",
   "nbconvert_exporter": "python",
   "pygments_lexer": "ipython3",
   "version": "3.10.11"
  }
 },
 "nbformat": 4,
 "nbformat_minor": 2
}
