{
 "cells": [
  {
   "cell_type": "code",
   "execution_count": null,
   "metadata": {},
   "outputs": [],
   "source": [
    "import json\n",
    "import os"
   ]
  },
  {
   "cell_type": "code",
   "execution_count": null,
   "metadata": {},
   "outputs": [],
   "source": [
    "datasetPath=r\"C:\\Users\\jzlco\\OneDrive\\Desktop\\github-repos\\diagnosis-assistant\\dataset\\patients.json\"\n",
    "with open(datasetPath, encoding='utf-8') as file:\n",
    "    datasetList = json.load(file)\n",
    "print(\"the length of the dataset is\",len(datasetList))"
   ]
  },
  {
   "cell_type": "code",
   "execution_count": null,
   "metadata": {},
   "outputs": [],
   "source": [
    "columns=list(datasetList[0].keys())\n",
    "print(columns)\n",
    "departments={}\n",
    "authors=[]\n",
    "diseases=[]\n",
    "reports=[]\n",
    "for item in datasetList:\n",
    "    departmentName=item[\"department\"]\n",
    "    if departmentName in departments.keys():\n",
    "        departments[departmentName]+=1\n",
    "    else:\n",
    "        departments[departmentName]=1\n",
    "    authors.append(item[\"author\"])\n",
    "    diseases.append(item[\"diseases\"])\n",
    "    reports.append(item[\"medical_record\"][\"辅助检查\"])\n",
    "\n",
    "print(\"number of departments are\",len(departments))"
   ]
  },
  {
   "cell_type": "code",
   "execution_count": null,
   "metadata": {},
   "outputs": [],
   "source": [
    "print(\"number of departments are\",len(departments))"
   ]
  },
  {
   "cell_type": "code",
   "execution_count": null,
   "metadata": {},
   "outputs": [],
   "source": [
    "firstSplit=set()\n",
    "secondSplit=set()\n",
    "for departmentName in departments.keys():\n",
    "    stripped=departmentName.strip()\n",
    "    splitted=stripped.split(\" \")\n",
    "    if splitted[0]!=splitted[1]:\n",
    "        firstSplit.add(splitted[0])\n",
    "        secondSplit.add(splitted[1])\n",
    "print(firstSplit)\n",
    "print(secondSplit)"
   ]
  },
  {
   "cell_type": "code",
   "execution_count": null,
   "metadata": {},
   "outputs": [],
   "source": [
    "medicalKeys={\n",
    "\"一般资料\":\"General Information\",\n",
    "\"主诉\": \"Chief Complaint\",\n",
    "\"现病史\": \"Present Illness History\",\n",
    "\"既往史\": \"Past Medical History\",\n",
    "\"查体\": \"Physical Examination\",\n",
    "\"辅助检查\": \"Auxiliary Examinations\",\n",
    "\"初步诊断\": \"Preliminary Diagnosis\",\n",
    "\"诊断依据\": \"Diagnostic Basis\",\n",
    "\"鉴别诊断\": \"Differential Diagnosis\",\n",
    "\"诊治经过\": \"Course of Diagnosis and Treatment\",\n",
    "\"诊断结果\": \"Diagnostic Results\",\n",
    "\"分析总结\": \"Analysis and Summary\",\n",
    "}"
   ]
  },
  {
   "cell_type": "code",
   "execution_count": null,
   "metadata": {},
   "outputs": [],
   "source": [
    "reports[10]"
   ]
  }
 ],
 "metadata": {
  "kernelspec": {
   "display_name": "venv",
   "language": "python",
   "name": "python3"
  },
  "language_info": {
   "codemirror_mode": {
    "name": "ipython",
    "version": 3
   },
   "file_extension": ".py",
   "mimetype": "text/x-python",
   "name": "python",
   "nbconvert_exporter": "python",
   "pygments_lexer": "ipython3",
   "version": "3.12.5"
  }
 },
 "nbformat": 4,
 "nbformat_minor": 2
}
