{
 "cells": [
  {
   "cell_type": "code",
   "execution_count": 1,
   "metadata": {},
   "outputs": [],
   "source": [
    "from langchain_community.tools.pubmed.tool import PubmedQueryRun"
   ]
  },
  {
   "cell_type": "code",
   "execution_count": 2,
   "metadata": {},
   "outputs": [],
   "source": [
    "tool = PubmedQueryRun()"
   ]
  },
  {
   "cell_type": "code",
   "execution_count": 9,
   "metadata": {},
   "outputs": [
    {
     "name": "stdout",
     "output_type": "stream",
     "text": [
      "Too Many Requests, waiting for 1.60 seconds...\n"
     ]
    }
   ],
   "source": [
    "results=tool.invoke(\"What are the tests done to detect  endometrial polyp?\")"
   ]
  },
  {
   "cell_type": "code",
   "execution_count": 10,
   "metadata": {},
   "outputs": [
    {
     "name": "stdout",
     "output_type": "stream",
     "text": [
      "Published: --\n",
      "Title: The importance of the 'uterine factor' in recurrent pregnancy loss: a retrospective cohort study on women screened through 3D transvaginal ultrasound.\n",
      "Copyright Information: © The Author(s) 2024. Published by Oxford University Press on behalf of European Society of Human Reproduction and Embryology. All rights reserved. For permissions, please email: journals.permissions@oup.com.\n",
      "Summary::\n",
      "STUDY QUESTION: What is the prevalence of congenital and acquired anomalies of the uterus in women with recurrent pregnancy loss (RPL) of unknown etiology examined using 3D transvaginal ultrasound (US)?\n",
      "SUMMARY ANSWER: Depending on the adopted diagnostic criteria, the prevalence of partial septate uterus varies between 7% and 14% and a T-shaped uterus is 3% or 4%, while adenomyosis is 23%, at least one of type 0, type 1 or type 2 myoma is 4%, and at least one endometrial polyp is 4%.\n",
      "WHAT IS KNOWN ALREADY: ESHRE and the Royal College of Obstetricians and Gynaecologists guidelines on RPL recommend the adoption of the 3D transvaginal US to evaluate the 'uterine factor'. Nevertheless, there are no published studies reporting the prevalence of both congenital and acquired uterine anomalies as assessed by 3D transvaginal US and diagnosed according to the criteria proposed by the most authoritative panels of experts in a cohort of women with RPL.\n",
      "STUDY DESIGN, SIZE, DURATION: This was a retrospective cohort study including 442 women with at least two previous first-trimester spontaneous pregnancy losses (i.e. non-viable intrauterine pregnancies), who referred to the obstetrics and gynecology unit of two university hospitals between July 2020 and July 2023.\n",
      "PARTICIPANTS/MATERIALS, SETTING, METHODS: Records of eligible women were reviewed. Women could be included in the study if: they were between 25 and 42 years old; they had no relevant comorbidities; they were not affected by infertility, and they had never undergone ART; they and their partner tested negative to a\n"
     ]
    }
   ],
   "source": [
    "print(results)"
   ]
  },
  {
   "cell_type": "code",
   "execution_count": null,
   "metadata": {},
   "outputs": [],
   "source": []
  }
 ],
 "metadata": {
  "kernelspec": {
   "display_name": "venv",
   "language": "python",
   "name": "python3"
  },
  "language_info": {
   "codemirror_mode": {
    "name": "ipython",
    "version": 3
   },
   "file_extension": ".py",
   "mimetype": "text/x-python",
   "name": "python",
   "nbconvert_exporter": "python",
   "pygments_lexer": "ipython3",
   "version": "3.10.14"
  }
 },
 "nbformat": 4,
 "nbformat_minor": 2
}
