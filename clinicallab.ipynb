{
 "cells": [
  {
   "cell_type": "markdown",
   "metadata": {},
   "source": [
    "loading required libraries"
   ]
  },
  {
   "cell_type": "code",
   "execution_count": 1,
   "metadata": {},
   "outputs": [
    {
     "data": {
      "text/plain": [
       "True"
      ]
     },
     "execution_count": 1,
     "metadata": {},
     "output_type": "execute_result"
    }
   ],
   "source": [
    "import pandas as pd\n",
    "pd.set_option('display.max_colwidth', 5000)\n",
    "import json\n",
    "from dotenv import load_dotenv\n",
    "from src.llm import doctor_prompt_disease_restricted_output_parser,doctor_prompt_disease_restricted_output_parser2\n",
    "from src.utils import convert_string_to_list,convert_clinical_case_summary,filterDepartment,getDepartmentStatistics,convert_cases_to_json\n",
    "load_dotenv()"
   ]
  },
  {
   "cell_type": "markdown",
   "metadata": {},
   "source": [
    "importing the dataset"
   ]
  },
  {
   "cell_type": "code",
   "execution_count": 2,
   "metadata": {},
   "outputs": [
    {
     "name": "stdout",
     "output_type": "stream",
     "text": [
      "number of total cases are 1500\n",
      "each case have the following fields ['id', 'clinical_case_uid', 'language', 'clinical_department', 'principal_diagnosis', 'preliminary_diagnosis', 'diagnostic_basis', 'differential_diagnosis', 'treatment_plan', 'clinical_case_summary', 'imageological_examination', 'laboratory_examination', 'pathological_examination', 'therapeutic_principle']\n"
     ]
    }
   ],
   "source": [
    "filePath=\"dataset\\clinicallab\\data_en.json\"\n",
    "with open(filePath, 'r', encoding='utf-8') as f:\n",
    "            data = json.load(f)\n",
    "print(\"number of total cases are\",len(data))\n",
    "print(\"each case have the following fields\",list(data[0].keys()))"
   ]
  },
  {
   "cell_type": "markdown",
   "metadata": {},
   "source": [
    "filtering the dataset"
   ]
  },
  {
   "cell_type": "code",
   "execution_count": 3,
   "metadata": {},
   "outputs": [],
   "source": [
    "\n",
    "keys_to_include = [\"id\",'clinical_department', 'principal_diagnosis', 'preliminary_diagnosis', 'diagnostic_basis', 'differential_diagnosis', 'treatment_plan', 'clinical_case_summary', 'imageological_examination', 'laboratory_examination', 'pathological_examination', 'therapeutic_principle']\n",
    "df = pd.DataFrame([{key: d[key] for key in keys_to_include} for d in data])"
   ]
  },
  {
   "cell_type": "code",
   "execution_count": 4,
   "metadata": {},
   "outputs": [
    {
     "name": "stdout",
     "output_type": "stream",
     "text": [
      "number of departments available are 24\n",
      "clinical_department\n",
      "orthopedics department                              100\n",
      "anus and intestine surgical department              100\n",
      "hepatobiliary and pancreas surgical department       99\n",
      "urinary surgical department                          90\n",
      "otolaryngology head and neck surgical department     80\n",
      "neurology department                                 80\n",
      "endocrinology department                             80\n",
      "gynecology department                                80\n",
      "neurosurgery department                              70\n",
      "thoracic surgical department                         70\n",
      "respiratory medicine department                      70\n",
      "cardiac surgical department                          70\n",
      "gastroenterology department                          70\n",
      "pediatrics department                                60\n",
      "nephrology department                                60\n",
      "gastrointestinal surgical department                 60\n",
      "thyroid surgical department                          50\n",
      "hernia surgical department                           40\n",
      "cardiovascular medicine department                   40\n",
      "vascular surgical department                         40\n",
      "breast surgical department                           40\n",
      "hematology department                                30\n",
      "obstetrics department                                20\n",
      "Gastroenterology                                      1\n",
      "Name: count, dtype: int64\n"
     ]
    }
   ],
   "source": [
    "allDepartments=df['clinical_department'].value_counts()\n",
    "print(\"number of departments available are\",len(allDepartments))\n",
    "\n",
    "print(allDepartments)"
   ]
  },
  {
   "cell_type": "code",
   "execution_count": 5,
   "metadata": {},
   "outputs": [],
   "source": [
    "\n",
    "df['preliminary_diagnosis'] = df['preliminary_diagnosis'].apply(convert_string_to_list)\n",
    "df['diagnostic_basis'] = df['diagnostic_basis'].apply(convert_string_to_list)\n",
    "df['differential_diagnosis'] = df['differential_diagnosis'].apply(convert_string_to_list)\n",
    "df['treatment_plan'] = df['treatment_plan'].apply(convert_string_to_list)\n",
    "df[\"clinical_case_summary\"] = df[\"clinical_case_summary\"].apply(convert_clinical_case_summary)"
   ]
  },
  {
   "cell_type": "code",
   "execution_count": 6,
   "metadata": {},
   "outputs": [],
   "source": [
    "department=\"nephrology department\"\n",
    "departmentdf=filterDepartment(df,department)\n",
    "departmentdf.to_json(f\"{department}.json\", orient='records', lines=False, indent=4)"
   ]
  },
  {
   "cell_type": "code",
   "execution_count": 7,
   "metadata": {},
   "outputs": [
    {
     "name": "stdout",
     "output_type": "stream",
     "text": [
      "number of principal diagnosis are 6\n",
      "principal_diagnosis\n",
      "acute pyelonephritis       10\n",
      "acute renal failure        10\n",
      "chronic kidney disease     10\n",
      "urinary tract infection    10\n",
      "glomerulonephritis         10\n",
      "nephrotic syndrome         10\n",
      "Name: count, dtype: int64\n",
      "number of preliminary_diagnosis are 6\n"
     ]
    }
   ],
   "source": [
    "getDepartmentStatistics(departmentdf)"
   ]
  },
  {
   "cell_type": "code",
   "execution_count": 8,
   "metadata": {},
   "outputs": [
    {
     "name": "stdout",
     "output_type": "stream",
     "text": [
      "number of unique diseases are 17\n",
      "['acute renal failure', 'Syringomyelia', 'glomerulonephritis', 'Multiple Sclerosis', 'nephrotic syndrome', 'Acute Kidney Injury', 'chronic kidney disease', 'Acute renal failure', 'Urolithiasis', 'urinary tract infection', 'Acute kidney injury', 'Urinary Calculi', 'Urinary Tumors', 'Urinary tract tumor', 'Urogenital Tumors', 'acute pyelonephritis', 'Urinary Tract Tumor']\n"
     ]
    }
   ],
   "source": [
    "# Function to extract disease names from a single row\n",
    "def extract_disease_names_from_row(differential_diagnosis_list):\n",
    "    disease=[entry.split(\":\")[0].strip() for entry in differential_diagnosis_list]\n",
    "    return disease\n",
    "\n",
    "# Apply the function to each row and combine all lists into one\n",
    "differential_diseases = departmentdf[\"differential_diagnosis\"].apply(extract_disease_names_from_row).sum()\n",
    "refined_differential_diseases=[]\n",
    "for disease in differential_diseases:\n",
    "    if len(disease) <20:\n",
    "        refined_differential_diseases.append(disease)\n",
    "uniqueDiseases=departmentdf[\"principal_diagnosis\"].unique().tolist()\n",
    "uniquePrimary=uniqueDiseases[:]\n",
    "uniqueDiseases.extend(refined_differential_diseases)\n",
    "uniqueDiseases=list(set(uniqueDiseases))\n",
    "print(\"number of unique diseases are\",len(uniqueDiseases))\n",
    "print(uniqueDiseases)"
   ]
  },
  {
   "cell_type": "code",
   "execution_count": 9,
   "metadata": {},
   "outputs": [
    {
     "name": "stdout",
     "output_type": "stream",
     "text": [
      "False\n",
      "False\n"
     ]
    }
   ],
   "source": [
    "disease=\"Syncope\"\n",
    "print(disease in refined_differential_diseases)\n",
    "print(disease in uniquePrimary)"
   ]
  },
  {
   "cell_type": "code",
   "execution_count": 10,
   "metadata": {},
   "outputs": [
    {
     "name": "stdout",
     "output_type": "stream",
     "text": [
      "False\n"
     ]
    }
   ],
   "source": [
    "print(disease in uniqueDiseases)"
   ]
  },
  {
   "cell_type": "code",
   "execution_count": 11,
   "metadata": {},
   "outputs": [],
   "source": [
    "doctor=\"doctor\"\n",
    "model=\"gpt-4\""
   ]
  },
  {
   "cell_type": "code",
   "execution_count": 17,
   "metadata": {},
   "outputs": [
    {
     "name": "stdout",
     "output_type": "stream",
     "text": [
      "the case id is 1166\n",
      "\n",
      "the principal diagnosis is chronic kidney disease\n",
      "\n",
      "differential diagnosis is ['Acute Kidney Injury: There is often a clear cause, with oliguria, anuria, and increased creatinine occurring in a short period of time. There is generally no severe anemia, and both kidneys do not atrophy. Kidney function can return to normal after the cause is corrected. This patient has no obvious cause of the disease, combined with anemia, the possibility of chronic kidney disease is higher, but it is still necessary to actively complete relevant Auxiliary Examination to rule out reversible factors.']\n",
      "\n",
      "the case history is  {'Patient Basic Information': 'Elderly male, 65 years old.', 'Chief Complaint': 'Found blood creatinine increased for 2 years, fatigue and abdominal distension for 8 months.', 'Medical History': \"The patient was found to have a blood creatinine level of over 200 umol/L during a physical examination 2 years ago, with edema in both lower limbs, presenting as symmetrical concave edema, and foamy urine. He was treated with traditional Chinese medicine (details unknown), but showed no significant improvement. He was then referred for consideration of 'diabetic nephropathy', but showed no significant improvement with the corresponding treatment. He then sought treatment at multiple hospitals (details unknown), but showed no significant improvement. 8 months ago, he developed general fatigue, chest tightness, dyspnea, intermittent paroxysmal dyspnea, abdominal distension, and decreased urine output without any obvious cause. The specific description is unclear. He had poor appetite and occasionally felt nauseous, without any obvious vomiting symptoms. He repeatedly sought treatment at multiple hospitals and was given corresponding drug treatment (details unknown), but the effect was poor. More than 10 days ago, he felt that the above symptoms had worsened, with significant abdominal distension and decreased urine output. He had a history of diabetes for more than 8 years, hypertension for more than 8 years, coronary heart disease, and angina for 10 years.\", 'Physical Examination': 'Chronic illness, no eyelid edema, pale conjunctiva, no congestion, edema, bleeding, or subconjunctival hemorrhage, moist lips, coarse breath sounds in both lungs, no dry or wet rales, regular heart rhythm, no pathological murmurs, distended abdomen, no tenderness or rebound tenderness, no obvious renal area tenderness or percussion pain, no obvious tenderness at bilateral ureteral pressure points, moderate edema in both lower limbs.', 'Auxiliary Examination': '(1)', 'Imaging Examination': 'Color Doppler Ultrasound: 1. Prostate enlargement and calcification; 2. Residual urine 8ml; 3. Abdominal fluid found.\\n(2)', 'Laboratory Examination': 'Blood Routine: 1. Lymphocyte percentage (LYMPH%) 9.4% ↓; 2. Neutrophil percentage (NEUT%) 83.5% ↑; 3. Absolute lymphocyte count (LYMPH#) 0.7*10^9/L ↓; 4. Red blood cell count (RBC) 3.8*10^12/L ↓; 5. Hemoglobin (HGB) 116g/L ↓; 6. Hematocrit (HCT) 35.7% ↓; 7. Eosinophil percentage (EO%) 0.3% ↓; 8. C-reactive protein (CRP) 8.13mg/L ↑.\\nBlood Biochemistry: 1. Aspartate aminotransferase (AST) 12U/L ↓; 2. Cholinesterase (CHE) 3116U/L ↓; 3. Total protein (TP) 63.4g/L ↓; 4. Direct bilirubin (DBIL) 4.0μmol/L ↑; 5. Prealbumin (PA) 177.2mg/L ↓; 6. Creatine kinase-MB subtype (mass) (CK-MBmass) 7.4ng/mL ↑; 7. Glucose (GLU) 6.88mmol/L ↑; 8. Urea (Urea) 42.27mmol/L ↑↑; 9. Creatinine (Cr) 931μmol/L ↑↑; 10. High-density lipoprotein cholesterol (HDL-C) 0.94mmol/L ↓; 11. Apolipoprotein B (ApoB) 0.49g/L ↓; 12. Phosphorus (P) 2.45mmol/L ↑; 13. Magnesium (Mg) 1.06mmol/L ↑; 14. Potassium (K) 9.33mmol/L ↑↑; 15. Sodium (Na) 130mmol/L ↓; 16. Chloride (Cl) 110.1mmol/L ↑; 17. Carbon dioxide (CO2) 8.4mmol/L ↓; 18. Cystatin C (cys-c) 5.18mg/L ↑; 19. Interleukin 6 (IL-6) 19.50pg/mL ↑; 20. Serum amyloid A (SAA) 72.10mg/L ↑; 21. Procalcitonin (PCT) 0.393ng/mL ↑.\\n(3)', 'Pathological Examination': 'None.'}\n"
     ]
    }
   ],
   "source": [
    "caseNumber=25#68\n",
    "row= departmentdf.iloc[caseNumber]\n",
    "caseNumber=row.id\n",
    "medicalHistory=row.clinical_case_summary\n",
    "principalDiagnosis=row.principal_diagnosis\n",
    "differentialDiagnosis=row.differential_diagnosis\n",
    "print(\"the case id is\",caseNumber)\n",
    "print(\"\\nthe principal diagnosis is\",principalDiagnosis)\n",
    "print(\"\\ndifferential diagnosis is\",differentialDiagnosis)\n",
    "print(\"\\nthe case history is \",medicalHistory)"
   ]
  },
  {
   "cell_type": "code",
   "execution_count": 18,
   "metadata": {},
   "outputs": [
    {
     "name": "stdout",
     "output_type": "stream",
     "text": [
      "\n",
      "Parsed output:\n",
      "{\n",
      "  \"diagnosis\": \"chronic kidney disease\",\n",
      "  \"reasoning\": \"The patient has a history of diabetes and hypertension, both of which are risk factors for chronic kidney disease. The patient's symptoms of fatigue, abdominal distension, decreased urine output, and edema in both lower limbs are consistent with chronic kidney disease. The patient's laboratory results show elevated levels of urea and creatinine, which are markers of kidney function, and a decreased red blood cell count, which can occur in chronic kidney disease due to decreased erythropoietin production by the kidneys. The patient's blood biochemistry also shows abnormalities in electrolyte levels, including hyperkalemia and hyponatremia, which can occur in chronic kidney disease due to the kidneys' role in electrolyte balance. The patient's ultrasound findings of abdominal fluid could be due to fluid retention, which can occur in chronic kidney disease due to decreased kidney function.\",\n",
      "  \"further_examinations\": \"Further examinations that could be useful in this case include a kidney biopsy to confirm the diagnosis and determine the extent of kidney damage, and a urine test to check for proteinuria, which is common in chronic kidney disease. The patient's blood pressure should also be monitored closely, as hypertension can worsen kidney damage.\"\n",
      "}\n"
     ]
    }
   ],
   "source": [
    "# response=doctor_prompt_disease_restricted_output_parser(medicalHistory, model, uniqueDiseases)\n",
    "response=doctor_prompt_disease_restricted_output_parser(medicalHistory, model, uniquePrimary)"
   ]
  },
  {
   "cell_type": "code",
   "execution_count": 19,
   "metadata": {},
   "outputs": [
    {
     "name": "stdout",
     "output_type": "stream",
     "text": [
      "\n",
      "Parsed output:\n",
      "{\n",
      "  \"diagnosis\": [\n",
      "    \"chronic kidney disease\",\n",
      "    \"acute renal failure\",\n",
      "    \"nephrotic syndrome\"\n",
      "  ],\n",
      "  \"reasoning\": \"The patient's medical history and laboratory results indicate a long-term kidney problem. The patient has had an elevated blood creatinine level for 2 years, which is a sign of kidney dysfunction. The patient's symptoms of fatigue, abdominal distension, decreased urine output, and edema in both lower limbs are consistent with chronic kidney disease. The patient's laboratory results show a significantly elevated creatinine level (931 umol/L), which is a sign of acute renal failure. The patient's symptoms of foamy urine and edema in both lower limbs are also consistent with nephrotic syndrome. The patient's history of diabetes and hypertension, both of which are risk factors for kidney disease, further support these diagnoses.\",\n",
      "  \"further_examinations\": \"The patient should undergo a kidney biopsy to confirm the diagnosis of chronic kidney disease and nephrotic syndrome. The patient should also have a urine test to check for proteinuria, which is a sign of nephrotic syndrome. The patient's kidney function should be monitored closely to assess the progression of acute renal failure.\"\n",
      "}\n"
     ]
    }
   ],
   "source": [
    "response=doctor_prompt_disease_restricted_output_parser2(medicalHistory, model, uniquePrimary)"
   ]
  },
  {
   "cell_type": "code",
   "execution_count": 20,
   "metadata": {},
   "outputs": [
    {
     "data": {
      "text/plain": [
       "['acute pyelonephritis',\n",
       " 'acute renal failure',\n",
       " 'chronic kidney disease',\n",
       " 'urinary tract infection',\n",
       " 'glomerulonephritis',\n",
       " 'nephrotic syndrome']"
      ]
     },
     "execution_count": 20,
     "metadata": {},
     "output_type": "execute_result"
    }
   ],
   "source": [
    "uniquePrimary"
   ]
  },
  {
   "cell_type": "code",
   "execution_count": null,
   "metadata": {},
   "outputs": [],
   "source": []
  }
 ],
 "metadata": {
  "kernelspec": {
   "display_name": "venv",
   "language": "python",
   "name": "python3"
  },
  "language_info": {
   "codemirror_mode": {
    "name": "ipython",
    "version": 3
   },
   "file_extension": ".py",
   "mimetype": "text/x-python",
   "name": "python",
   "nbconvert_exporter": "python",
   "pygments_lexer": "ipython3",
   "version": "3.10.11"
  }
 },
 "nbformat": 4,
 "nbformat_minor": 2
}
