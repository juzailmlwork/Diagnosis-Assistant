{
 "cells": [
  {
   "cell_type": "markdown",
   "metadata": {},
   "source": [
    "loading required libraries"
   ]
  },
  {
   "cell_type": "code",
   "execution_count": 1,
   "metadata": {},
   "outputs": [],
   "source": [
    "import pandas as pd\n",
    "pd.set_option('display.max_colwidth', 5000)\n",
    "from dotenv import load_dotenv\n",
    "import json\n",
    "from src.pdf import create_pdf\n",
    "from src.gpt import evaluate_gpt\n",
    "from src.utils import (\n",
    "    load_preprocess_data,\n",
    "    extract_all_diseases_per_department,\n",
    "    filterDepartment,\n",
    "    getDepartmentStatistics,\n",
    "    run_prediction,\n",
    "    evaluate_results)\n",
    "load_dotenv()\n",
    "from prompts import single_shot_disease_only_prompt,open_ended__top4_prompt,with_reasons_prompt"
   ]
  },
  {
   "cell_type": "markdown",
   "metadata": {},
   "source": [
    "importing the dataset"
   ]
  },
  {
   "cell_type": "code",
   "execution_count": 2,
   "metadata": {},
   "outputs": [
    {
     "name": "stdout",
     "output_type": "stream",
     "text": [
      "\n",
      "number of total cases are 1500\n",
      "\n",
      "each case have the following fields ['id', 'clinical_case_uid', 'language', 'clinical_department', 'principal_diagnosis', 'preliminary_diagnosis', 'diagnostic_basis', 'differential_diagnosis', 'treatment_plan', 'clinical_case_summary', 'imageological_examination', 'laboratory_examination', 'pathological_examination', 'therapeutic_principle']\n",
      "\n",
      "number of departments available are 24\n",
      "\n",
      " all the departments available are\n",
      "clinical_department\n",
      "orthopedics department                              100\n",
      "anus and intestine surgical department              100\n",
      "hepatobiliary and pancreas surgical department       99\n",
      "urinary surgical department                          90\n",
      "endocrinology department                             80\n",
      "gynecology department                                80\n",
      "otolaryngology head and neck surgical department     80\n",
      "neurology department                                 80\n",
      "thoracic surgical department                         70\n",
      "respiratory medicine department                      70\n",
      "gastroenterology department                          70\n",
      "neurosurgery department                              70\n",
      "cardiac surgical department                          70\n",
      "nephrology department                                60\n",
      "gastrointestinal surgical department                 60\n",
      "pediatrics department                                60\n",
      "thyroid surgical department                          50\n",
      "hernia surgical department                           40\n",
      "breast surgical department                           40\n",
      "cardiovascular medicine department                   40\n",
      "vascular surgical department                         40\n",
      "hematology department                                30\n",
      "obstetrics department                                20\n",
      "Gastroenterology                                      1\n",
      "Name: count, dtype: int64\n"
     ]
    }
   ],
   "source": [
    "filePath=\"dataset/clinicallab/data_en.json\"\n",
    "df=load_preprocess_data(filePath)\n"
   ]
  },
  {
   "cell_type": "code",
   "execution_count": 3,
   "metadata": {},
   "outputs": [
    {
     "name": "stderr",
     "output_type": "stream",
     "text": [
      "/var/tmp/ipykernel_748725/501556314.py:14: SettingWithCopyWarning: \n",
      "A value is trying to be set on a copy of a slice from a DataFrame.\n",
      "Try using .loc[row_indexer,col_indexer] = value instead\n",
      "\n",
      "See the caveats in the documentation: https://pandas.pydata.org/pandas-docs/stable/user_guide/indexing.html#returning-a-view-versus-a-copy\n",
      "  filtered_df['differential_diagnosis'] = filtered_df['differential_diagnosis'] + filtered_df['principal_diagnosis'].apply(lambda x: [x] if x else [])\n"
     ]
    }
   ],
   "source": [
    "def extract_disease_names(diagnoses):\n",
    "    disease_names = []\n",
    "    for diagnosis in diagnoses:\n",
    "        disease_name = diagnosis.split(':')[0]  # Split and get the disease name\n",
    "        if len(disease_name) < 40:  # Check if the name is less than 40 characters\n",
    "            disease_names.append(disease_name)\n",
    "    return disease_names\n",
    "\n",
    "# Apply the function to filter and transform the 'differential-diagnosis' field\n",
    "df['differential_diagnosis'] = df['differential_diagnosis'].apply(extract_disease_names)\n",
    "\n",
    "# Filter rows where the number of elements in 'differential-diagnosis' is greater than 1\n",
    "filtered_df = df[df['differential_diagnosis'].apply(lambda x: len(x) > 1)]\n",
    "filtered_df['differential_diagnosis'] = filtered_df['differential_diagnosis'] + filtered_df['principal_diagnosis'].apply(lambda x: [x] if x else [])"
   ]
  },
  {
   "cell_type": "code",
   "execution_count": 4,
   "metadata": {},
   "outputs": [
    {
     "name": "stdout",
     "output_type": "stream",
     "text": [
      "1500\n",
      "1181\n"
     ]
    }
   ],
   "source": [
    "print(len(df))\n",
    "# filtered_df = df[df['differential_diagnosis'].apply(lambda x: len(x) > 2)]\n",
    "print(len(filtered_df))"
   ]
  },
  {
   "cell_type": "code",
   "execution_count": 5,
   "metadata": {},
   "outputs": [
    {
     "data": {
      "text/plain": [
       "clinical_department\n",
       "anus and intestine surgical department              92\n",
       "hepatobiliary and pancreas surgical department      80\n",
       "endocrinology department                            78\n",
       "neurology department                                77\n",
       "urinary surgical department                         73\n",
       "gastroenterology department                         70\n",
       "respiratory medicine department                     65\n",
       "gynecology department                               62\n",
       "otolaryngology head and neck surgical department    62\n",
       "pediatrics department                               57\n",
       "gastrointestinal surgical department                52\n",
       "thoracic surgical department                        52\n",
       "nephrology department                               51\n",
       "neurosurgery department                             47\n",
       "thyroid surgical department                         43\n",
       "cardiac surgical department                         40\n",
       "breast surgical department                          39\n",
       "cardiovascular medicine department                  34\n",
       "hernia surgical department                          34\n",
       "vascular surgical department                        26\n",
       "hematology department                               24\n",
       "obstetrics department                               12\n",
       "orthopedics department                              10\n",
       "Gastroenterology                                     1\n",
       "Name: count, dtype: int64"
      ]
     },
     "execution_count": 5,
     "metadata": {},
     "output_type": "execute_result"
    }
   ],
   "source": [
    "filtered_df.clinical_department.value_counts().sort_values(ascending=False)"
   ]
  },
  {
   "cell_type": "code",
   "execution_count": 6,
   "metadata": {},
   "outputs": [],
   "source": [
    "departments=[\"nephrology department\",\n",
    "             \"gynecology department\",\n",
    "            \"endocrinology department\", \n",
    "            \"neurology department\",\n",
    "             \"pediatrics department\",\n",
    "             \"cardiac surgical department\",                          \n",
    "             \"gastrointestinal surgical department\",\n",
    "             \"respiratory medicine department\",\n",
    "             \"gastroenterology department\",\n",
    "             \"urinary surgical department\",\n",
    "             \"hepatobiliary and pancreas surgical department\",\n",
    "             \"hematology department\"\n",
    "            ]\n",
    "models = [\"gpt-4\",\"llama3.1\",\"gemma2\", \"phi3:14b\", \"mistral-nemo\"]"
   ]
  },
  {
   "cell_type": "code",
   "execution_count": 7,
   "metadata": {},
   "outputs": [
    {
     "name": "stdout",
     "output_type": "stream",
     "text": [
      "729\n"
     ]
    }
   ],
   "source": [
    "filtered_df = filtered_df[filtered_df['clinical_department'].isin(departments)]\n",
    "print(len(filtered_df))"
   ]
  },
  {
   "cell_type": "code",
   "execution_count": 8,
   "metadata": {},
   "outputs": [
    {
     "data": {
      "text/plain": [
       "243.0"
      ]
     },
     "execution_count": 8,
     "metadata": {},
     "output_type": "execute_result"
    }
   ],
   "source": [
    "729/3"
   ]
  },
  {
   "cell_type": "markdown",
   "metadata": {},
   "source": [
    "filtering the dataset"
   ]
  },
  {
   "cell_type": "code",
   "execution_count": null,
   "metadata": {},
   "outputs": [],
   "source": [
    "\n",
    "\n",
    "# type=\"with_reasons\"\n",
    "# prompt=with_reasons_prompt\n",
    "type=\"single_shot\"\n",
    "prompt=single_shot_disease_only_prompt\n",
    "# type=\"open_ended\"\n",
    "# # prompt=open_ended__top4_prompt# \n",
    "# run_prediction(df,prompt,departments,models=models,type=type,skip=5)"
   ]
  },
  {
   "cell_type": "code",
   "execution_count": null,
   "metadata": {},
   "outputs": [],
   "source": []
  },
  {
   "cell_type": "code",
   "execution_count": null,
   "metadata": {},
   "outputs": [],
   "source": [
    "\n"
   ]
  },
  {
   "cell_type": "code",
   "execution_count": null,
   "metadata": {},
   "outputs": [],
   "source": [
    "# file_path=\"results/nephrology department_single_shot_without_sorted_result_findings.json\"\n",
    "# with open(file_path, \"r\") as file:\n",
    "#     data = json.load(file)\n",
    "# evaluate_results(data)"
   ]
  },
  {
   "cell_type": "code",
   "execution_count": null,
   "metadata": {},
   "outputs": [],
   "source": [
    "\n",
    "import os\n",
    "import json\n",
    "from src.utils import evaluate_results\n",
    "type=\"single_shot\"\n",
    "all_files=os.listdir(\"results\")\n",
    "all_results={}\n",
    "for file in all_files:\n",
    "    if type in file:\n",
    "        file_path=os.path.join(\"results\",file)\n",
    "        department_name=file.split(\"_\")[0]\n",
    "        with open(file_path, \"r\") as file:\n",
    "            data = json.load(file)\n",
    "            results=evaluate_results(data)\n",
    "        all_results[department_name]=results\n",
    "        "
   ]
  },
  {
   "cell_type": "code",
   "execution_count": null,
   "metadata": {},
   "outputs": [],
   "source": [
    "all_results"
   ]
  }
 ],
 "metadata": {
  "kernelspec": {
   "display_name": "venv",
   "language": "python",
   "name": "python3"
  },
  "language_info": {
   "codemirror_mode": {
    "name": "ipython",
    "version": 3
   },
   "file_extension": ".py",
   "mimetype": "text/x-python",
   "name": "python",
   "nbconvert_exporter": "python",
   "pygments_lexer": "ipython3",
   "version": "3.10.14"
  }
 },
 "nbformat": 4,
 "nbformat_minor": 2
}
