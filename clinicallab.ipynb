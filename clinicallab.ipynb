{
 "cells": [
  {
   "cell_type": "markdown",
   "metadata": {},
   "source": [
    "loading required libraries"
   ]
  },
  {
   "cell_type": "code",
   "execution_count": 1,
   "metadata": {},
   "outputs": [
    {
     "name": "stderr",
     "output_type": "stream",
     "text": [
      "/home/jzlco/code/Diagnosis-Assistant/venv/lib/python3.10/site-packages/fpdf/__init__.py:39: UserWarning: You have both PyFPDF & fpdf2 installed. Both packages cannot be installed at the same time as they share the same module namespace. To only keep fpdf2, run: pip uninstall --yes pypdf && pip install --upgrade fpdf2\n",
      "  warnings.warn(\n"
     ]
    },
    {
     "data": {
      "text/plain": [
       "True"
      ]
     },
     "execution_count": 1,
     "metadata": {},
     "output_type": "execute_result"
    }
   ],
   "source": [
    "import pandas as pd\n",
    "pd.set_option('display.max_colwidth', 5000)\n",
    "import json\n",
    "from dotenv import load_dotenv\n",
    "from src.gpt import doctor_prompt_disease_restricted_gpt\n",
    "from src.utils import convert_string_to_list,convert_clinical_case_summary,filterDepartment,getDepartmentStatistics,convert_cases_to_json,PDF\n",
    "from src.ollama import doctor_prompt_disease_restricted_ollama,doctor_prompt_disease_restricted_ollama_combined\n",
    "load_dotenv()"
   ]
  },
  {
   "cell_type": "markdown",
   "metadata": {},
   "source": [
    "importing the dataset"
   ]
  },
  {
   "cell_type": "code",
   "execution_count": 2,
   "metadata": {},
   "outputs": [
    {
     "name": "stdout",
     "output_type": "stream",
     "text": [
      "number of total cases are 1500\n",
      "each case have the following fields ['id', 'clinical_case_uid', 'language', 'clinical_department', 'principal_diagnosis', 'preliminary_diagnosis', 'diagnostic_basis', 'differential_diagnosis', 'treatment_plan', 'clinical_case_summary', 'imageological_examination', 'laboratory_examination', 'pathological_examination', 'therapeutic_principle']\n"
     ]
    }
   ],
   "source": [
    "filePath=\"dataset/clinicallab/data_en.json\"\n",
    "with open(filePath, 'r', encoding='utf-8') as f:\n",
    "            data = json.load(f)\n",
    "print(\"number of total cases are\",len(data))\n",
    "print(\"each case have the following fields\",list(data[0].keys()))"
   ]
  },
  {
   "cell_type": "markdown",
   "metadata": {},
   "source": [
    "filtering the dataset"
   ]
  },
  {
   "cell_type": "code",
   "execution_count": 3,
   "metadata": {},
   "outputs": [],
   "source": [
    "\n",
    "keys_to_include = [\"id\",'clinical_department', 'principal_diagnosis', 'preliminary_diagnosis',\n",
    "                   'diagnostic_basis', 'differential_diagnosis', \n",
    "                   'treatment_plan', 'clinical_case_summary', 'imageological_examination', \n",
    "                   'laboratory_examination', 'pathological_examination', 'therapeutic_principle']\n",
    "df = pd.DataFrame([{key: d[key] for key in keys_to_include} for d in data])"
   ]
  },
  {
   "cell_type": "code",
   "execution_count": 4,
   "metadata": {},
   "outputs": [
    {
     "name": "stdout",
     "output_type": "stream",
     "text": [
      "number of departments available are 24\n",
      "clinical_department\n",
      "orthopedics department                              100\n",
      "anus and intestine surgical department              100\n",
      "hepatobiliary and pancreas surgical department       99\n",
      "urinary surgical department                          90\n",
      "endocrinology department                             80\n",
      "gynecology department                                80\n",
      "otolaryngology head and neck surgical department     80\n",
      "neurology department                                 80\n",
      "thoracic surgical department                         70\n",
      "respiratory medicine department                      70\n",
      "gastroenterology department                          70\n",
      "neurosurgery department                              70\n",
      "cardiac surgical department                          70\n",
      "nephrology department                                60\n",
      "gastrointestinal surgical department                 60\n",
      "pediatrics department                                60\n",
      "thyroid surgical department                          50\n",
      "hernia surgical department                           40\n",
      "breast surgical department                           40\n",
      "cardiovascular medicine department                   40\n",
      "vascular surgical department                         40\n",
      "hematology department                                30\n",
      "obstetrics department                                20\n",
      "Gastroenterology                                      1\n",
      "Name: count, dtype: int64\n"
     ]
    }
   ],
   "source": [
    "allDepartments=df['clinical_department'].value_counts()\n",
    "print(\"number of departments available are\",len(allDepartments))\n",
    "\n",
    "print(allDepartments)\n",
    "\n",
    "df['preliminary_diagnosis'] = df['preliminary_diagnosis'].apply(convert_string_to_list)\n",
    "df['diagnostic_basis'] = df['diagnostic_basis'].apply(convert_string_to_list)\n",
    "df['differential_diagnosis'] = df['differential_diagnosis'].apply(convert_string_to_list)\n",
    "df['treatment_plan'] = df['treatment_plan'].apply(convert_string_to_list)\n",
    "df[\"clinical_case_summary\"] = df[\"clinical_case_summary\"].apply(convert_clinical_case_summary)"
   ]
  },
  {
   "cell_type": "code",
   "execution_count": 5,
   "metadata": {},
   "outputs": [],
   "source": [
    "department=\"gynecology department\"#\"respiratory medicine department\"#\"nephrology department\"##\"pediatrics department\"#\"gynecology department\"\n",
    "departmentdf=filterDepartment(df,department)\n",
    "departmentdf.to_json(f\"dataset/clinicallab/department/{department}.json\", orient='records', lines=False, indent=4)"
   ]
  },
  {
   "cell_type": "code",
   "execution_count": 6,
   "metadata": {},
   "outputs": [
    {
     "name": "stdout",
     "output_type": "stream",
     "text": [
      "number of principal diagnosis are 8\n",
      "principal_diagnosis\n",
      "ovarian cyst             10\n",
      "endometrial polyp        10\n",
      "endometrial cancer       10\n",
      "uterine fibroid          10\n",
      "adenomyosis              10\n",
      "cervical polyp           10\n",
      "cervical cancer          10\n",
      "heterotopic pregnancy    10\n",
      "Name: count, dtype: int64\n",
      "number of preliminary_diagnosis are 8\n"
     ]
    }
   ],
   "source": [
    "getDepartmentStatistics(departmentdf)"
   ]
  },
  {
   "cell_type": "code",
   "execution_count": 7,
   "metadata": {},
   "outputs": [
    {
     "name": "stdout",
     "output_type": "stream",
     "text": [
      "number of unique diseases are 46\n",
      "['Cervical Lesions', 'endometrial cancer', 'Uterine Sarcoma', \"Meniere's Disease\", 'Cervical lesions', 'Endometrial Cancer', 'Uterine fibroids', 'Incomplete Abortion', 'Uterine Adenomyoma', 'Acute Appendicitis', 'Hemolytic Anemia', 'uterine fibroid', 'Atrophic vaginitis', 'endometrial polyp', 'Acute appendicitis', 'Ectopic Pregnancy', 'ovarian cyst', 'adenomyosis', 'Acute salpingitis', 'Endometrial Lesion', 'Endometrial polyps', 'Vaginal wall mass', 'Miscarriage', 'Chronic cervicitis', 'Gastric cancer', 'Endometrial lesions', 'Complete Abortion', 'Endometrial Lesions', 'cervical polyp', 'Acute Salpingitis', 'heterotopic pregnancy', 'Uterine leiomyoma', 'Ovarian tumor', 'Endometrial lesion', 'Ovarian Tumor', 'Adenomyosis', 'Cervical cancer', 'Appendicitis', 'Vaginal Wall Mass', 'Endometrial cancer', 'Uterine sarcoma', 'cervical cancer', 'Cervical lesion', 'Uterine adenomyoma', 'Hydrosalpinx', 'Uterine Leiomyoma']\n"
     ]
    }
   ],
   "source": [
    "# Function to extract disease names from a single row\n",
    "def extract_disease_names_from_row(differential_diagnosis_list):\n",
    "    disease=[entry.split(\":\")[0].strip() for entry in differential_diagnosis_list]\n",
    "    return disease\n",
    "\n",
    "# Apply the function to each row and combine all lists into one\n",
    "differential_diseases = departmentdf[\"differential_diagnosis\"].apply(extract_disease_names_from_row).sum()\n",
    "refined_differential_diseases=[]\n",
    "for disease in differential_diseases:\n",
    "    if len(disease) <20:\n",
    "        refined_differential_diseases.append(disease)\n",
    "uniqueDiseases=departmentdf[\"principal_diagnosis\"].unique().tolist()\n",
    "uniquePrimary=uniqueDiseases[:]\n",
    "uniqueDiseases.extend(refined_differential_diseases)\n",
    "uniqueDiseases=list(set(uniqueDiseases))\n",
    "print(\"number of unique diseases are\",len(uniqueDiseases))\n",
    "print(uniqueDiseases)"
   ]
  },
  {
   "cell_type": "code",
   "execution_count": 8,
   "metadata": {},
   "outputs": [
    {
     "data": {
      "text/plain": [
       "Index(['id', 'clinical_department', 'principal_diagnosis',\n",
       "       'preliminary_diagnosis', 'diagnostic_basis', 'differential_diagnosis',\n",
       "       'treatment_plan', 'clinical_case_summary', 'imageological_examination',\n",
       "       'laboratory_examination', 'pathological_examination',\n",
       "       'therapeutic_principle'],\n",
       "      dtype='object')"
      ]
     },
     "execution_count": 8,
     "metadata": {},
     "output_type": "execute_result"
    }
   ],
   "source": [
    "departmentdf.columns"
   ]
  },
  {
   "cell_type": "code",
   "execution_count": 9,
   "metadata": {},
   "outputs": [],
   "source": [
    "def select_case_components(departmentdf,rowNumber,required_fields):\n",
    "    row = departmentdf.iloc[rowNumber]\n",
    "    case_id = row.id\n",
    "    clinical_case = row.clinical_case_summary\n",
    "    principal_diagnosis = row.principal_diagnosis\n",
    "    differential_diagnosis = row.differential_diagnosis\n",
    "    clinical_case_dict={\n",
    "    \"Patient basic information\":clinical_case['Patient Basic Information'],\n",
    "    \"Chief complaint\" : clinical_case['Chief Complaint'],\n",
    "    \"Medical history\" : clinical_case['Medical History'],\n",
    "    \"Physical examination\" : clinical_case['Physical Examination'],\n",
    "    \"Laboratory examination\" : row.laboratory_examination,\n",
    "    \"Imageological examination\" : row.imageological_examination,\n",
    "    \"Auxillary examination\": clinical_case['Auxiliary Examination'],\n",
    "    \"Pathological examination\" : row.pathological_examination\n",
    "    }\n",
    "    filtered_clinical_case_dict={}\n",
    "    for key in required_fields:\n",
    "        filtered_clinical_case_dict[key]=clinical_case_dict[key]\n",
    "    return case_id,principal_diagnosis,differential_diagnosis,clinical_case_dict,filtered_clinical_case_dict"
   ]
  },
  {
   "cell_type": "code",
   "execution_count": null,
   "metadata": {},
   "outputs": [],
   "source": [
    "required_fields=[ \"Patient basic information\",\n",
    "                 \"Chief complaint\",\n",
    "                 \"Medical history\",\n",
    "                 \"Physical examination\",\n",
    "                 \"Laboratory examination\",\n",
    "                 \"Imageological examination\",\n",
    "                 \"Auxillary examination\",\n",
    "                 \"Pathological examination\"\n",
    "    \n",
    "]\n",
    "departments=[\"respiratory medicine department\",\n",
    "             \"nephrology department\",\n",
    "             \"pediatrics department\",\n",
    "             \"gynecology department\",\n",
    "             \"endocrinology department\",\n",
    "             \"gynecology department\",    \n",
    "             \"neurology department\",\n",
    "             \"cardiac surgical department\",                          \n",
    "             \"gastrointestinal surgical department\" ]\n",
    "models = [\"llama3.1\", \"mistral\", \"gemma2\", \"phi3:14b\", \"mistral-nemo\"]\n"
   ]
  },
  {
   "cell_type": "code",
   "execution_count": 10,
   "metadata": {},
   "outputs": [
    {
     "name": "stdout",
     "output_type": "stream",
     "text": [
      "department is gynecology department\n",
      "80\n",
      "[1]\n",
      "number of principal diagnosis are 8\n",
      "principal_diagnosis\n",
      "ovarian cyst             10\n",
      "endometrial polyp        10\n",
      "endometrial cancer       10\n",
      "uterine fibroid          10\n",
      "adenomyosis              10\n",
      "cervical polyp           10\n",
      "cervical cancer          10\n",
      "heterotopic pregnancy    10\n",
      "Name: count, dtype: int64\n",
      "number of preliminary_diagnosis are 8\n",
      "1\n",
      "started model  llama3.1\n",
      "done for model llama3.1\n",
      "started model  mistral\n",
      "done for model mistral\n",
      "started model  gemma2\n",
      "done for model gemma2\n",
      "started model  phi3:14b\n",
      "done for model phi3:14b\n",
      "started model  mistral-nemo\n",
      "done for model mistral-nemo\n",
      "done diagnosing\n",
      "PDF report generated: ./medical-reports/medical_case_report_gynecology department.pdf\n"
     ]
    }
   ],
   "source": [
    "\n",
    "for department in departments:\n",
    "    print(\"department is\",department)\n",
    "    departmentdf=filterDepartment(df,department)\n",
    "    print(len(departmentdf))\n",
    "    caseNumbers = [i for i in range(1, len(departmentdf), 10)]\n",
    "    caseNumbers=[1]#,11,21]#31,41,51,61]\n",
    "    print(caseNumbers)\n",
    "    differential_diseases = departmentdf[\"differential_diagnosis\"].apply(extract_disease_names_from_row).sum()\n",
    "    refined_differential_diseases=[]\n",
    "    for disease in differential_diseases:\n",
    "        if len(disease) <20:\n",
    "            refined_differential_diseases.append(disease)\n",
    "    uniqueDiseases=departmentdf[\"principal_diagnosis\"].unique().tolist()\n",
    "    uniquePrimary=uniqueDiseases[:]\n",
    "    uniqueDiseases.extend(refined_differential_diseases)\n",
    "    uniqueDiseases=list(set(uniqueDiseases))\n",
    "    \n",
    "    pdf = PDF()\n",
    "    pdf.set_left_margin(10)\n",
    "    pdf.set_right_margin(10)\n",
    "    getDepartmentStatistics(departmentdf)\n",
    "    for caseNumber in caseNumbers:\n",
    "        print(caseNumber)\n",
    "        case_id,principal_diagnosis,differential_diagnosis,clinical_case_dict,filtered_clinical_case_dict=select_case_components(departmentdf,caseNumber,required_fields)\n",
    "         # (\"gpt-4\", doctor_prompt_disease_restricted_gpt(filtered_clinical_case_dict, \"gpt-4\", uniquePrimary, department)),\n",
    "        diagnoses = [(model_name, doctor_prompt_disease_restricted_ollama(filtered_clinical_case_dict, model_name, uniquePrimary, department)) for model_name in models]\n",
    "\n",
    "        \n",
    "        print(\"done diagnosing\")\n",
    "        pdf.add_case(case_id, principal_diagnosis, differential_diagnosis, clinical_case_dict, diagnoses)\n",
    "\n",
    "    # Output the PDF to a file\n",
    "    pdf_file_path = f\"./medical-reports/medical_case_report_{department}.pdf\"\n",
    "    pdf.output(pdf_file_path)\n",
    "\n",
    "    print(f\"PDF report generated: {pdf_file_path}\")"
   ]
  }
 ],
 "metadata": {
  "kernelspec": {
   "display_name": "venv",
   "language": "python",
   "name": "python3"
  },
  "language_info": {
   "codemirror_mode": {
    "name": "ipython",
    "version": 3
   },
   "file_extension": ".py",
   "mimetype": "text/x-python",
   "name": "python",
   "nbconvert_exporter": "python",
   "pygments_lexer": "ipython3",
   "version": "3.10.14"
  }
 },
 "nbformat": 4,
 "nbformat_minor": 2
}
