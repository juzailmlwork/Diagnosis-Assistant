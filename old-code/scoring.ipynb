{
 "cells": [
  {
   "cell_type": "code",
   "execution_count": null,
   "metadata": {},
   "outputs": [],
   "source": [
    "from bert_score import score\n",
    "\n",
    "# Example candidate and reference sentences\n",
    "candidates = [\"The quick brown fox jumps over the lazy dog.\"]\n",
    "references = [\"A slow brown fox leaps over a active dog.\"]\n",
    "# \"A sluggish brown fox, moving at a leisurely pace, makes an unexpected leap over a lively and energetic dog, which is full of activity and alertness.\"\n"
   ]
  },
  {
   "cell_type": "code",
   "execution_count": null,
   "metadata": {},
   "outputs": [],
   "source": [
    "P, R, F1 = score(candidates, references, lang=\"en\", verbose=True)\n",
    "\n",
    "# Print results\n",
    "print(f\"Precision: {P.mean().item():.4f}\")\n",
    "print(f\"Recall: {R.mean().item():.4f}\")\n",
    "print(f\"F1 Score: {F1.mean().item():.4f}\")"
   ]
  },
  {
   "cell_type": "code",
   "execution_count": null,
   "metadata": {},
   "outputs": [],
   "source": [
    "from transformers import AutoTokenizer, AutoModel\n",
    "import torch\n",
    "from sklearn.metrics.pairwise import cosine_similarity\n",
    "\n",
    "tokenizer = AutoTokenizer.from_pretrained(\"bert-base-uncased\")\n",
    "model = AutoModel.from_pretrained(\"bert-base-uncased\")\n",
    "\n",
    "\n"
   ]
  },
  {
   "cell_type": "code",
   "execution_count": null,
   "metadata": {},
   "outputs": [],
   "source": [
    "# Function to get embeddings\n",
    "def get_embeddings(text):\n",
    "    inputs = tokenizer(text, return_tensors='pt')\n",
    "    outputs = model(**inputs)\n",
    "    embeddings = outputs.last_hidden_state.mean(dim=1).detach().numpy()\n",
    "    return embeddings\n",
    "\n",
    "# Example texts\n",
    "text1 = \"The quick elegant brown fox jumps over the lazy dog.\"\n",
    "text2 = \"A slow beautiful brown fox leaps over the active dog.\"\n",
    "# text2 = \"A slow yellow tiger walks over a sleepy cat.\"\n",
    "# Compute embeddings\n",
    "emb1 = get_embeddings(text1)\n",
    "emb2 = get_embeddings(text2)\n",
    "\n",
    "# Calculate cosine similarity\n",
    "similarity = cosine_similarity(emb1, emb2)\n",
    "print(f\"Cosine Similarity: {similarity[0][0]:.4f}\")"
   ]
  }
 ],
 "metadata": {
  "kernelspec": {
   "display_name": "venv",
   "language": "python",
   "name": "python3"
  },
  "language_info": {
   "codemirror_mode": {
    "name": "ipython",
    "version": 3
   },
   "file_extension": ".py",
   "mimetype": "text/x-python",
   "name": "python",
   "nbconvert_exporter": "python",
   "pygments_lexer": "ipython3",
   "version": "3.10.14"
  }
 },
 "nbformat": 4,
 "nbformat_minor": 2
}
