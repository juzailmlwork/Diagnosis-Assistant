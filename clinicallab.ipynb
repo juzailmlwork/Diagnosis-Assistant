{
 "cells": [
  {
   "cell_type": "markdown",
   "metadata": {},
   "source": [
    "loading required libraries"
   ]
  },
  {
   "cell_type": "code",
   "execution_count": null,
   "metadata": {},
   "outputs": [],
   "source": [
    "import pandas as pd\n",
    "pd.set_option('display.max_colwidth', 5000)\n",
    "import json\n",
    "from openai import OpenAI\n",
    "from dotenv import load_dotenv\n",
    "from src.llm import doctor_prompt_disease_restricted_output_parser\n",
    "from src.utils import convert_string_to_list,convert_clinical_case_summary,filterDepartment,getDepartmentStatistics,convert_cases_to_json\n",
    "load_dotenv()"
   ]
  },
  {
   "cell_type": "markdown",
   "metadata": {},
   "source": [
    "importing the dataset"
   ]
  },
  {
   "cell_type": "code",
   "execution_count": null,
   "metadata": {},
   "outputs": [],
   "source": [
    "filePath=\"dataset\\clinicallab\\data_en.json\"\n",
    "with open(filePath, 'r', encoding='utf-8') as f:\n",
    "            data = json.load(f)\n",
    "print(\"number of total cases are\",len(data))\n",
    "print(\"each case have the following fields\",list(data[0].keys()))"
   ]
  },
  {
   "cell_type": "markdown",
   "metadata": {},
   "source": [
    "filtering the dataset"
   ]
  },
  {
   "cell_type": "code",
   "execution_count": null,
   "metadata": {},
   "outputs": [],
   "source": [
    "\n",
    "keys_to_include = [\"id\",'clinical_department', 'principal_diagnosis', 'preliminary_diagnosis', 'diagnostic_basis', 'differential_diagnosis', 'treatment_plan', 'clinical_case_summary', 'imageological_examination', 'laboratory_examination', 'pathological_examination', 'therapeutic_principle']\n",
    "df = pd.DataFrame([{key: d[key] for key in keys_to_include} for d in data])"
   ]
  },
  {
   "cell_type": "code",
   "execution_count": null,
   "metadata": {},
   "outputs": [],
   "source": [
    "allDepartments=df['clinical_department'].value_counts()\n",
    "print(\"number of departments available are\",len(allDepartments))\n",
    "\n",
    "print(allDepartments)"
   ]
  },
  {
   "cell_type": "code",
   "execution_count": null,
   "metadata": {},
   "outputs": [],
   "source": [
    "\n",
    "df['preliminary_diagnosis'] = df['preliminary_diagnosis'].apply(convert_string_to_list)\n",
    "df['diagnostic_basis'] = df['diagnostic_basis'].apply(convert_string_to_list)\n",
    "df['differential_diagnosis'] = df['differential_diagnosis'].apply(convert_string_to_list)\n",
    "df['treatment_plan'] = df['treatment_plan'].apply(convert_string_to_list)\n",
    "df[\"clinical_case_summary\"] = df[\"clinical_case_summary\"].apply(convert_clinical_case_summary)"
   ]
  },
  {
   "cell_type": "code",
   "execution_count": null,
   "metadata": {},
   "outputs": [],
   "source": [
    "department=\"neurosurgery department\"\n",
    "departmentdf=filterDepartment(df,department)\n",
    "# departmentdf.to_json(f\"{department}.json\", orient='records', lines=False, indent=4)"
   ]
  },
  {
   "cell_type": "code",
   "execution_count": null,
   "metadata": {},
   "outputs": [],
   "source": [
    "getDepartmentStatistics(departmentdf)"
   ]
  },
  {
   "cell_type": "code",
   "execution_count": null,
   "metadata": {},
   "outputs": [],
   "source": [
    "uniqueDiseases=departmentdf[\"principal_diagnosis\"].unique().tolist()\n",
    "print(uniqueDiseases)\n",
    "doctor=\"cardiologist\"\n",
    "model=\"gpt-4\""
   ]
  },
  {
   "cell_type": "code",
   "execution_count": null,
   "metadata": {},
   "outputs": [],
   "source": [
    "caseNumber=40#68\n",
    "row= departmentdf.iloc[caseNumber]\n",
    "caseNumber=row.id\n",
    "medicalHistory=row.clinical_case_summary\n",
    "principalDiagnosis=row.principal_diagnosis\n",
    "differentialDiagnosis=row.differential_diagnosis\n",
    "print(\"the case id is\",caseNumber)\n",
    "print(\"\\nthe principal diagnosis is\",principalDiagnosis)\n",
    "print(\"\\ndifferential diagnosis is\",differentialDiagnosis)\n",
    "print(\"\\nthe case history is \",medicalHistory)"
   ]
  },
  {
   "cell_type": "code",
   "execution_count": null,
   "metadata": {},
   "outputs": [],
   "source": [
    "response=doctor_prompt_disease_restricted_output_parser(medicalHistory, model, uniqueDiseases)"
   ]
  },
  {
   "cell_type": "code",
   "execution_count": null,
   "metadata": {},
   "outputs": [],
   "source": []
  }
 ],
 "metadata": {
  "kernelspec": {
   "display_name": "venv",
   "language": "python",
   "name": "python3"
  },
  "language_info": {
   "codemirror_mode": {
    "name": "ipython",
    "version": 3
   },
   "file_extension": ".py",
   "mimetype": "text/x-python",
   "name": "python",
   "nbconvert_exporter": "python",
   "pygments_lexer": "ipython3",
   "version": "3.10.11"
  }
 },
 "nbformat": 4,
 "nbformat_minor": 2
}
